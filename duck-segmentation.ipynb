{
 "cells": [
  {
   "cell_type": "markdown",
   "id": "4d783322",
   "metadata": {},
   "source": [
    "# Duck Segmentation\n",
    "\n",
    "This project builds an ML model that performs segmentation on the images that contain ducks.\n",
    "\n",
    "The architecture used for segmentatic segmention is YOLO (YOLOv8)."
   ]
  },
  {
   "cell_type": "markdown",
   "id": "3e68a7c6",
   "metadata": {},
   "source": [
    "---"
   ]
  },
  {
   "cell_type": "markdown",
   "id": "853a2453",
   "metadata": {},
   "source": [
    "## Image Labelling\n",
    "\n",
    "This image labelling tool used is: CVAT.\n",
    "\n",
    "For segmentation, the annotator used is primarily polygons, with coordinates available to download.\n",
    "\n",
    "<img src='snapshots/image-annotation.png' width='70%' height='auto' />"
   ]
  },
  {
   "cell_type": "markdown",
   "id": "93387a7c",
   "metadata": {},
   "source": [
    "With this, the **binary mask** is created for the respected image.\n",
    "\n",
    "<img src='label_samples/masks/00eb7860432c771a.png' width='50%' height='auto' />"
   ]
  },
  {
   "cell_type": "markdown",
   "id": "077d92a9",
   "metadata": {},
   "source": [
    "However, **label coordinates** are required for **YOLOv8**."
   ]
  },
  {
   "cell_type": "markdown",
   "id": "cfb1ab4e",
   "metadata": {},
   "source": [
    "### From binary mask to label coordinates"
   ]
  },
  {
   "cell_type": "code",
   "execution_count": 19,
   "id": "fd555756",
   "metadata": {},
   "outputs": [],
   "source": [
    "import os\n",
    "import cv2\n",
    "\n",
    "mask_dir = os.path.join('.', 'label_samples', 'masks')\n",
    "label_dir = os.path.join('.', 'label_samples', 'labels')\n",
    "\n",
    "for file in os.listdir(mask_dir):\n",
    "    mask_path = os.path.join(mask_dir, file)\n",
    "    \n",
    "    # Load binary mask\n",
    "    mask = cv2.imread(mask_path, cv2.IMREAD_GRAYSCALE)\n",
    "    _, mask = cv2.threshold(mask, 1, 255, cv2.THRESH_BINARY)\n",
    "    \n",
    "    mask_h, mask_w = mask.shape\n",
    "    contours, hierarchy = cv2.findContours(mask, cv2.RETR_EXTERNAL, cv2.CHAIN_APPROX_SIMPLE)\n",
    "    \n",
    "    # Converting contours to coordinates (polygons)\n",
    "    coordinates = []\n",
    "    for cnt in contours:\n",
    "        if cv2.contourArea(cnt) > 200:\n",
    "            coordinate = []\n",
    "            for point in cnt:\n",
    "                x, y = point[0]\n",
    "                coordinate.append(x / mask_w)\n",
    "                coordinate.append(y / mask_h)\n",
    "            coordinates.append(coordinate)\n",
    "            \n",
    "    # Printing coordinates\n",
    "    with open('{}.txt'.format(os.path.join(label_dir, file)[:-4]), 'w') as f:\n",
    "        for coordinate in coordinates:\n",
    "            for p_, p in enumerate(coordinate):\n",
    "                if p_ == len(coordinate) - 1:\n",
    "                    f.write('{}\\n'.format(p))\n",
    "                elif p_ == 0:\n",
    "                    f.write('0 {} '.format(p))\n",
    "                else:\n",
    "                    f.write('{} '.format(p))\n",
    "\n",
    "        f.close()"
   ]
  },
  {
   "cell_type": "markdown",
   "id": "22b4c8aa",
   "metadata": {},
   "source": [
    "---"
   ]
  },
  {
   "cell_type": "markdown",
   "id": "ed5b5d93",
   "metadata": {},
   "source": [
    "## Data preprocessing\n",
    "\n",
    "The data structure for this project is:\n",
    "* data/\n",
    "    * images/\n",
    "        * train/\n",
    "        * val/\n",
    "    * labels/\n",
    "        * train/\n",
    "        * val/"
   ]
  },
  {
   "cell_type": "markdown",
   "id": "81af0b5f",
   "metadata": {},
   "source": [
    "---"
   ]
  },
  {
   "cell_type": "markdown",
   "id": "6539349e",
   "metadata": {},
   "source": [
    "## Loading a pretrained model\n",
    "\n",
    "Performing transfer learning."
   ]
  },
  {
   "cell_type": "code",
   "execution_count": 7,
   "id": "7e94398f",
   "metadata": {},
   "outputs": [
    {
     "name": "stdout",
     "output_type": "stream",
     "text": [
      "Overwriting config.yaml\n"
     ]
    }
   ],
   "source": [
    "%%writefile config.yaml\n",
    "path: D:\\Personal\\Projects\\images\\computer-vision\\duck-segmentation # data path\n",
    "train: images/train\n",
    "val: images/val\n",
    "\n",
    "nc: 1 # number of classes\n",
    "names: ['duck'] # lass label"
   ]
  },
  {
   "cell_type": "markdown",
   "id": "76e92645",
   "metadata": {},
   "source": [
    "---"
   ]
  },
  {
   "cell_type": "markdown",
   "id": "8a5d1d24",
   "metadata": {},
   "source": [
    "## Training the model (Transfer Learning)"
   ]
  },
  {
   "cell_type": "code",
   "execution_count": null,
   "id": "19aa6a3e",
   "metadata": {
    "colab": {
     "base_uri": "https://localhost:8080/"
    },
    "executionInfo": {
     "elapsed": 1822744,
     "status": "ok",
     "timestamp": 1700450305517,
     "user": {
      "displayName": "Ta-Chun Lin",
      "userId": "02942249697903139367"
     },
     "user_tz": -600
    },
    "id": "_5yD3JDZbntm",
    "outputId": "7187c078-18b5-4ef4-f805-c12fa87bdf3f"
   },
   "outputs": [
    {
     "name": "stdout",
     "output_type": "stream",
     "text": [
      "Ultralytics YOLOv8.0.213 🚀 Python-3.10.12 torch-2.1.0+cu118 CUDA:0 (Tesla T4, 15102MiB)\n",
      "\u001b[34m\u001b[1mengine/trainer: \u001b[0mtask=segment, mode=train, model=yolov8n-seg.pt, data=/content/gdrive/MyDrive/Personal/Projects/computer-vision/duck-segmentation/config-colab.yaml, epochs=10, patience=50, batch=16, imgsz=640, save=True, save_period=-1, cache=False, device=None, workers=8, project=None, name=train2, exist_ok=False, pretrained=True, optimizer=auto, verbose=True, seed=0, deterministic=True, single_cls=False, rect=False, cos_lr=False, close_mosaic=10, resume=False, amp=True, fraction=1.0, profile=False, freeze=None, overlap_mask=True, mask_ratio=4, dropout=0.0, val=True, split=val, save_json=False, save_hybrid=False, conf=None, iou=0.7, max_det=300, half=False, dnn=False, plots=True, source=None, show=False, save_txt=False, save_conf=False, save_crop=False, show_labels=True, show_conf=True, vid_stride=1, stream_buffer=False, line_width=None, visualize=False, augment=False, agnostic_nms=False, classes=None, retina_masks=False, boxes=True, format=torchscript, keras=False, optimize=False, int8=False, dynamic=False, simplify=False, opset=None, workspace=4, nms=False, lr0=0.01, lrf=0.01, momentum=0.937, weight_decay=0.0005, warmup_epochs=3.0, warmup_momentum=0.8, warmup_bias_lr=0.1, box=7.5, cls=0.5, dfl=1.5, pose=12.0, kobj=1.0, label_smoothing=0.0, nbs=64, hsv_h=0.015, hsv_s=0.7, hsv_v=0.4, degrees=0.0, translate=0.1, scale=0.5, shear=0.0, perspective=0.0, flipud=0.0, fliplr=0.5, mosaic=1.0, mixup=0.0, copy_paste=0.0, cfg=None, tracker=botsort.yaml, save_dir=runs/segment/train2\n",
      "Overriding model.yaml nc=80 with nc=1\n",
      "\n",
      "                   from  n    params  module                                       arguments                     \n",
      "  0                  -1  1       464  ultralytics.nn.modules.conv.Conv             [3, 16, 3, 2]                 \n",
      "  1                  -1  1      4672  ultralytics.nn.modules.conv.Conv             [16, 32, 3, 2]                \n",
      "  2                  -1  1      7360  ultralytics.nn.modules.block.C2f             [32, 32, 1, True]             \n",
      "  3                  -1  1     18560  ultralytics.nn.modules.conv.Conv             [32, 64, 3, 2]                \n",
      "  4                  -1  2     49664  ultralytics.nn.modules.block.C2f             [64, 64, 2, True]             \n",
      "  5                  -1  1     73984  ultralytics.nn.modules.conv.Conv             [64, 128, 3, 2]               \n",
      "  6                  -1  2    197632  ultralytics.nn.modules.block.C2f             [128, 128, 2, True]           \n",
      "  7                  -1  1    295424  ultralytics.nn.modules.conv.Conv             [128, 256, 3, 2]              \n",
      "  8                  -1  1    460288  ultralytics.nn.modules.block.C2f             [256, 256, 1, True]           \n",
      "  9                  -1  1    164608  ultralytics.nn.modules.block.SPPF            [256, 256, 5]                 \n",
      " 10                  -1  1         0  torch.nn.modules.upsampling.Upsample         [None, 2, 'nearest']          \n",
      " 11             [-1, 6]  1         0  ultralytics.nn.modules.conv.Concat           [1]                           \n",
      " 12                  -1  1    148224  ultralytics.nn.modules.block.C2f             [384, 128, 1]                 \n",
      " 13                  -1  1         0  torch.nn.modules.upsampling.Upsample         [None, 2, 'nearest']          \n",
      " 14             [-1, 4]  1         0  ultralytics.nn.modules.conv.Concat           [1]                           \n",
      " 15                  -1  1     37248  ultralytics.nn.modules.block.C2f             [192, 64, 1]                  \n",
      " 16                  -1  1     36992  ultralytics.nn.modules.conv.Conv             [64, 64, 3, 2]                \n",
      " 17            [-1, 12]  1         0  ultralytics.nn.modules.conv.Concat           [1]                           \n",
      " 18                  -1  1    123648  ultralytics.nn.modules.block.C2f             [192, 128, 1]                 \n",
      " 19                  -1  1    147712  ultralytics.nn.modules.conv.Conv             [128, 128, 3, 2]              \n",
      " 20             [-1, 9]  1         0  ultralytics.nn.modules.conv.Concat           [1]                           \n",
      " 21                  -1  1    493056  ultralytics.nn.modules.block.C2f             [384, 256, 1]                 \n",
      " 22        [15, 18, 21]  1   1004275  ultralytics.nn.modules.head.Segment          [1, 32, 64, [64, 128, 256]]   \n",
      "YOLOv8n-seg summary: 261 layers, 3263811 parameters, 3263795 gradients, 12.1 GFLOPs\n",
      "\n",
      "Transferred 381/417 items from pretrained weights\n",
      "\u001b[34m\u001b[1mTensorBoard: \u001b[0mStart with 'tensorboard --logdir runs/segment/train2', view at http://localhost:6006/\n",
      "Freezing layer 'model.22.dfl.conv.weight'\n",
      "\u001b[34m\u001b[1mAMP: \u001b[0mrunning Automatic Mixed Precision (AMP) checks with YOLOv8n...\n",
      "\u001b[34m\u001b[1mAMP: \u001b[0mchecks passed ✅\n"
     ]
    },
    {
     "name": "stderr",
     "output_type": "stream",
     "text": [
      "\u001b[34m\u001b[1mtrain: \u001b[0mScanning /content/gdrive/MyDrive/Personal/Projects/computer-vision/duck-segmentation/data/labels/train.cache... 3965 images, 0 backgrounds, 0 corrupt: 100%|██████████| 3965/3965 [00:00<?, ?it/s]"
     ]
    },
    {
     "name": "stdout",
     "output_type": "stream",
     "text": [
      "\u001b[34m\u001b[1malbumentations: \u001b[0mBlur(p=0.01, blur_limit=(3, 7)), MedianBlur(p=0.01, blur_limit=(3, 7)), ToGray(p=0.01), CLAHE(p=0.01, clip_limit=(1, 4.0), tile_grid_size=(8, 8))\n"
     ]
    },
    {
     "name": "stderr",
     "output_type": "stream",
     "text": [
      "\n",
      "\u001b[34m\u001b[1mval: \u001b[0mScanning /content/gdrive/MyDrive/Personal/Projects/computer-vision/duck-segmentation/data/labels/val.cache... 189 images, 0 backgrounds, 0 corrupt: 100%|██████████| 189/189 [00:00<?, ?it/s]\n"
     ]
    },
    {
     "name": "stdout",
     "output_type": "stream",
     "text": [
      "Plotting labels to runs/segment/train2/labels.jpg... \n",
      "\u001b[34m\u001b[1moptimizer:\u001b[0m 'optimizer=auto' found, ignoring 'lr0=0.01' and 'momentum=0.937' and determining best 'optimizer', 'lr0' and 'momentum' automatically... \n",
      "\u001b[34m\u001b[1moptimizer:\u001b[0m AdamW(lr=0.002, momentum=0.9) with parameter groups 66 weight(decay=0.0), 77 weight(decay=0.0005), 76 bias(decay=0.0)\n",
      "Image sizes 640 train, 640 val\n",
      "Using 2 dataloader workers\n",
      "Logging results to \u001b[1mruns/segment/train2\u001b[0m\n",
      "Starting training for 10 epochs...\n",
      "Closing dataloader mosaic\n",
      "\u001b[34m\u001b[1malbumentations: \u001b[0mBlur(p=0.01, blur_limit=(3, 7)), MedianBlur(p=0.01, blur_limit=(3, 7)), ToGray(p=0.01), CLAHE(p=0.01, clip_limit=(1, 4.0), tile_grid_size=(8, 8))\n",
      "\n",
      "      Epoch    GPU_mem   box_loss   seg_loss   cls_loss   dfl_loss  Instances       Size\n"
     ]
    },
    {
     "name": "stderr",
     "output_type": "stream",
     "text": [
      "       1/10      3.38G      1.067      1.916      2.479      1.277         13        640: 100%|██████████| 248/248 [02:55<00:00,  1.41it/s]\n",
      "                 Class     Images  Instances      Box(P          R      mAP50  mAP50-95)     Mask(P          R      mAP50  mAP50-95): 100%|██████████| 6/6 [00:06<00:00,  1.01s/it]\n"
     ]
    },
    {
     "name": "stdout",
     "output_type": "stream",
     "text": [
      "                   all        189        201      0.581      0.662      0.557      0.338      0.592      0.667      0.565      0.354\n",
      "\n",
      "      Epoch    GPU_mem   box_loss   seg_loss   cls_loss   dfl_loss  Instances       Size\n"
     ]
    },
    {
     "name": "stderr",
     "output_type": "stream",
     "text": [
      "       2/10      3.28G      1.236      2.058       1.83      1.396         14        640: 100%|██████████| 248/248 [02:48<00:00,  1.47it/s]\n",
      "                 Class     Images  Instances      Box(P          R      mAP50  mAP50-95)     Mask(P          R      mAP50  mAP50-95): 100%|██████████| 6/6 [00:06<00:00,  1.02s/it]\n"
     ]
    },
    {
     "name": "stdout",
     "output_type": "stream",
     "text": [
      "                   all        189        201      0.653      0.694       0.67      0.441      0.628      0.701      0.662      0.368\n",
      "\n",
      "      Epoch    GPU_mem   box_loss   seg_loss   cls_loss   dfl_loss  Instances       Size\n"
     ]
    },
    {
     "name": "stderr",
     "output_type": "stream",
     "text": [
      "       3/10      3.28G      1.225      2.052      1.591       1.39         16        640: 100%|██████████| 248/248 [02:48<00:00,  1.47it/s]\n",
      "                 Class     Images  Instances      Box(P          R      mAP50  mAP50-95)     Mask(P          R      mAP50  mAP50-95): 100%|██████████| 6/6 [00:05<00:00,  1.08it/s]"
     ]
    },
    {
     "name": "stdout",
     "output_type": "stream",
     "text": [
      "                   all        189        201      0.692      0.694      0.716       0.49      0.719      0.677       0.72      0.501\n"
     ]
    },
    {
     "name": "stderr",
     "output_type": "stream",
     "text": [
      "\n"
     ]
    },
    {
     "name": "stdout",
     "output_type": "stream",
     "text": [
      "\n",
      "      Epoch    GPU_mem   box_loss   seg_loss   cls_loss   dfl_loss  Instances       Size\n"
     ]
    },
    {
     "name": "stderr",
     "output_type": "stream",
     "text": [
      "       4/10      3.27G      1.151      1.968       1.45      1.336         13        640: 100%|██████████| 248/248 [02:49<00:00,  1.46it/s]\n",
      "                 Class     Images  Instances      Box(P          R      mAP50  mAP50-95)     Mask(P          R      mAP50  mAP50-95): 100%|██████████| 6/6 [00:04<00:00,  1.38it/s]"
     ]
    },
    {
     "name": "stdout",
     "output_type": "stream",
     "text": [
      "                   all        189        201      0.679      0.677      0.656       0.44      0.602      0.602      0.567       0.31\n"
     ]
    },
    {
     "name": "stderr",
     "output_type": "stream",
     "text": [
      "\n"
     ]
    },
    {
     "name": "stdout",
     "output_type": "stream",
     "text": [
      "\n",
      "      Epoch    GPU_mem   box_loss   seg_loss   cls_loss   dfl_loss  Instances       Size\n"
     ]
    },
    {
     "name": "stderr",
     "output_type": "stream",
     "text": [
      "       5/10      3.27G      1.097      1.933      1.375      1.303         13        640: 100%|██████████| 248/248 [02:51<00:00,  1.45it/s]\n",
      "                 Class     Images  Instances      Box(P          R      mAP50  mAP50-95)     Mask(P          R      mAP50  mAP50-95): 100%|██████████| 6/6 [00:04<00:00,  1.32it/s]"
     ]
    },
    {
     "name": "stdout",
     "output_type": "stream",
     "text": [
      "                   all        189        201      0.749      0.687      0.736      0.527      0.746      0.682      0.727      0.522\n"
     ]
    },
    {
     "name": "stderr",
     "output_type": "stream",
     "text": [
      "\n"
     ]
    },
    {
     "name": "stdout",
     "output_type": "stream",
     "text": [
      "\n",
      "      Epoch    GPU_mem   box_loss   seg_loss   cls_loss   dfl_loss  Instances       Size\n"
     ]
    },
    {
     "name": "stderr",
     "output_type": "stream",
     "text": [
      "       6/10      3.27G      1.027      1.818       1.28      1.246         13        640: 100%|██████████| 248/248 [02:50<00:00,  1.45it/s]\n",
      "                 Class     Images  Instances      Box(P          R      mAP50  mAP50-95)     Mask(P          R      mAP50  mAP50-95): 100%|██████████| 6/6 [00:04<00:00,  1.42it/s]"
     ]
    },
    {
     "name": "stdout",
     "output_type": "stream",
     "text": [
      "                   all        189        201      0.681      0.776      0.761      0.542      0.698      0.747      0.759      0.523\n"
     ]
    },
    {
     "name": "stderr",
     "output_type": "stream",
     "text": [
      "\n"
     ]
    },
    {
     "name": "stdout",
     "output_type": "stream",
     "text": [
      "\n",
      "      Epoch    GPU_mem   box_loss   seg_loss   cls_loss   dfl_loss  Instances       Size\n"
     ]
    },
    {
     "name": "stderr",
     "output_type": "stream",
     "text": [
      "       7/10      3.27G     0.9728      1.744       1.22      1.217         14        640: 100%|██████████| 248/248 [02:51<00:00,  1.45it/s]\n",
      "                 Class     Images  Instances      Box(P          R      mAP50  mAP50-95)     Mask(P          R      mAP50  mAP50-95): 100%|██████████| 6/6 [00:04<00:00,  1.48it/s]"
     ]
    },
    {
     "name": "stdout",
     "output_type": "stream",
     "text": [
      "                   all        189        201      0.692      0.811      0.793      0.618      0.728      0.776       0.79      0.599\n"
     ]
    },
    {
     "name": "stderr",
     "output_type": "stream",
     "text": [
      "\n"
     ]
    },
    {
     "name": "stdout",
     "output_type": "stream",
     "text": [
      "\n",
      "      Epoch    GPU_mem   box_loss   seg_loss   cls_loss   dfl_loss  Instances       Size\n"
     ]
    },
    {
     "name": "stderr",
     "output_type": "stream",
     "text": [
      "       8/10      3.27G      0.923      1.593      1.162      1.185         13        640: 100%|██████████| 248/248 [02:51<00:00,  1.45it/s]\n",
      "                 Class     Images  Instances      Box(P          R      mAP50  mAP50-95)     Mask(P          R      mAP50  mAP50-95): 100%|██████████| 6/6 [00:04<00:00,  1.47it/s]"
     ]
    },
    {
     "name": "stdout",
     "output_type": "stream",
     "text": [
      "                   all        189        201       0.76      0.746      0.822      0.633      0.765      0.751      0.823      0.633\n"
     ]
    },
    {
     "name": "stderr",
     "output_type": "stream",
     "text": [
      "\n"
     ]
    },
    {
     "name": "stdout",
     "output_type": "stream",
     "text": [
      "\n",
      "      Epoch    GPU_mem   box_loss   seg_loss   cls_loss   dfl_loss  Instances       Size\n"
     ]
    },
    {
     "name": "stderr",
     "output_type": "stream",
     "text": [
      "       9/10      3.27G     0.8699      1.522      1.089      1.139         13        640: 100%|██████████| 248/248 [02:52<00:00,  1.44it/s]\n",
      "                 Class     Images  Instances      Box(P          R      mAP50  mAP50-95)     Mask(P          R      mAP50  mAP50-95): 100%|██████████| 6/6 [00:04<00:00,  1.43it/s]"
     ]
    },
    {
     "name": "stdout",
     "output_type": "stream",
     "text": [
      "                   all        189        201      0.728      0.841      0.834      0.675      0.724      0.836      0.833      0.657\n"
     ]
    },
    {
     "name": "stderr",
     "output_type": "stream",
     "text": [
      "\n"
     ]
    },
    {
     "name": "stdout",
     "output_type": "stream",
     "text": [
      "\n",
      "      Epoch    GPU_mem   box_loss   seg_loss   cls_loss   dfl_loss  Instances       Size\n"
     ]
    },
    {
     "name": "stderr",
     "output_type": "stream",
     "text": [
      "      10/10      3.27G     0.8175      1.435      1.042      1.107         13        640: 100%|██████████| 248/248 [02:51<00:00,  1.45it/s]\n",
      "                 Class     Images  Instances      Box(P          R      mAP50  mAP50-95)     Mask(P          R      mAP50  mAP50-95): 100%|██████████| 6/6 [00:04<00:00,  1.28it/s]"
     ]
    },
    {
     "name": "stdout",
     "output_type": "stream",
     "text": [
      "                   all        189        201      0.732       0.83       0.85      0.683      0.736      0.831      0.855      0.678\n"
     ]
    },
    {
     "name": "stderr",
     "output_type": "stream",
     "text": [
      "\n"
     ]
    },
    {
     "name": "stdout",
     "output_type": "stream",
     "text": [
      "\n",
      "10 epochs completed in 0.497 hours.\n",
      "Optimizer stripped from runs/segment/train2/weights/last.pt, 6.8MB\n",
      "Optimizer stripped from runs/segment/train2/weights/best.pt, 6.8MB\n",
      "\n",
      "Validating runs/segment/train2/weights/best.pt...\n",
      "Ultralytics YOLOv8.0.213 🚀 Python-3.10.12 torch-2.1.0+cu118 CUDA:0 (Tesla T4, 15102MiB)\n",
      "YOLOv8n-seg summary (fused): 195 layers, 3258259 parameters, 0 gradients, 12.0 GFLOPs\n"
     ]
    },
    {
     "name": "stderr",
     "output_type": "stream",
     "text": [
      "                 Class     Images  Instances      Box(P          R      mAP50  mAP50-95)     Mask(P          R      mAP50  mAP50-95): 100%|██████████| 6/6 [00:08<00:00,  1.39s/it]\n"
     ]
    },
    {
     "name": "stdout",
     "output_type": "stream",
     "text": [
      "                   all        189        201      0.732       0.83       0.85      0.683      0.736      0.831      0.855      0.678\n",
      "Speed: 1.3ms preprocess, 4.1ms inference, 0.0ms loss, 4.1ms postprocess per image\n",
      "Results saved to \u001b[1mruns/segment/train2\u001b[0m\n"
     ]
    },
    {
     "data": {
      "text/plain": [
       "ultralytics.utils.metrics.SegmentMetrics object with attributes:\n",
       "\n",
       "ap_class_index: array([0])\n",
       "box: ultralytics.utils.metrics.Metric object\n",
       "confusion_matrix: <ultralytics.utils.metrics.ConfusionMatrix object at 0x78a0dc3e5420>\n",
       "curves: ['Precision-Recall(B)', 'F1-Confidence(B)', 'Precision-Confidence(B)', 'Recall-Confidence(B)', 'Precision-Recall(M)', 'F1-Confidence(M)', 'Precision-Confidence(M)', 'Recall-Confidence(M)']\n",
       "curves_results: [[array([          0,    0.001001,    0.002002,    0.003003,    0.004004,    0.005005,    0.006006,    0.007007,    0.008008,    0.009009,     0.01001,    0.011011,    0.012012,    0.013013,    0.014014,    0.015015,    0.016016,    0.017017,    0.018018,    0.019019,     0.02002,    0.021021,    0.022022,    0.023023,\n",
       "          0.024024,    0.025025,    0.026026,    0.027027,    0.028028,    0.029029,     0.03003,    0.031031,    0.032032,    0.033033,    0.034034,    0.035035,    0.036036,    0.037037,    0.038038,    0.039039,     0.04004,    0.041041,    0.042042,    0.043043,    0.044044,    0.045045,    0.046046,    0.047047,\n",
       "          0.048048,    0.049049,     0.05005,    0.051051,    0.052052,    0.053053,    0.054054,    0.055055,    0.056056,    0.057057,    0.058058,    0.059059,     0.06006,    0.061061,    0.062062,    0.063063,    0.064064,    0.065065,    0.066066,    0.067067,    0.068068,    0.069069,     0.07007,    0.071071,\n",
       "          0.072072,    0.073073,    0.074074,    0.075075,    0.076076,    0.077077,    0.078078,    0.079079,     0.08008,    0.081081,    0.082082,    0.083083,    0.084084,    0.085085,    0.086086,    0.087087,    0.088088,    0.089089,     0.09009,    0.091091,    0.092092,    0.093093,    0.094094,    0.095095,\n",
       "          0.096096,    0.097097,    0.098098,    0.099099,      0.1001,      0.1011,      0.1021,      0.1031,      0.1041,     0.10511,     0.10611,     0.10711,     0.10811,     0.10911,     0.11011,     0.11111,     0.11211,     0.11311,     0.11411,     0.11512,     0.11612,     0.11712,     0.11812,     0.11912,\n",
       "           0.12012,     0.12112,     0.12212,     0.12312,     0.12412,     0.12513,     0.12613,     0.12713,     0.12813,     0.12913,     0.13013,     0.13113,     0.13213,     0.13313,     0.13413,     0.13514,     0.13614,     0.13714,     0.13814,     0.13914,     0.14014,     0.14114,     0.14214,     0.14314,\n",
       "           0.14414,     0.14515,     0.14615,     0.14715,     0.14815,     0.14915,     0.15015,     0.15115,     0.15215,     0.15315,     0.15415,     0.15516,     0.15616,     0.15716,     0.15816,     0.15916,     0.16016,     0.16116,     0.16216,     0.16316,     0.16416,     0.16517,     0.16617,     0.16717,\n",
       "           0.16817,     0.16917,     0.17017,     0.17117,     0.17217,     0.17317,     0.17417,     0.17518,     0.17618,     0.17718,     0.17818,     0.17918,     0.18018,     0.18118,     0.18218,     0.18318,     0.18418,     0.18519,     0.18619,     0.18719,     0.18819,     0.18919,     0.19019,     0.19119,\n",
       "           0.19219,     0.19319,     0.19419,      0.1952,      0.1962,      0.1972,      0.1982,      0.1992,      0.2002,      0.2012,      0.2022,      0.2032,      0.2042,     0.20521,     0.20621,     0.20721,     0.20821,     0.20921,     0.21021,     0.21121,     0.21221,     0.21321,     0.21421,     0.21522,\n",
       "           0.21622,     0.21722,     0.21822,     0.21922,     0.22022,     0.22122,     0.22222,     0.22322,     0.22422,     0.22523,     0.22623,     0.22723,     0.22823,     0.22923,     0.23023,     0.23123,     0.23223,     0.23323,     0.23423,     0.23524,     0.23624,     0.23724,     0.23824,     0.23924,\n",
       "           0.24024,     0.24124,     0.24224,     0.24324,     0.24424,     0.24525,     0.24625,     0.24725,     0.24825,     0.24925,     0.25025,     0.25125,     0.25225,     0.25325,     0.25425,     0.25526,     0.25626,     0.25726,     0.25826,     0.25926,     0.26026,     0.26126,     0.26226,     0.26326,\n",
       "           0.26426,     0.26527,     0.26627,     0.26727,     0.26827,     0.26927,     0.27027,     0.27127,     0.27227,     0.27327,     0.27427,     0.27528,     0.27628,     0.27728,     0.27828,     0.27928,     0.28028,     0.28128,     0.28228,     0.28328,     0.28428,     0.28529,     0.28629,     0.28729,\n",
       "           0.28829,     0.28929,     0.29029,     0.29129,     0.29229,     0.29329,     0.29429,      0.2953,      0.2963,      0.2973,      0.2983,      0.2993,      0.3003,      0.3013,      0.3023,      0.3033,      0.3043,     0.30531,     0.30631,     0.30731,     0.30831,     0.30931,     0.31031,     0.31131,\n",
       "           0.31231,     0.31331,     0.31431,     0.31532,     0.31632,     0.31732,     0.31832,     0.31932,     0.32032,     0.32132,     0.32232,     0.32332,     0.32432,     0.32533,     0.32633,     0.32733,     0.32833,     0.32933,     0.33033,     0.33133,     0.33233,     0.33333,     0.33433,     0.33534,\n",
       "           0.33634,     0.33734,     0.33834,     0.33934,     0.34034,     0.34134,     0.34234,     0.34334,     0.34434,     0.34535,     0.34635,     0.34735,     0.34835,     0.34935,     0.35035,     0.35135,     0.35235,     0.35335,     0.35435,     0.35536,     0.35636,     0.35736,     0.35836,     0.35936,\n",
       "           0.36036,     0.36136,     0.36236,     0.36336,     0.36436,     0.36537,     0.36637,     0.36737,     0.36837,     0.36937,     0.37037,     0.37137,     0.37237,     0.37337,     0.37437,     0.37538,     0.37638,     0.37738,     0.37838,     0.37938,     0.38038,     0.38138,     0.38238,     0.38338,\n",
       "           0.38438,     0.38539,     0.38639,     0.38739,     0.38839,     0.38939,     0.39039,     0.39139,     0.39239,     0.39339,     0.39439,      0.3954,      0.3964,      0.3974,      0.3984,      0.3994,      0.4004,      0.4014,      0.4024,      0.4034,      0.4044,     0.40541,     0.40641,     0.40741,\n",
       "           0.40841,     0.40941,     0.41041,     0.41141,     0.41241,     0.41341,     0.41441,     0.41542,     0.41642,     0.41742,     0.41842,     0.41942,     0.42042,     0.42142,     0.42242,     0.42342,     0.42442,     0.42543,     0.42643,     0.42743,     0.42843,     0.42943,     0.43043,     0.43143,\n",
       "           0.43243,     0.43343,     0.43443,     0.43544,     0.43644,     0.43744,     0.43844,     0.43944,     0.44044,     0.44144,     0.44244,     0.44344,     0.44444,     0.44545,     0.44645,     0.44745,     0.44845,     0.44945,     0.45045,     0.45145,     0.45245,     0.45345,     0.45445,     0.45546,\n",
       "           0.45646,     0.45746,     0.45846,     0.45946,     0.46046,     0.46146,     0.46246,     0.46346,     0.46446,     0.46547,     0.46647,     0.46747,     0.46847,     0.46947,     0.47047,     0.47147,     0.47247,     0.47347,     0.47447,     0.47548,     0.47648,     0.47748,     0.47848,     0.47948,\n",
       "           0.48048,     0.48148,     0.48248,     0.48348,     0.48448,     0.48549,     0.48649,     0.48749,     0.48849,     0.48949,     0.49049,     0.49149,     0.49249,     0.49349,     0.49449,      0.4955,      0.4965,      0.4975,      0.4985,      0.4995,      0.5005,      0.5015,      0.5025,      0.5035,\n",
       "            0.5045,     0.50551,     0.50651,     0.50751,     0.50851,     0.50951,     0.51051,     0.51151,     0.51251,     0.51351,     0.51451,     0.51552,     0.51652,     0.51752,     0.51852,     0.51952,     0.52052,     0.52152,     0.52252,     0.52352,     0.52452,     0.52553,     0.52653,     0.52753,\n",
       "           0.52853,     0.52953,     0.53053,     0.53153,     0.53253,     0.53353,     0.53453,     0.53554,     0.53654,     0.53754,     0.53854,     0.53954,     0.54054,     0.54154,     0.54254,     0.54354,     0.54454,     0.54555,     0.54655,     0.54755,     0.54855,     0.54955,     0.55055,     0.55155,\n",
       "           0.55255,     0.55355,     0.55455,     0.55556,     0.55656,     0.55756,     0.55856,     0.55956,     0.56056,     0.56156,     0.56256,     0.56356,     0.56456,     0.56557,     0.56657,     0.56757,     0.56857,     0.56957,     0.57057,     0.57157,     0.57257,     0.57357,     0.57457,     0.57558,\n",
       "           0.57658,     0.57758,     0.57858,     0.57958,     0.58058,     0.58158,     0.58258,     0.58358,     0.58458,     0.58559,     0.58659,     0.58759,     0.58859,     0.58959,     0.59059,     0.59159,     0.59259,     0.59359,     0.59459,      0.5956,      0.5966,      0.5976,      0.5986,      0.5996,\n",
       "            0.6006,      0.6016,      0.6026,      0.6036,      0.6046,     0.60561,     0.60661,     0.60761,     0.60861,     0.60961,     0.61061,     0.61161,     0.61261,     0.61361,     0.61461,     0.61562,     0.61662,     0.61762,     0.61862,     0.61962,     0.62062,     0.62162,     0.62262,     0.62362,\n",
       "           0.62462,     0.62563,     0.62663,     0.62763,     0.62863,     0.62963,     0.63063,     0.63163,     0.63263,     0.63363,     0.63463,     0.63564,     0.63664,     0.63764,     0.63864,     0.63964,     0.64064,     0.64164,     0.64264,     0.64364,     0.64464,     0.64565,     0.64665,     0.64765,\n",
       "           0.64865,     0.64965,     0.65065,     0.65165,     0.65265,     0.65365,     0.65465,     0.65566,     0.65666,     0.65766,     0.65866,     0.65966,     0.66066,     0.66166,     0.66266,     0.66366,     0.66466,     0.66567,     0.66667,     0.66767,     0.66867,     0.66967,     0.67067,     0.67167,\n",
       "           0.67267,     0.67367,     0.67467,     0.67568,     0.67668,     0.67768,     0.67868,     0.67968,     0.68068,     0.68168,     0.68268,     0.68368,     0.68468,     0.68569,     0.68669,     0.68769,     0.68869,     0.68969,     0.69069,     0.69169,     0.69269,     0.69369,     0.69469,      0.6957,\n",
       "            0.6967,      0.6977,      0.6987,      0.6997,      0.7007,      0.7017,      0.7027,      0.7037,      0.7047,     0.70571,     0.70671,     0.70771,     0.70871,     0.70971,     0.71071,     0.71171,     0.71271,     0.71371,     0.71471,     0.71572,     0.71672,     0.71772,     0.71872,     0.71972,\n",
       "           0.72072,     0.72172,     0.72272,     0.72372,     0.72472,     0.72573,     0.72673,     0.72773,     0.72873,     0.72973,     0.73073,     0.73173,     0.73273,     0.73373,     0.73473,     0.73574,     0.73674,     0.73774,     0.73874,     0.73974,     0.74074,     0.74174,     0.74274,     0.74374,\n",
       "           0.74474,     0.74575,     0.74675,     0.74775,     0.74875,     0.74975,     0.75075,     0.75175,     0.75275,     0.75375,     0.75475,     0.75576,     0.75676,     0.75776,     0.75876,     0.75976,     0.76076,     0.76176,     0.76276,     0.76376,     0.76476,     0.76577,     0.76677,     0.76777,\n",
       "           0.76877,     0.76977,     0.77077,     0.77177,     0.77277,     0.77377,     0.77477,     0.77578,     0.77678,     0.77778,     0.77878,     0.77978,     0.78078,     0.78178,     0.78278,     0.78378,     0.78478,     0.78579,     0.78679,     0.78779,     0.78879,     0.78979,     0.79079,     0.79179,\n",
       "           0.79279,     0.79379,     0.79479,      0.7958,      0.7968,      0.7978,      0.7988,      0.7998,      0.8008,      0.8018,      0.8028,      0.8038,      0.8048,     0.80581,     0.80681,     0.80781,     0.80881,     0.80981,     0.81081,     0.81181,     0.81281,     0.81381,     0.81481,     0.81582,\n",
       "           0.81682,     0.81782,     0.81882,     0.81982,     0.82082,     0.82182,     0.82282,     0.82382,     0.82482,     0.82583,     0.82683,     0.82783,     0.82883,     0.82983,     0.83083,     0.83183,     0.83283,     0.83383,     0.83483,     0.83584,     0.83684,     0.83784,     0.83884,     0.83984,\n",
       "           0.84084,     0.84184,     0.84284,     0.84384,     0.84484,     0.84585,     0.84685,     0.84785,     0.84885,     0.84985,     0.85085,     0.85185,     0.85285,     0.85385,     0.85485,     0.85586,     0.85686,     0.85786,     0.85886,     0.85986,     0.86086,     0.86186,     0.86286,     0.86386,\n",
       "           0.86486,     0.86587,     0.86687,     0.86787,     0.86887,     0.86987,     0.87087,     0.87187,     0.87287,     0.87387,     0.87487,     0.87588,     0.87688,     0.87788,     0.87888,     0.87988,     0.88088,     0.88188,     0.88288,     0.88388,     0.88488,     0.88589,     0.88689,     0.88789,\n",
       "           0.88889,     0.88989,     0.89089,     0.89189,     0.89289,     0.89389,     0.89489,      0.8959,      0.8969,      0.8979,      0.8989,      0.8999,      0.9009,      0.9019,      0.9029,      0.9039,      0.9049,     0.90591,     0.90691,     0.90791,     0.90891,     0.90991,     0.91091,     0.91191,\n",
       "           0.91291,     0.91391,     0.91491,     0.91592,     0.91692,     0.91792,     0.91892,     0.91992,     0.92092,     0.92192,     0.92292,     0.92392,     0.92492,     0.92593,     0.92693,     0.92793,     0.92893,     0.92993,     0.93093,     0.93193,     0.93293,     0.93393,     0.93493,     0.93594,\n",
       "           0.93694,     0.93794,     0.93894,     0.93994,     0.94094,     0.94194,     0.94294,     0.94394,     0.94494,     0.94595,     0.94695,     0.94795,     0.94895,     0.94995,     0.95095,     0.95195,     0.95295,     0.95395,     0.95495,     0.95596,     0.95696,     0.95796,     0.95896,     0.95996,\n",
       "           0.96096,     0.96196,     0.96296,     0.96396,     0.96496,     0.96597,     0.96697,     0.96797,     0.96897,     0.96997,     0.97097,     0.97197,     0.97297,     0.97397,     0.97497,     0.97598,     0.97698,     0.97798,     0.97898,     0.97998,     0.98098,     0.98198,     0.98298,     0.98398,\n",
       "           0.98498,     0.98599,     0.98699,     0.98799,     0.98899,     0.98999,     0.99099,     0.99199,     0.99299,     0.99399,     0.99499,       0.996,       0.997,       0.998,       0.999,           1]), array([[          1,           1,           1,           1,           1,           1,           1,           1,           1,           1,           1,           1,           1,           1,           1,           1,           1,           1,           1,           1,           1,           1,           1,\n",
       "                  1,           1,           1,           1,           1,           1,           1,           1,           1,           1,           1,           1,           1,           1,           1,           1,           1,           1,           1,           1,           1,           1,           1,\n",
       "                  1,           1,           1,           1,           1,           1,           1,           1,           1,           1,           1,           1,           1,           1,           1,           1,           1,           1,           1,           1,           1,           1,           1,\n",
       "                  1,           1,           1,           1,           1,           1,           1,           1,           1,           1,           1,           1,           1,           1,           1,           1,           1,           1,           1,           1,           1,           1,           1,\n",
       "                  1,           1,           1,           1,           1,           1,           1,           1,           1,           1,           1,           1,           1,           1,           1,           1,           1,           1,           1,           1,           1,           1,           1,\n",
       "                  1,           1,           1,           1,           1,           1,           1,           1,           1,           1,           1,           1,           1,           1,           1,           1,           1,           1,           1,           1,           1,           1,           1,\n",
       "                  1,           1,           1,           1,           1,           1,           1,           1,           1,           1,           1,           1,           1,           1,           1,           1,           1,           1,           1,           1,           1,           1,           1,\n",
       "                  1,           1,           1,           1,           1,           1,           1,           1,           1,           1,           1,           1,           1,           1,           1,           1,           1,           1,           1,           1,           1,           1,           1,\n",
       "                  1,           1,           1,           1,           1,           1,           1,           1,           1,           1,           1,           1,           1,           1,           1,           1,           1,           1,           1,           1,           1,           1,           1,\n",
       "                  1,           1,           1,           1,           1,           1,           1,           1,           1,           1,           1,           1,           1,           1,           1,           1,           1,           1,           1,           1,           1,           1,           1,\n",
       "                  1,           1,           1,           1,           1,           1,           1,           1,           1,           1,           1,           1,           1,           1,           1,           1,           1,           1,           1,           1,           1,           1,           1,\n",
       "                  1,           1,           1,           1,           1,           1,           1,           1,           1,           1,           1,           1,           1,           1,           1,           1,           1,           1,           1,           1,           1,     0.98462,     0.98462,\n",
       "            0.98462,     0.98462,     0.98462,     0.98462,     0.98462,     0.98462,     0.98462,     0.98462,     0.98462,     0.98462,     0.98462,     0.98462,     0.98462,     0.98462,     0.98462,     0.98462,     0.98462,     0.98462,     0.98462,     0.98462,     0.98462,     0.98462,     0.98462,\n",
       "            0.98462,     0.98462,     0.98462,     0.98462,     0.98462,     0.98462,     0.98462,     0.98462,     0.98462,     0.98462,     0.98462,     0.98462,     0.98462,     0.98462,     0.98462,     0.98462,     0.98462,     0.98462,     0.98462,     0.98462,     0.97403,     0.97403,     0.97403,\n",
       "            0.97403,     0.97403,     0.97403,     0.97403,     0.97403,     0.97403,     0.97403,     0.97403,     0.97403,     0.97403,     0.97403,     0.97403,     0.97403,     0.97403,     0.97403,     0.97403,     0.97403,     0.97403,     0.97403,     0.97403,     0.97403,     0.97403,     0.97403,\n",
       "            0.97403,     0.97403,     0.97403,     0.97403,     0.97403,     0.97403,     0.97403,     0.97403,     0.97403,     0.97403,     0.97403,     0.97403,     0.97403,     0.97403,     0.97403,     0.97403,     0.97403,     0.97403,     0.97403,     0.97403,     0.97403,     0.97403,     0.97403,\n",
       "            0.97403,     0.97403,     0.97403,     0.97403,     0.97403,      0.9697,      0.9697,      0.9697,      0.9697,      0.9697,      0.9697,      0.9697,      0.9697,      0.9697,      0.9697,      0.9697,      0.9697,      0.9697,      0.9697,      0.9697,      0.9697,      0.9697,      0.9697,\n",
       "             0.9697,      0.9697,      0.9697,      0.9697,      0.9697,      0.9697,      0.9697,      0.9697,      0.9697,      0.9697,      0.9697,      0.9697,      0.9697,      0.9697,      0.9697,      0.9697,      0.9697,      0.9697,      0.9697,      0.9697,      0.9697,      0.9697,      0.9697,\n",
       "             0.9697,      0.9697,      0.9697,      0.9697,      0.9697,      0.9697,      0.9697,      0.9697,      0.9697,      0.9697,      0.9697,      0.9697,      0.9697,      0.9697,      0.9697,      0.9697,      0.9697,      0.9697,      0.9697,      0.9697,      0.9697,      0.9697,      0.9697,\n",
       "             0.9697,      0.9697,      0.9697,      0.9697,      0.9697,      0.9697,      0.9697,      0.9697,      0.9697,      0.9697,      0.9697,      0.9697,      0.9697,      0.9697,      0.9697,      0.9697,      0.9697,      0.9697,      0.9697,      0.9697,      0.9697,      0.9697,      0.9697,\n",
       "             0.9697,      0.9697,      0.9697,      0.9697,      0.9697,      0.9697,      0.9697,      0.9697,      0.9697,      0.9697,      0.9697,      0.9697,      0.9697,      0.9697,      0.9697,      0.9697,      0.9697,      0.9697,     0.96667,     0.96667,     0.96667,     0.96667,     0.96667,\n",
       "            0.96667,     0.96667,     0.96667,     0.96667,     0.96667,     0.96667,     0.96667,     0.96667,     0.96667,     0.96667,     0.96667,     0.96667,     0.96667,     0.96667,     0.96667,     0.96667,     0.96667,     0.96667,     0.96667,     0.96667,     0.96667,     0.96667,     0.96667,\n",
       "            0.96667,     0.96667,     0.96667,     0.96667,     0.96667,     0.96667,     0.96667,     0.96667,     0.96667,     0.96667,     0.96667,     0.96667,     0.96667,     0.96667,     0.96667,     0.96667,     0.96667,     0.96667,     0.96667,     0.96667,     0.96667,     0.96667,     0.96667,\n",
       "            0.96667,     0.96667,     0.96667,     0.96667,     0.96667,     0.96667,     0.96667,     0.96667,     0.96667,     0.96667,     0.96667,     0.96667,     0.96667,     0.96667,     0.96667,     0.96667,     0.96667,     0.96667,     0.96667,     0.96667,     0.96667,     0.96667,     0.96667,\n",
       "            0.96667,     0.96667,     0.96667,     0.96667,     0.96667,     0.96667,     0.96667,     0.96667,     0.96667,     0.96667,     0.96667,     0.96667,     0.96667,     0.96667,     0.96667,     0.96667,     0.96667,     0.96667,     0.96667,     0.96667,     0.96667,     0.96667,     0.96667,\n",
       "            0.96667,     0.96667,     0.96094,     0.96094,     0.96094,     0.96094,     0.96094,     0.96094,     0.96094,     0.96094,     0.96094,     0.96094,     0.96094,     0.96094,     0.96094,     0.96094,     0.96094,     0.96094,     0.96094,     0.96094,     0.96094,     0.96094,     0.96094,\n",
       "            0.96094,     0.96094,     0.96094,     0.96094,     0.96094,     0.96094,     0.96094,     0.96094,     0.96094,     0.96094,     0.96094,     0.96094,     0.96094,     0.96094,     0.95385,     0.95385,     0.95385,     0.95385,     0.95385,      0.9403,      0.9403,      0.9403,      0.9403,\n",
       "             0.9403,      0.9403,      0.9403,      0.9403,      0.9403,      0.9403,     0.93431,     0.93431,     0.93431,     0.93431,     0.93431,     0.93431,     0.93431,     0.93431,     0.93431,     0.93431,     0.88591,     0.88591,     0.88591,     0.88591,     0.88591,     0.88591,     0.88591,\n",
       "            0.88591,     0.88591,     0.88591,     0.88591,     0.88591,     0.88591,     0.88591,     0.88591,     0.88591,     0.88591,     0.88591,     0.88591,     0.88591,     0.88079,     0.88079,     0.88079,     0.88079,     0.88079,     0.87342,     0.87342,     0.87342,     0.87342,     0.87342,\n",
       "            0.87342,     0.87342,     0.87342,     0.87342,     0.87342,     0.87342,     0.87342,     0.87342,     0.87342,     0.87342,     0.87342,     0.87342,     0.87342,     0.87342,     0.87342,     0.87342,     0.87342,     0.87342,     0.87342,     0.86875,     0.86875,     0.86875,     0.86875,\n",
       "            0.86875,     0.85366,     0.85366,     0.85366,     0.85366,     0.85366,     0.83041,     0.83041,     0.83041,     0.83041,     0.83041,     0.83041,     0.83041,     0.83041,     0.83041,     0.83041,     0.82386,     0.82386,     0.82386,     0.82386,     0.82386,     0.82386,     0.82386,\n",
       "            0.82386,     0.82386,     0.82386,     0.82386,     0.82386,     0.82386,     0.82386,     0.82386,     0.81564,     0.81564,     0.81564,     0.81564,     0.81564,     0.80541,     0.80541,     0.80541,     0.80541,     0.80541,     0.80541,     0.80541,     0.80541,     0.80541,     0.80541,\n",
       "            0.80541,     0.80541,     0.80541,     0.80541,     0.80541,     0.79787,     0.79787,     0.79787,     0.79787,     0.79787,     0.79581,     0.79581,     0.79581,     0.79581,     0.79581,     0.79581,     0.79581,     0.79581,     0.79581,     0.79581,     0.78866,     0.78866,     0.78866,\n",
       "            0.78866,     0.78866,     0.77387,     0.77387,     0.77387,     0.77387,     0.77387,     0.77114,     0.77114,     0.77114,     0.77114,     0.77114,     0.76098,     0.76098,     0.76098,     0.76098,     0.76098,     0.74882,     0.74882,     0.74882,     0.74882,     0.74882,     0.74882,\n",
       "            0.74882,     0.74882,     0.74882,     0.74882,     0.74771,     0.74771,     0.74771,     0.74771,     0.74771,     0.74771,     0.74771,     0.74771,     0.74771,     0.74771,     0.74771,     0.74771,     0.74771,     0.74771,     0.74771,     0.74771,     0.74771,     0.74771,     0.74771,\n",
       "            0.74771,     0.74771,     0.74771,     0.74771,     0.74771,     0.74771,     0.74545,     0.74545,     0.74545,     0.74545,     0.74545,     0.73991,     0.73991,     0.73991,     0.73991,     0.73991,     0.73246,     0.73246,     0.73246,     0.73246,     0.73246,     0.73246,     0.73246,\n",
       "            0.73246,     0.73246,     0.73246,     0.73043,     0.73043,     0.73043,     0.73043,     0.72532,     0.72532,     0.72532,     0.72532,     0.72532,     0.71429,     0.71429,     0.71429,     0.71429,     0.71429,     0.71369,     0.71369,     0.71369,     0.71369,     0.71369,     0.71369,\n",
       "            0.71369,     0.71369,     0.71369,     0.71369,     0.68379,     0.68379,     0.68379,     0.68379,     0.68379,     0.67954,     0.67954,     0.67954,     0.67954,     0.67954,     0.67954,     0.67954,     0.67954,     0.67954,     0.67954,     0.67954,     0.67954,     0.67954,     0.67954,\n",
       "            0.67954,     0.67681,     0.67681,     0.67681,     0.67681,     0.67681,     0.67681,     0.67681,     0.67681,     0.67681,     0.67681,     0.66543,     0.66543,     0.66543,     0.66543,     0.66543,     0.66421,     0.66421,     0.66421,     0.66421,     0.66421,     0.65108,     0.65108,\n",
       "            0.65108,     0.65108,     0.65108,     0.64311,     0.64311,     0.64311,     0.64311,     0.64311,     0.58095,     0.58095,     0.58095,     0.58095,     0.58095,     0.55589,     0.55589,     0.55589,     0.55589,     0.55589,      0.4195,      0.4195,      0.4195,      0.4195,      0.4195,\n",
       "            0.36614,     0.36614,     0.36614,     0.36614,     0.36614,     0.23201,     0.23201,     0.23201,     0.23201,     0.23201,     0.20912,     0.20912,     0.20912,     0.20912,     0.20912,     0.19565,     0.19565,     0.19565,     0.19565,     0.19565,     0.15115,     0.15115,     0.15115,\n",
       "            0.15115,     0.15115,    0.071985,    0.070652,    0.069319,    0.067986,    0.066653,     0.06532,    0.063987,    0.062654,    0.061321,    0.059988,    0.058655,    0.057322,    0.055989,    0.054656,    0.053322,    0.051989,    0.050656,    0.049323,     0.04799,    0.046657,    0.045324,\n",
       "           0.043991,    0.042658,    0.041325,    0.039992,    0.038659,    0.037326,    0.035993,     0.03466,    0.033327,    0.031993,     0.03066,    0.029327,    0.027994,    0.026661,    0.025328,    0.023995,    0.022662,    0.021329,    0.019996,    0.018663,     0.01733,    0.015997,    0.014664,\n",
       "           0.013331,    0.011998,    0.010664,   0.0093314,   0.0079984,   0.0066653,   0.0053322,   0.0039992,   0.0026661,   0.0013331,           0]]), 'Recall', 'Precision'], [array([          0,    0.001001,    0.002002,    0.003003,    0.004004,    0.005005,    0.006006,    0.007007,    0.008008,    0.009009,     0.01001,    0.011011,    0.012012,    0.013013,    0.014014,    0.015015,    0.016016,    0.017017,    0.018018,    0.019019,     0.02002,    0.021021,    0.022022,    0.023023,\n",
       "          0.024024,    0.025025,    0.026026,    0.027027,    0.028028,    0.029029,     0.03003,    0.031031,    0.032032,    0.033033,    0.034034,    0.035035,    0.036036,    0.037037,    0.038038,    0.039039,     0.04004,    0.041041,    0.042042,    0.043043,    0.044044,    0.045045,    0.046046,    0.047047,\n",
       "          0.048048,    0.049049,     0.05005,    0.051051,    0.052052,    0.053053,    0.054054,    0.055055,    0.056056,    0.057057,    0.058058,    0.059059,     0.06006,    0.061061,    0.062062,    0.063063,    0.064064,    0.065065,    0.066066,    0.067067,    0.068068,    0.069069,     0.07007,    0.071071,\n",
       "          0.072072,    0.073073,    0.074074,    0.075075,    0.076076,    0.077077,    0.078078,    0.079079,     0.08008,    0.081081,    0.082082,    0.083083,    0.084084,    0.085085,    0.086086,    0.087087,    0.088088,    0.089089,     0.09009,    0.091091,    0.092092,    0.093093,    0.094094,    0.095095,\n",
       "          0.096096,    0.097097,    0.098098,    0.099099,      0.1001,      0.1011,      0.1021,      0.1031,      0.1041,     0.10511,     0.10611,     0.10711,     0.10811,     0.10911,     0.11011,     0.11111,     0.11211,     0.11311,     0.11411,     0.11512,     0.11612,     0.11712,     0.11812,     0.11912,\n",
       "           0.12012,     0.12112,     0.12212,     0.12312,     0.12412,     0.12513,     0.12613,     0.12713,     0.12813,     0.12913,     0.13013,     0.13113,     0.13213,     0.13313,     0.13413,     0.13514,     0.13614,     0.13714,     0.13814,     0.13914,     0.14014,     0.14114,     0.14214,     0.14314,\n",
       "           0.14414,     0.14515,     0.14615,     0.14715,     0.14815,     0.14915,     0.15015,     0.15115,     0.15215,     0.15315,     0.15415,     0.15516,     0.15616,     0.15716,     0.15816,     0.15916,     0.16016,     0.16116,     0.16216,     0.16316,     0.16416,     0.16517,     0.16617,     0.16717,\n",
       "           0.16817,     0.16917,     0.17017,     0.17117,     0.17217,     0.17317,     0.17417,     0.17518,     0.17618,     0.17718,     0.17818,     0.17918,     0.18018,     0.18118,     0.18218,     0.18318,     0.18418,     0.18519,     0.18619,     0.18719,     0.18819,     0.18919,     0.19019,     0.19119,\n",
       "           0.19219,     0.19319,     0.19419,      0.1952,      0.1962,      0.1972,      0.1982,      0.1992,      0.2002,      0.2012,      0.2022,      0.2032,      0.2042,     0.20521,     0.20621,     0.20721,     0.20821,     0.20921,     0.21021,     0.21121,     0.21221,     0.21321,     0.21421,     0.21522,\n",
       "           0.21622,     0.21722,     0.21822,     0.21922,     0.22022,     0.22122,     0.22222,     0.22322,     0.22422,     0.22523,     0.22623,     0.22723,     0.22823,     0.22923,     0.23023,     0.23123,     0.23223,     0.23323,     0.23423,     0.23524,     0.23624,     0.23724,     0.23824,     0.23924,\n",
       "           0.24024,     0.24124,     0.24224,     0.24324,     0.24424,     0.24525,     0.24625,     0.24725,     0.24825,     0.24925,     0.25025,     0.25125,     0.25225,     0.25325,     0.25425,     0.25526,     0.25626,     0.25726,     0.25826,     0.25926,     0.26026,     0.26126,     0.26226,     0.26326,\n",
       "           0.26426,     0.26527,     0.26627,     0.26727,     0.26827,     0.26927,     0.27027,     0.27127,     0.27227,     0.27327,     0.27427,     0.27528,     0.27628,     0.27728,     0.27828,     0.27928,     0.28028,     0.28128,     0.28228,     0.28328,     0.28428,     0.28529,     0.28629,     0.28729,\n",
       "           0.28829,     0.28929,     0.29029,     0.29129,     0.29229,     0.29329,     0.29429,      0.2953,      0.2963,      0.2973,      0.2983,      0.2993,      0.3003,      0.3013,      0.3023,      0.3033,      0.3043,     0.30531,     0.30631,     0.30731,     0.30831,     0.30931,     0.31031,     0.31131,\n",
       "           0.31231,     0.31331,     0.31431,     0.31532,     0.31632,     0.31732,     0.31832,     0.31932,     0.32032,     0.32132,     0.32232,     0.32332,     0.32432,     0.32533,     0.32633,     0.32733,     0.32833,     0.32933,     0.33033,     0.33133,     0.33233,     0.33333,     0.33433,     0.33534,\n",
       "           0.33634,     0.33734,     0.33834,     0.33934,     0.34034,     0.34134,     0.34234,     0.34334,     0.34434,     0.34535,     0.34635,     0.34735,     0.34835,     0.34935,     0.35035,     0.35135,     0.35235,     0.35335,     0.35435,     0.35536,     0.35636,     0.35736,     0.35836,     0.35936,\n",
       "           0.36036,     0.36136,     0.36236,     0.36336,     0.36436,     0.36537,     0.36637,     0.36737,     0.36837,     0.36937,     0.37037,     0.37137,     0.37237,     0.37337,     0.37437,     0.37538,     0.37638,     0.37738,     0.37838,     0.37938,     0.38038,     0.38138,     0.38238,     0.38338,\n",
       "           0.38438,     0.38539,     0.38639,     0.38739,     0.38839,     0.38939,     0.39039,     0.39139,     0.39239,     0.39339,     0.39439,      0.3954,      0.3964,      0.3974,      0.3984,      0.3994,      0.4004,      0.4014,      0.4024,      0.4034,      0.4044,     0.40541,     0.40641,     0.40741,\n",
       "           0.40841,     0.40941,     0.41041,     0.41141,     0.41241,     0.41341,     0.41441,     0.41542,     0.41642,     0.41742,     0.41842,     0.41942,     0.42042,     0.42142,     0.42242,     0.42342,     0.42442,     0.42543,     0.42643,     0.42743,     0.42843,     0.42943,     0.43043,     0.43143,\n",
       "           0.43243,     0.43343,     0.43443,     0.43544,     0.43644,     0.43744,     0.43844,     0.43944,     0.44044,     0.44144,     0.44244,     0.44344,     0.44444,     0.44545,     0.44645,     0.44745,     0.44845,     0.44945,     0.45045,     0.45145,     0.45245,     0.45345,     0.45445,     0.45546,\n",
       "           0.45646,     0.45746,     0.45846,     0.45946,     0.46046,     0.46146,     0.46246,     0.46346,     0.46446,     0.46547,     0.46647,     0.46747,     0.46847,     0.46947,     0.47047,     0.47147,     0.47247,     0.47347,     0.47447,     0.47548,     0.47648,     0.47748,     0.47848,     0.47948,\n",
       "           0.48048,     0.48148,     0.48248,     0.48348,     0.48448,     0.48549,     0.48649,     0.48749,     0.48849,     0.48949,     0.49049,     0.49149,     0.49249,     0.49349,     0.49449,      0.4955,      0.4965,      0.4975,      0.4985,      0.4995,      0.5005,      0.5015,      0.5025,      0.5035,\n",
       "            0.5045,     0.50551,     0.50651,     0.50751,     0.50851,     0.50951,     0.51051,     0.51151,     0.51251,     0.51351,     0.51451,     0.51552,     0.51652,     0.51752,     0.51852,     0.51952,     0.52052,     0.52152,     0.52252,     0.52352,     0.52452,     0.52553,     0.52653,     0.52753,\n",
       "           0.52853,     0.52953,     0.53053,     0.53153,     0.53253,     0.53353,     0.53453,     0.53554,     0.53654,     0.53754,     0.53854,     0.53954,     0.54054,     0.54154,     0.54254,     0.54354,     0.54454,     0.54555,     0.54655,     0.54755,     0.54855,     0.54955,     0.55055,     0.55155,\n",
       "           0.55255,     0.55355,     0.55455,     0.55556,     0.55656,     0.55756,     0.55856,     0.55956,     0.56056,     0.56156,     0.56256,     0.56356,     0.56456,     0.56557,     0.56657,     0.56757,     0.56857,     0.56957,     0.57057,     0.57157,     0.57257,     0.57357,     0.57457,     0.57558,\n",
       "           0.57658,     0.57758,     0.57858,     0.57958,     0.58058,     0.58158,     0.58258,     0.58358,     0.58458,     0.58559,     0.58659,     0.58759,     0.58859,     0.58959,     0.59059,     0.59159,     0.59259,     0.59359,     0.59459,      0.5956,      0.5966,      0.5976,      0.5986,      0.5996,\n",
       "            0.6006,      0.6016,      0.6026,      0.6036,      0.6046,     0.60561,     0.60661,     0.60761,     0.60861,     0.60961,     0.61061,     0.61161,     0.61261,     0.61361,     0.61461,     0.61562,     0.61662,     0.61762,     0.61862,     0.61962,     0.62062,     0.62162,     0.62262,     0.62362,\n",
       "           0.62462,     0.62563,     0.62663,     0.62763,     0.62863,     0.62963,     0.63063,     0.63163,     0.63263,     0.63363,     0.63463,     0.63564,     0.63664,     0.63764,     0.63864,     0.63964,     0.64064,     0.64164,     0.64264,     0.64364,     0.64464,     0.64565,     0.64665,     0.64765,\n",
       "           0.64865,     0.64965,     0.65065,     0.65165,     0.65265,     0.65365,     0.65465,     0.65566,     0.65666,     0.65766,     0.65866,     0.65966,     0.66066,     0.66166,     0.66266,     0.66366,     0.66466,     0.66567,     0.66667,     0.66767,     0.66867,     0.66967,     0.67067,     0.67167,\n",
       "           0.67267,     0.67367,     0.67467,     0.67568,     0.67668,     0.67768,     0.67868,     0.67968,     0.68068,     0.68168,     0.68268,     0.68368,     0.68468,     0.68569,     0.68669,     0.68769,     0.68869,     0.68969,     0.69069,     0.69169,     0.69269,     0.69369,     0.69469,      0.6957,\n",
       "            0.6967,      0.6977,      0.6987,      0.6997,      0.7007,      0.7017,      0.7027,      0.7037,      0.7047,     0.70571,     0.70671,     0.70771,     0.70871,     0.70971,     0.71071,     0.71171,     0.71271,     0.71371,     0.71471,     0.71572,     0.71672,     0.71772,     0.71872,     0.71972,\n",
       "           0.72072,     0.72172,     0.72272,     0.72372,     0.72472,     0.72573,     0.72673,     0.72773,     0.72873,     0.72973,     0.73073,     0.73173,     0.73273,     0.73373,     0.73473,     0.73574,     0.73674,     0.73774,     0.73874,     0.73974,     0.74074,     0.74174,     0.74274,     0.74374,\n",
       "           0.74474,     0.74575,     0.74675,     0.74775,     0.74875,     0.74975,     0.75075,     0.75175,     0.75275,     0.75375,     0.75475,     0.75576,     0.75676,     0.75776,     0.75876,     0.75976,     0.76076,     0.76176,     0.76276,     0.76376,     0.76476,     0.76577,     0.76677,     0.76777,\n",
       "           0.76877,     0.76977,     0.77077,     0.77177,     0.77277,     0.77377,     0.77477,     0.77578,     0.77678,     0.77778,     0.77878,     0.77978,     0.78078,     0.78178,     0.78278,     0.78378,     0.78478,     0.78579,     0.78679,     0.78779,     0.78879,     0.78979,     0.79079,     0.79179,\n",
       "           0.79279,     0.79379,     0.79479,      0.7958,      0.7968,      0.7978,      0.7988,      0.7998,      0.8008,      0.8018,      0.8028,      0.8038,      0.8048,     0.80581,     0.80681,     0.80781,     0.80881,     0.80981,     0.81081,     0.81181,     0.81281,     0.81381,     0.81481,     0.81582,\n",
       "           0.81682,     0.81782,     0.81882,     0.81982,     0.82082,     0.82182,     0.82282,     0.82382,     0.82482,     0.82583,     0.82683,     0.82783,     0.82883,     0.82983,     0.83083,     0.83183,     0.83283,     0.83383,     0.83483,     0.83584,     0.83684,     0.83784,     0.83884,     0.83984,\n",
       "           0.84084,     0.84184,     0.84284,     0.84384,     0.84484,     0.84585,     0.84685,     0.84785,     0.84885,     0.84985,     0.85085,     0.85185,     0.85285,     0.85385,     0.85485,     0.85586,     0.85686,     0.85786,     0.85886,     0.85986,     0.86086,     0.86186,     0.86286,     0.86386,\n",
       "           0.86486,     0.86587,     0.86687,     0.86787,     0.86887,     0.86987,     0.87087,     0.87187,     0.87287,     0.87387,     0.87487,     0.87588,     0.87688,     0.87788,     0.87888,     0.87988,     0.88088,     0.88188,     0.88288,     0.88388,     0.88488,     0.88589,     0.88689,     0.88789,\n",
       "           0.88889,     0.88989,     0.89089,     0.89189,     0.89289,     0.89389,     0.89489,      0.8959,      0.8969,      0.8979,      0.8989,      0.8999,      0.9009,      0.9019,      0.9029,      0.9039,      0.9049,     0.90591,     0.90691,     0.90791,     0.90891,     0.90991,     0.91091,     0.91191,\n",
       "           0.91291,     0.91391,     0.91491,     0.91592,     0.91692,     0.91792,     0.91892,     0.91992,     0.92092,     0.92192,     0.92292,     0.92392,     0.92492,     0.92593,     0.92693,     0.92793,     0.92893,     0.92993,     0.93093,     0.93193,     0.93293,     0.93393,     0.93493,     0.93594,\n",
       "           0.93694,     0.93794,     0.93894,     0.93994,     0.94094,     0.94194,     0.94294,     0.94394,     0.94494,     0.94595,     0.94695,     0.94795,     0.94895,     0.94995,     0.95095,     0.95195,     0.95295,     0.95395,     0.95495,     0.95596,     0.95696,     0.95796,     0.95896,     0.95996,\n",
       "           0.96096,     0.96196,     0.96296,     0.96396,     0.96496,     0.96597,     0.96697,     0.96797,     0.96897,     0.96997,     0.97097,     0.97197,     0.97297,     0.97397,     0.97497,     0.97598,     0.97698,     0.97798,     0.97898,     0.97998,     0.98098,     0.98198,     0.98298,     0.98398,\n",
       "           0.98498,     0.98599,     0.98699,     0.98799,     0.98899,     0.98999,     0.99099,     0.99199,     0.99299,     0.99399,     0.99499,       0.996,       0.997,       0.998,       0.999,           1]), array([[    0.13533,     0.13533,     0.21005,     0.26451,     0.31032,     0.34068,      0.3739,     0.39615,      0.4199,     0.44163,     0.44928,      0.4681,     0.48345,     0.49792,     0.51319,     0.52371,     0.53384,     0.54698,     0.55644,     0.56254,     0.56945,     0.57251,     0.57537,\n",
       "             0.5777,     0.58427,     0.58944,      0.6001,     0.60731,     0.61075,     0.61424,     0.61942,     0.62344,     0.62717,     0.62864,     0.63233,      0.6391,     0.64181,     0.64832,     0.65151,     0.65369,     0.65433,     0.65617,     0.65766,     0.65997,     0.66263,      0.6691,\n",
       "             0.6695,     0.66989,     0.67028,     0.67692,     0.68094,     0.68269,     0.68587,     0.68794,     0.68859,     0.68932,     0.69059,     0.69353,     0.69702,     0.69898,     0.70026,     0.70394,     0.70503,     0.70603,     0.70688,     0.70756,     0.70836,     0.70929,     0.70727,\n",
       "            0.70776,     0.71094,     0.71302,     0.71483,     0.71877,     0.72235,     0.72268,     0.72301,     0.72334,     0.72512,     0.72682,     0.72839,     0.72955,     0.73017,     0.73078,      0.7314,     0.73202,     0.73421,     0.73508,     0.73753,      0.7391,     0.74135,     0.74172,\n",
       "            0.74209,     0.74246,     0.74283,     0.74646,     0.74915,      0.7496,     0.75005,     0.75051,     0.75127,     0.75045,     0.74964,     0.75034,     0.75202,     0.75425,     0.75457,      0.7549,     0.75523,     0.75555,      0.7546,     0.75479,      0.7556,     0.75749,     0.76143,\n",
       "            0.76206,     0.76269,     0.76112,     0.76075,     0.76125,     0.76174,     0.76224,     0.76315,     0.76403,     0.76445,     0.76487,      0.7653,     0.76599,     0.76717,     0.76617,     0.76518,     0.76433,     0.76371,     0.76308,     0.76245,     0.76206,     0.76329,      0.7639,\n",
       "            0.76434,     0.76478,     0.76252,     0.76082,     0.75936,     0.75825,     0.75713,     0.75878,     0.75992,     0.76118,     0.76167,     0.76027,     0.75957,     0.76008,     0.76059,     0.76113,     0.76199,     0.76288,     0.76395,     0.76665,     0.76759,     0.76809,     0.76842,\n",
       "            0.76875,     0.76907,      0.7694,      0.7697,     0.76998,     0.77026,     0.77054,     0.77082,     0.77109,     0.77143,     0.77193,     0.77244,     0.77295,      0.7737,     0.77449,     0.77655,     0.77735,     0.77815,     0.77536,     0.77466,     0.77397,     0.77328,     0.77288,\n",
       "            0.77364,      0.7744,     0.77368,     0.77276,     0.77184,     0.77189,     0.77214,     0.77239,     0.77263,     0.77288,     0.77312,     0.77337,      0.7737,     0.77408,     0.77447,     0.77485,     0.77525,     0.77795,     0.77834,     0.77724,     0.77614,     0.77725,     0.77887,\n",
       "            0.77777,     0.77682,     0.77775,     0.77852,     0.77823,     0.77794,     0.77765,     0.77736,     0.77707,     0.77679,      0.7765,     0.77621,     0.77592,     0.77558,     0.77511,     0.77464,     0.77417,      0.7737,     0.77323,     0.77297,     0.77384,     0.77472,      0.7756,\n",
       "            0.77647,     0.77678,     0.77709,     0.77739,      0.7777,     0.77801,     0.77829,     0.77799,     0.77769,     0.77739,     0.77709,     0.77679,      0.7765,      0.7762,      0.7759,     0.77559,     0.77641,     0.77893,     0.77625,     0.77653,     0.77681,     0.77709,     0.77737,\n",
       "            0.77765,     0.77794,     0.77761,      0.7769,      0.7762,     0.77549,     0.77431,     0.77259,     0.76914,     0.76633,     0.76741,     0.76796,     0.76751,     0.76705,      0.7666,     0.76615,     0.76569,     0.76524,     0.76683,     0.76651,      0.7662,     0.76588,     0.76557,\n",
       "            0.76525,     0.76494,     0.76462,      0.7643,     0.76399,     0.76371,     0.76343,     0.76315,     0.76287,     0.76258,      0.7623,     0.76202,     0.76174,     0.76146,     0.76118,     0.76114,     0.76173,     0.76231,       0.763,     0.76453,     0.76479,     0.76488,     0.76498,\n",
       "            0.76507,     0.76517,     0.76526,     0.76535,     0.76545,     0.76554,     0.76564,     0.76573,     0.76582,     0.76592,     0.76601,     0.76611,      0.7662,     0.76629,     0.76639,     0.76648,     0.76657,     0.76826,     0.76688,     0.76549,     0.76618,     0.76695,     0.76778,\n",
       "            0.76865,     0.76949,     0.77027,     0.77106,     0.77013,     0.76899,     0.76814,     0.76846,     0.76877,     0.76909,      0.7694,     0.76972,     0.76998,     0.76975,     0.76952,     0.76929,     0.76906,     0.76883,      0.7686,     0.76837,     0.76814,     0.76791,     0.76768,\n",
       "            0.76745,     0.76722,     0.76699,     0.76741,     0.76813,     0.76885,     0.76974,     0.77062,      0.7724,     0.77301,     0.77334,     0.77368,     0.77401,     0.77434,     0.77468,     0.77399,     0.77328,     0.77257,     0.77186,     0.77189,     0.77243,     0.77297,      0.7735,\n",
       "            0.77404,     0.77458,     0.77512,     0.77462,      0.7722,     0.77162,     0.77103,     0.77044,     0.76986,     0.76927,     0.77018,     0.77119,     0.77036,     0.76949,     0.76863,     0.77069,     0.77137,      0.7695,     0.76509,     0.76427,     0.76344,     0.76262,      0.7626,\n",
       "            0.76288,     0.76315,     0.76342,      0.7637,     0.76397,     0.76424,     0.76455,     0.76491,     0.76527,     0.76562,     0.76598,     0.76634,      0.7667,     0.76706,     0.76742,     0.76778,     0.76814,     0.76808,     0.76642,     0.76544,     0.76647,     0.76783,       0.769,\n",
       "            0.76829,     0.76759,     0.76688,     0.76617,     0.76555,     0.76497,     0.76438,     0.76379,     0.76321,     0.76238,      0.7594,     0.75974,     0.76009,     0.76044,     0.76079,     0.76114,     0.76166,     0.76271,     0.76338,     0.76318,     0.76297,     0.76277,     0.76256,\n",
       "            0.76236,     0.76216,     0.76195,     0.76175,     0.76154,     0.76134,     0.76114,     0.76093,     0.76073,     0.76052,     0.76032,     0.76012,     0.75983,     0.75954,     0.75924,     0.75895,     0.75866,     0.75837,     0.75807,     0.75778,     0.75749,      0.7572,      0.7569,\n",
       "            0.75697,     0.75739,     0.75781,     0.75823,     0.75865,     0.76012,     0.76224,     0.76366,     0.76473,     0.76588,     0.76414,     0.76429,     0.76501,     0.76573,      0.7661,     0.76641,     0.76672,     0.76703,     0.76734,     0.76765,     0.76796,     0.76827,     0.76858,\n",
       "             0.7689,     0.76921,     0.76952,     0.76983,     0.76944,     0.76868,     0.76809,     0.76751,     0.76692,     0.76633,     0.76574,     0.76165,     0.76094,     0.76023,     0.75952,      0.7588,     0.75758,     0.75578,     0.75455,     0.75383,     0.75311,     0.75239,     0.75167,\n",
       "             0.7517,     0.75213,     0.75257,     0.75301,     0.75344,     0.75396,     0.75451,     0.75506,     0.75561,     0.75277,     0.75351,     0.75424,     0.75343,     0.75251,      0.7516,      0.7507,     0.75017,     0.74965,     0.74912,      0.7486,     0.74807,     0.74754,     0.74674,\n",
       "            0.74489,     0.74336,     0.74274,     0.74212,      0.7415,     0.74088,     0.74026,     0.74003,      0.7404,     0.74077,     0.74113,      0.7415,     0.74186,     0.74218,     0.74246,     0.74274,     0.74301,     0.74329,     0.74356,     0.74384,     0.74412,      0.7446,     0.74516,\n",
       "            0.74571,     0.74627,     0.74678,     0.74727,     0.74777,     0.74827,     0.74871,     0.74908,     0.74946,     0.74984,     0.75021,     0.75058,     0.75078,     0.75085,     0.75093,       0.751,     0.75108,     0.75115,     0.75122,      0.7513,     0.75137,     0.75145,     0.75152,\n",
       "             0.7516,     0.75167,     0.75174,     0.75182,     0.75189,     0.75197,     0.75204,     0.75212,     0.75219,     0.75226,     0.75234,     0.75241,     0.75249,     0.75256,     0.75263,     0.75271,     0.75278,     0.75286,     0.75293,     0.75304,     0.75316,     0.75328,      0.7534,\n",
       "            0.75352,     0.75364,     0.75376,     0.75388,       0.754,     0.75412,     0.75424,     0.75436,     0.75448,      0.7546,     0.75472,     0.75484,     0.75496,     0.75508,     0.75527,     0.75562,     0.75598,     0.75633,     0.75668,     0.75703,     0.75738,     0.75618,     0.75492,\n",
       "            0.75356,     0.75007,     0.75122,     0.75195,      0.7494,       0.746,     0.74714,     0.74736,     0.74758,      0.7478,     0.74802,     0.74824,     0.74846,     0.74868,      0.7489,     0.74912,     0.74558,     0.74587,     0.74616,     0.74645,     0.74674,     0.74703,     0.74732,\n",
       "            0.74761,     0.74734,     0.74674,     0.74614,     0.74554,     0.74494,     0.74433,     0.73981,     0.73893,     0.73805,     0.73717,     0.73629,     0.73052,     0.72851,     0.72785,     0.72728,      0.7267,     0.72612,     0.72555,     0.72497,     0.72433,     0.72317,     0.72201,\n",
       "            0.72085,     0.72096,     0.72162,     0.72227,     0.72216,     0.72012,     0.71784,     0.71509,     0.71413,     0.71344,     0.71275,     0.71206,     0.71137,     0.71068,     0.70992,     0.70917,     0.70841,     0.70765,     0.70689,     0.70626,      0.7057,     0.70514,     0.70459,\n",
       "            0.70403,     0.70347,     0.70291,     0.70112,     0.69816,     0.69745,     0.69675,     0.69604,     0.69533,     0.69462,     0.69373,     0.69266,     0.69159,     0.69052,     0.68751,     0.68099,      0.6799,     0.67881,     0.67772,     0.66994,       0.668,     0.66689,     0.66578,\n",
       "            0.66467,      0.6642,     0.66386,     0.66352,     0.66317,     0.66283,     0.66249,     0.66214,      0.6618,     0.66145,     0.66111,     0.66076,     0.66042,     0.65995,     0.65882,      0.6577,     0.65657,     0.65495,     0.65193,     0.65107,     0.65075,     0.65044,     0.65012,\n",
       "            0.64981,     0.64949,     0.64918,     0.64887,     0.64855,     0.64824,     0.64792,     0.64761,     0.64729,     0.64697,     0.64632,     0.64549,     0.64465,     0.64382,     0.64298,     0.64209,     0.64107,     0.64004,     0.63901,     0.63798,     0.63905,     0.63672,     0.63331,\n",
       "            0.62561,     0.62425,     0.62289,     0.62146,     0.61907,     0.61683,     0.61576,     0.61469,     0.61361,     0.61254,     0.61049,     0.60806,     0.60667,     0.60558,      0.6045,     0.60341,     0.60198,     0.60002,     0.59805,      0.5969,      0.5958,      0.5947,     0.59359,\n",
       "            0.59033,      0.5804,     0.57532,     0.57262,     0.57134,     0.57006,     0.56877,     0.56717,     0.56545,     0.56373,     0.55749,     0.55487,     0.55224,      0.5496,     0.54587,     0.54054,     0.53782,     0.53822,     0.53861,     0.53901,      0.5394,     0.52878,     0.52659,\n",
       "             0.5244,     0.52184,     0.51907,     0.51202,     0.50828,     0.49479,     0.48424,     0.48133,     0.48003,     0.47909,     0.47395,        0.47,     0.46111,      0.4581,     0.44021,      0.4397,     0.43924,     0.43878,     0.43833,     0.43787,     0.43741,     0.43695,     0.43649,\n",
       "            0.43603,     0.43557,     0.43511,     0.43465,     0.43419,     0.42796,     0.42585,     0.42374,     0.41001,     0.40743,     0.40484,      0.4016,     0.39827,     0.38534,      0.3809,     0.37832,      0.3771,     0.37588,     0.37466,     0.37343,     0.37189,     0.36918,     0.36646,\n",
       "            0.36232,     0.35875,     0.35738,       0.356,     0.35462,     0.35324,     0.35125,     0.34848,     0.34569,     0.33705,     0.33352,     0.31749,     0.31065,     0.30773,     0.30481,     0.30273,     0.30109,     0.29946,     0.29782,      0.2953,     0.29035,     0.28765,     0.28551,\n",
       "            0.28337,     0.27173,     0.26598,     0.26291,     0.25982,     0.25673,     0.25363,      0.2444,     0.24125,     0.23809,     0.23202,     0.22401,     0.21294,     0.21061,     0.20828,     0.20594,     0.20122,     0.19571,     0.19015,     0.16366,      0.1615,     0.15935,     0.15718,\n",
       "            0.15407,     0.14971,     0.14321,     0.13789,     0.13592,     0.13395,     0.13197,      0.1297,     0.12523,     0.12048,     0.11446,     0.11084,     0.10824,     0.10563,    0.093441,    0.088796,    0.083598,    0.077335,    0.075374,    0.074024,    0.072671,    0.071317,    0.069961,\n",
       "           0.068604,    0.067263,     0.06631,    0.065356,    0.064401,    0.063446,    0.062489,    0.061531,    0.060573,    0.059613,    0.058653,    0.052358,    0.040713,    0.038213,    0.037231,    0.036248,    0.035264,    0.034279,    0.033294,    0.032307,    0.031319,     0.03033,    0.029283,\n",
       "            0.02748,    0.025675,    0.023866,    0.022054,    0.020239,    0.019404,    0.018978,    0.018552,    0.018126,      0.0177,    0.017274,    0.016847,     0.01642,    0.015993,    0.015566,    0.015138,    0.014711,    0.014283,    0.013855,    0.013427,    0.012999,     0.01257,    0.012142,\n",
       "           0.011713,    0.011284,    0.010855,    0.010425,   0.0099956,           0,           0,           0,           0,           0,           0,           0,           0,           0,           0,           0,           0,           0,           0,           0,           0,           0,           0,\n",
       "                  0,           0,           0,           0,           0,           0,           0,           0,           0,           0,           0]]), 'Confidence', 'F1'], [array([          0,    0.001001,    0.002002,    0.003003,    0.004004,    0.005005,    0.006006,    0.007007,    0.008008,    0.009009,     0.01001,    0.011011,    0.012012,    0.013013,    0.014014,    0.015015,    0.016016,    0.017017,    0.018018,    0.019019,     0.02002,    0.021021,    0.022022,    0.023023,\n",
       "          0.024024,    0.025025,    0.026026,    0.027027,    0.028028,    0.029029,     0.03003,    0.031031,    0.032032,    0.033033,    0.034034,    0.035035,    0.036036,    0.037037,    0.038038,    0.039039,     0.04004,    0.041041,    0.042042,    0.043043,    0.044044,    0.045045,    0.046046,    0.047047,\n",
       "          0.048048,    0.049049,     0.05005,    0.051051,    0.052052,    0.053053,    0.054054,    0.055055,    0.056056,    0.057057,    0.058058,    0.059059,     0.06006,    0.061061,    0.062062,    0.063063,    0.064064,    0.065065,    0.066066,    0.067067,    0.068068,    0.069069,     0.07007,    0.071071,\n",
       "          0.072072,    0.073073,    0.074074,    0.075075,    0.076076,    0.077077,    0.078078,    0.079079,     0.08008,    0.081081,    0.082082,    0.083083,    0.084084,    0.085085,    0.086086,    0.087087,    0.088088,    0.089089,     0.09009,    0.091091,    0.092092,    0.093093,    0.094094,    0.095095,\n",
       "          0.096096,    0.097097,    0.098098,    0.099099,      0.1001,      0.1011,      0.1021,      0.1031,      0.1041,     0.10511,     0.10611,     0.10711,     0.10811,     0.10911,     0.11011,     0.11111,     0.11211,     0.11311,     0.11411,     0.11512,     0.11612,     0.11712,     0.11812,     0.11912,\n",
       "           0.12012,     0.12112,     0.12212,     0.12312,     0.12412,     0.12513,     0.12613,     0.12713,     0.12813,     0.12913,     0.13013,     0.13113,     0.13213,     0.13313,     0.13413,     0.13514,     0.13614,     0.13714,     0.13814,     0.13914,     0.14014,     0.14114,     0.14214,     0.14314,\n",
       "           0.14414,     0.14515,     0.14615,     0.14715,     0.14815,     0.14915,     0.15015,     0.15115,     0.15215,     0.15315,     0.15415,     0.15516,     0.15616,     0.15716,     0.15816,     0.15916,     0.16016,     0.16116,     0.16216,     0.16316,     0.16416,     0.16517,     0.16617,     0.16717,\n",
       "           0.16817,     0.16917,     0.17017,     0.17117,     0.17217,     0.17317,     0.17417,     0.17518,     0.17618,     0.17718,     0.17818,     0.17918,     0.18018,     0.18118,     0.18218,     0.18318,     0.18418,     0.18519,     0.18619,     0.18719,     0.18819,     0.18919,     0.19019,     0.19119,\n",
       "           0.19219,     0.19319,     0.19419,      0.1952,      0.1962,      0.1972,      0.1982,      0.1992,      0.2002,      0.2012,      0.2022,      0.2032,      0.2042,     0.20521,     0.20621,     0.20721,     0.20821,     0.20921,     0.21021,     0.21121,     0.21221,     0.21321,     0.21421,     0.21522,\n",
       "           0.21622,     0.21722,     0.21822,     0.21922,     0.22022,     0.22122,     0.22222,     0.22322,     0.22422,     0.22523,     0.22623,     0.22723,     0.22823,     0.22923,     0.23023,     0.23123,     0.23223,     0.23323,     0.23423,     0.23524,     0.23624,     0.23724,     0.23824,     0.23924,\n",
       "           0.24024,     0.24124,     0.24224,     0.24324,     0.24424,     0.24525,     0.24625,     0.24725,     0.24825,     0.24925,     0.25025,     0.25125,     0.25225,     0.25325,     0.25425,     0.25526,     0.25626,     0.25726,     0.25826,     0.25926,     0.26026,     0.26126,     0.26226,     0.26326,\n",
       "           0.26426,     0.26527,     0.26627,     0.26727,     0.26827,     0.26927,     0.27027,     0.27127,     0.27227,     0.27327,     0.27427,     0.27528,     0.27628,     0.27728,     0.27828,     0.27928,     0.28028,     0.28128,     0.28228,     0.28328,     0.28428,     0.28529,     0.28629,     0.28729,\n",
       "           0.28829,     0.28929,     0.29029,     0.29129,     0.29229,     0.29329,     0.29429,      0.2953,      0.2963,      0.2973,      0.2983,      0.2993,      0.3003,      0.3013,      0.3023,      0.3033,      0.3043,     0.30531,     0.30631,     0.30731,     0.30831,     0.30931,     0.31031,     0.31131,\n",
       "           0.31231,     0.31331,     0.31431,     0.31532,     0.31632,     0.31732,     0.31832,     0.31932,     0.32032,     0.32132,     0.32232,     0.32332,     0.32432,     0.32533,     0.32633,     0.32733,     0.32833,     0.32933,     0.33033,     0.33133,     0.33233,     0.33333,     0.33433,     0.33534,\n",
       "           0.33634,     0.33734,     0.33834,     0.33934,     0.34034,     0.34134,     0.34234,     0.34334,     0.34434,     0.34535,     0.34635,     0.34735,     0.34835,     0.34935,     0.35035,     0.35135,     0.35235,     0.35335,     0.35435,     0.35536,     0.35636,     0.35736,     0.35836,     0.35936,\n",
       "           0.36036,     0.36136,     0.36236,     0.36336,     0.36436,     0.36537,     0.36637,     0.36737,     0.36837,     0.36937,     0.37037,     0.37137,     0.37237,     0.37337,     0.37437,     0.37538,     0.37638,     0.37738,     0.37838,     0.37938,     0.38038,     0.38138,     0.38238,     0.38338,\n",
       "           0.38438,     0.38539,     0.38639,     0.38739,     0.38839,     0.38939,     0.39039,     0.39139,     0.39239,     0.39339,     0.39439,      0.3954,      0.3964,      0.3974,      0.3984,      0.3994,      0.4004,      0.4014,      0.4024,      0.4034,      0.4044,     0.40541,     0.40641,     0.40741,\n",
       "           0.40841,     0.40941,     0.41041,     0.41141,     0.41241,     0.41341,     0.41441,     0.41542,     0.41642,     0.41742,     0.41842,     0.41942,     0.42042,     0.42142,     0.42242,     0.42342,     0.42442,     0.42543,     0.42643,     0.42743,     0.42843,     0.42943,     0.43043,     0.43143,\n",
       "           0.43243,     0.43343,     0.43443,     0.43544,     0.43644,     0.43744,     0.43844,     0.43944,     0.44044,     0.44144,     0.44244,     0.44344,     0.44444,     0.44545,     0.44645,     0.44745,     0.44845,     0.44945,     0.45045,     0.45145,     0.45245,     0.45345,     0.45445,     0.45546,\n",
       "           0.45646,     0.45746,     0.45846,     0.45946,     0.46046,     0.46146,     0.46246,     0.46346,     0.46446,     0.46547,     0.46647,     0.46747,     0.46847,     0.46947,     0.47047,     0.47147,     0.47247,     0.47347,     0.47447,     0.47548,     0.47648,     0.47748,     0.47848,     0.47948,\n",
       "           0.48048,     0.48148,     0.48248,     0.48348,     0.48448,     0.48549,     0.48649,     0.48749,     0.48849,     0.48949,     0.49049,     0.49149,     0.49249,     0.49349,     0.49449,      0.4955,      0.4965,      0.4975,      0.4985,      0.4995,      0.5005,      0.5015,      0.5025,      0.5035,\n",
       "            0.5045,     0.50551,     0.50651,     0.50751,     0.50851,     0.50951,     0.51051,     0.51151,     0.51251,     0.51351,     0.51451,     0.51552,     0.51652,     0.51752,     0.51852,     0.51952,     0.52052,     0.52152,     0.52252,     0.52352,     0.52452,     0.52553,     0.52653,     0.52753,\n",
       "           0.52853,     0.52953,     0.53053,     0.53153,     0.53253,     0.53353,     0.53453,     0.53554,     0.53654,     0.53754,     0.53854,     0.53954,     0.54054,     0.54154,     0.54254,     0.54354,     0.54454,     0.54555,     0.54655,     0.54755,     0.54855,     0.54955,     0.55055,     0.55155,\n",
       "           0.55255,     0.55355,     0.55455,     0.55556,     0.55656,     0.55756,     0.55856,     0.55956,     0.56056,     0.56156,     0.56256,     0.56356,     0.56456,     0.56557,     0.56657,     0.56757,     0.56857,     0.56957,     0.57057,     0.57157,     0.57257,     0.57357,     0.57457,     0.57558,\n",
       "           0.57658,     0.57758,     0.57858,     0.57958,     0.58058,     0.58158,     0.58258,     0.58358,     0.58458,     0.58559,     0.58659,     0.58759,     0.58859,     0.58959,     0.59059,     0.59159,     0.59259,     0.59359,     0.59459,      0.5956,      0.5966,      0.5976,      0.5986,      0.5996,\n",
       "            0.6006,      0.6016,      0.6026,      0.6036,      0.6046,     0.60561,     0.60661,     0.60761,     0.60861,     0.60961,     0.61061,     0.61161,     0.61261,     0.61361,     0.61461,     0.61562,     0.61662,     0.61762,     0.61862,     0.61962,     0.62062,     0.62162,     0.62262,     0.62362,\n",
       "           0.62462,     0.62563,     0.62663,     0.62763,     0.62863,     0.62963,     0.63063,     0.63163,     0.63263,     0.63363,     0.63463,     0.63564,     0.63664,     0.63764,     0.63864,     0.63964,     0.64064,     0.64164,     0.64264,     0.64364,     0.64464,     0.64565,     0.64665,     0.64765,\n",
       "           0.64865,     0.64965,     0.65065,     0.65165,     0.65265,     0.65365,     0.65465,     0.65566,     0.65666,     0.65766,     0.65866,     0.65966,     0.66066,     0.66166,     0.66266,     0.66366,     0.66466,     0.66567,     0.66667,     0.66767,     0.66867,     0.66967,     0.67067,     0.67167,\n",
       "           0.67267,     0.67367,     0.67467,     0.67568,     0.67668,     0.67768,     0.67868,     0.67968,     0.68068,     0.68168,     0.68268,     0.68368,     0.68468,     0.68569,     0.68669,     0.68769,     0.68869,     0.68969,     0.69069,     0.69169,     0.69269,     0.69369,     0.69469,      0.6957,\n",
       "            0.6967,      0.6977,      0.6987,      0.6997,      0.7007,      0.7017,      0.7027,      0.7037,      0.7047,     0.70571,     0.70671,     0.70771,     0.70871,     0.70971,     0.71071,     0.71171,     0.71271,     0.71371,     0.71471,     0.71572,     0.71672,     0.71772,     0.71872,     0.71972,\n",
       "           0.72072,     0.72172,     0.72272,     0.72372,     0.72472,     0.72573,     0.72673,     0.72773,     0.72873,     0.72973,     0.73073,     0.73173,     0.73273,     0.73373,     0.73473,     0.73574,     0.73674,     0.73774,     0.73874,     0.73974,     0.74074,     0.74174,     0.74274,     0.74374,\n",
       "           0.74474,     0.74575,     0.74675,     0.74775,     0.74875,     0.74975,     0.75075,     0.75175,     0.75275,     0.75375,     0.75475,     0.75576,     0.75676,     0.75776,     0.75876,     0.75976,     0.76076,     0.76176,     0.76276,     0.76376,     0.76476,     0.76577,     0.76677,     0.76777,\n",
       "           0.76877,     0.76977,     0.77077,     0.77177,     0.77277,     0.77377,     0.77477,     0.77578,     0.77678,     0.77778,     0.77878,     0.77978,     0.78078,     0.78178,     0.78278,     0.78378,     0.78478,     0.78579,     0.78679,     0.78779,     0.78879,     0.78979,     0.79079,     0.79179,\n",
       "           0.79279,     0.79379,     0.79479,      0.7958,      0.7968,      0.7978,      0.7988,      0.7998,      0.8008,      0.8018,      0.8028,      0.8038,      0.8048,     0.80581,     0.80681,     0.80781,     0.80881,     0.80981,     0.81081,     0.81181,     0.81281,     0.81381,     0.81481,     0.81582,\n",
       "           0.81682,     0.81782,     0.81882,     0.81982,     0.82082,     0.82182,     0.82282,     0.82382,     0.82482,     0.82583,     0.82683,     0.82783,     0.82883,     0.82983,     0.83083,     0.83183,     0.83283,     0.83383,     0.83483,     0.83584,     0.83684,     0.83784,     0.83884,     0.83984,\n",
       "           0.84084,     0.84184,     0.84284,     0.84384,     0.84484,     0.84585,     0.84685,     0.84785,     0.84885,     0.84985,     0.85085,     0.85185,     0.85285,     0.85385,     0.85485,     0.85586,     0.85686,     0.85786,     0.85886,     0.85986,     0.86086,     0.86186,     0.86286,     0.86386,\n",
       "           0.86486,     0.86587,     0.86687,     0.86787,     0.86887,     0.86987,     0.87087,     0.87187,     0.87287,     0.87387,     0.87487,     0.87588,     0.87688,     0.87788,     0.87888,     0.87988,     0.88088,     0.88188,     0.88288,     0.88388,     0.88488,     0.88589,     0.88689,     0.88789,\n",
       "           0.88889,     0.88989,     0.89089,     0.89189,     0.89289,     0.89389,     0.89489,      0.8959,      0.8969,      0.8979,      0.8989,      0.8999,      0.9009,      0.9019,      0.9029,      0.9039,      0.9049,     0.90591,     0.90691,     0.90791,     0.90891,     0.90991,     0.91091,     0.91191,\n",
       "           0.91291,     0.91391,     0.91491,     0.91592,     0.91692,     0.91792,     0.91892,     0.91992,     0.92092,     0.92192,     0.92292,     0.92392,     0.92492,     0.92593,     0.92693,     0.92793,     0.92893,     0.92993,     0.93093,     0.93193,     0.93293,     0.93393,     0.93493,     0.93594,\n",
       "           0.93694,     0.93794,     0.93894,     0.93994,     0.94094,     0.94194,     0.94294,     0.94394,     0.94494,     0.94595,     0.94695,     0.94795,     0.94895,     0.94995,     0.95095,     0.95195,     0.95295,     0.95395,     0.95495,     0.95596,     0.95696,     0.95796,     0.95896,     0.95996,\n",
       "           0.96096,     0.96196,     0.96296,     0.96396,     0.96496,     0.96597,     0.96697,     0.96797,     0.96897,     0.96997,     0.97097,     0.97197,     0.97297,     0.97397,     0.97497,     0.97598,     0.97698,     0.97798,     0.97898,     0.97998,     0.98098,     0.98198,     0.98298,     0.98398,\n",
       "           0.98498,     0.98599,     0.98699,     0.98799,     0.98899,     0.98999,     0.99099,     0.99199,     0.99299,     0.99399,     0.99499,       0.996,       0.997,       0.998,       0.999,           1]), array([[   0.072881,    0.072881,     0.11815,      0.1539,     0.18582,     0.20852,     0.23428,     0.25202,     0.27156,     0.29002,     0.29665,     0.31329,      0.3272,     0.34059,     0.35504,     0.36598,     0.37594,     0.38911,     0.39876,     0.40505,     0.41226,     0.41548,     0.41849,\n",
       "            0.42201,     0.42906,     0.43466,     0.44635,     0.45437,     0.45824,     0.46218,     0.46807,     0.47268,     0.47698,     0.47868,     0.48297,     0.49092,     0.49412,     0.50188,     0.50571,     0.50834,     0.50912,     0.51135,     0.51316,     0.51599,     0.51924,     0.52724,\n",
       "            0.52772,     0.52821,      0.5287,     0.53701,     0.54209,      0.5443,     0.54836,     0.55101,     0.55185,     0.55278,     0.55442,     0.56009,     0.56466,     0.56723,     0.56892,     0.57379,     0.57524,     0.57658,     0.57771,     0.57862,     0.57968,     0.58094,     0.57987,\n",
       "            0.58092,     0.58521,     0.58803,      0.5905,      0.5959,     0.60084,      0.6013,     0.60175,      0.6022,     0.60468,     0.60705,     0.60924,     0.61087,     0.61173,      0.6126,     0.61347,     0.61434,     0.61743,     0.61866,     0.62213,     0.62438,     0.62759,     0.62812,\n",
       "            0.62865,     0.62918,     0.62971,     0.63496,     0.63886,     0.63951,     0.64017,     0.64083,     0.64272,     0.64232,     0.64192,      0.6431,     0.64557,     0.64886,     0.64935,     0.64983,     0.65032,      0.6508,     0.65052,     0.65228,      0.6535,     0.65633,     0.66227,\n",
       "            0.66322,     0.66417,     0.66455,     0.66677,     0.66753,     0.66829,     0.66905,     0.67047,     0.67183,     0.67248,     0.67313,     0.67378,     0.67486,     0.67677,     0.67631,     0.67585,     0.67546,     0.67517,     0.67488,     0.67458,     0.67457,     0.67651,     0.67746,\n",
       "            0.67816,     0.67885,     0.67829,      0.6775,     0.67683,     0.67631,     0.67579,     0.67844,     0.68026,     0.68229,     0.68359,     0.68295,     0.68284,     0.68367,      0.6845,     0.68537,     0.68677,     0.68822,     0.68996,     0.69438,     0.69591,     0.69674,     0.69728,\n",
       "            0.69782,     0.69836,      0.6989,      0.6994,     0.69986,     0.70032,     0.70078,     0.70124,      0.7017,     0.70225,     0.70309,     0.70394,     0.70478,     0.70602,     0.70734,     0.71078,     0.71213,     0.71347,     0.71243,     0.71213,     0.71184,     0.71154,     0.71155,\n",
       "            0.71284,     0.71413,     0.71394,     0.71354,     0.71315,     0.71343,     0.71385,     0.71427,     0.71469,     0.71511,     0.71553,     0.71595,     0.71652,     0.71718,     0.71784,     0.71849,     0.71919,     0.72385,     0.72513,     0.72467,      0.7242,     0.72635,     0.73014,\n",
       "            0.72968,     0.72939,     0.73103,     0.73244,     0.73232,      0.7322,     0.73208,     0.73196,     0.73184,     0.73173,     0.73161,     0.73149,     0.73137,     0.73123,     0.73103,     0.73084,     0.73064,     0.73045,     0.73025,     0.73033,     0.73189,     0.73346,     0.73504,\n",
       "            0.73661,     0.73716,     0.73772,     0.73827,     0.73882,     0.73937,     0.73991,     0.73979,     0.73966,     0.73954,     0.73942,      0.7393,     0.73918,     0.73906,     0.73893,     0.73881,     0.74055,     0.74515,      0.7444,     0.74492,     0.74543,     0.74595,     0.74647,\n",
       "            0.74699,     0.74751,     0.74753,     0.74725,     0.74697,     0.74669,     0.74622,     0.74553,     0.74415,      0.7431,     0.74515,     0.74642,     0.74623,     0.74605,     0.74587,     0.74569,     0.74551,     0.74533,     0.74875,     0.74862,      0.7485,     0.74837,     0.74825,\n",
       "            0.74812,       0.748,     0.74787,     0.74774,     0.74762,     0.74751,     0.74739,     0.74728,     0.74717,     0.74706,     0.74694,     0.74683,     0.74672,     0.74661,     0.74649,     0.74672,     0.74785,     0.74899,     0.75031,     0.75328,     0.75379,     0.75397,     0.75415,\n",
       "            0.75433,     0.75452,      0.7547,     0.75488,     0.75507,     0.75525,     0.75543,     0.75561,      0.7558,     0.75598,     0.75616,     0.75635,     0.75653,     0.75671,     0.75689,     0.75708,     0.75726,     0.76089,     0.76036,     0.75983,     0.76128,     0.76281,     0.76444,\n",
       "            0.76616,     0.76784,      0.7694,     0.77097,     0.77077,     0.77034,     0.77013,     0.77076,      0.7714,     0.77203,     0.77267,      0.7733,     0.77386,     0.77378,     0.77369,      0.7736,     0.77352,     0.77343,     0.77335,     0.77326,     0.77318,     0.77309,     0.77301,\n",
       "            0.77292,     0.77284,     0.77275,     0.77374,      0.7752,     0.77667,     0.77847,     0.78028,     0.78395,     0.78519,     0.78589,     0.78658,     0.78727,     0.78796,     0.78865,     0.78841,     0.78816,     0.78792,     0.78767,     0.78823,     0.78935,     0.79047,     0.79159,\n",
       "            0.79273,     0.79386,     0.79499,     0.79551,     0.79468,     0.79447,     0.79427,     0.79407,     0.79387,     0.79366,     0.79568,     0.79784,     0.79758,     0.79729,     0.79699,     0.80252,     0.80519,     0.80457,      0.8031,     0.80282,     0.80255,     0.80227,     0.80265,\n",
       "            0.80325,     0.80386,     0.80446,     0.80507,     0.80568,     0.80628,     0.80697,     0.80777,     0.80857,     0.80937,     0.81016,     0.81096,     0.81177,     0.81258,     0.81338,     0.81419,       0.815,     0.81553,       0.815,     0.81521,     0.81756,     0.82065,     0.82379,\n",
       "            0.82358,     0.82336,     0.82314,     0.82292,     0.82273,     0.82255,     0.82237,     0.82219,     0.82201,     0.82175,      0.8209,     0.82171,     0.82253,     0.82334,     0.82416,     0.82497,     0.82621,     0.82869,     0.83039,     0.83033,     0.83027,     0.83021,     0.83015,\n",
       "            0.83009,     0.83002,     0.82996,      0.8299,     0.82984,     0.82978,     0.82972,     0.82966,      0.8296,     0.82954,     0.82948,     0.82941,     0.82933,     0.82924,     0.82915,     0.82906,     0.82897,     0.82889,      0.8288,     0.82871,     0.82862,     0.82853,     0.82845,\n",
       "            0.82891,     0.82992,     0.83093,     0.83194,     0.83295,     0.83651,     0.84166,     0.84513,     0.84775,     0.85333,     0.85287,     0.85414,     0.85594,     0.85774,     0.85868,     0.85946,     0.86024,     0.86102,      0.8618,     0.86258,     0.86336,     0.86415,     0.86494,\n",
       "            0.86573,     0.86652,     0.86731,      0.8681,      0.8686,     0.87339,     0.87325,     0.87311,     0.87298,     0.87284,      0.8727,     0.87173,     0.87157,      0.8714,     0.87123,     0.87106,     0.87076,     0.87033,     0.87004,     0.86986,     0.86969,     0.86952,     0.86934,\n",
       "            0.87004,     0.87121,     0.87238,     0.87356,     0.87473,     0.87614,     0.87763,     0.87911,      0.8806,     0.88175,     0.88377,     0.88578,     0.88572,     0.88552,     0.88533,     0.88513,     0.88502,      0.8849,     0.88479,     0.88467,     0.88456,     0.88444,     0.88427,\n",
       "            0.88386,     0.88353,     0.88339,     0.88325,     0.88311,     0.88298,     0.88284,     0.88318,     0.88423,     0.88528,     0.88632,     0.88737,     0.88842,     0.88933,     0.89012,     0.89092,     0.89172,     0.89251,     0.89331,     0.89411,      0.8949,     0.89631,     0.89792,\n",
       "            0.89954,     0.90115,     0.90264,     0.90409,     0.90555,       0.907,      0.9083,     0.90941,     0.91052,     0.91163,     0.91273,     0.91384,     0.91442,     0.91464,     0.91486,     0.91508,      0.9153,     0.91552,     0.91574,     0.91597,     0.91619,     0.91641,     0.91663,\n",
       "            0.91685,     0.91707,     0.91729,     0.91751,     0.91773,     0.91796,     0.91818,      0.9184,     0.91862,     0.91884,     0.91906,     0.91928,      0.9195,     0.91972,     0.91994,     0.92017,     0.92039,     0.92061,     0.92083,     0.92117,     0.92153,     0.92189,     0.92225,\n",
       "            0.92261,     0.92297,     0.92333,     0.92369,     0.92405,     0.92441,     0.92477,     0.92513,     0.92549,     0.92585,     0.92621,     0.92657,     0.92693,     0.92729,     0.92786,     0.92893,        0.93,     0.93107,     0.93214,      0.9332,     0.93427,     0.93415,     0.93398,\n",
       "             0.9338,     0.93356,     0.93713,     0.94026,     0.93996,     0.93955,     0.94704,     0.94775,     0.94847,     0.94918,     0.94989,      0.9506,     0.95131,     0.95202,     0.95273,     0.95344,      0.9539,     0.95485,     0.95581,     0.95676,     0.95772,     0.95867,     0.95963,\n",
       "            0.96058,     0.96091,     0.96086,     0.96081,     0.96076,     0.96071,     0.96066,      0.9603,     0.96022,     0.96015,     0.96008,     0.96001,     0.95953,     0.95936,      0.9593,     0.95925,     0.95921,     0.95916,     0.95911,     0.95906,     0.95901,     0.95891,     0.95881,\n",
       "            0.95871,     0.96031,     0.96265,     0.96499,     0.96663,     0.96648,     0.96632,     0.96613,     0.96606,     0.96601,     0.96596,     0.96591,     0.96586,     0.96581,     0.96576,      0.9657,     0.96565,     0.96559,     0.96554,     0.96549,     0.96545,     0.96541,     0.96537,\n",
       "            0.96533,     0.96529,     0.96524,     0.96511,     0.96489,     0.96484,     0.96479,     0.96473,     0.96468,     0.96463,     0.96456,     0.96448,      0.9644,     0.96432,     0.96409,     0.96358,      0.9635,     0.96341,     0.96333,     0.96271,     0.96255,     0.96246,     0.96237,\n",
       "            0.96228,     0.96224,     0.96221,     0.96218,     0.96216,     0.96213,      0.9621,     0.96207,     0.96204,     0.96201,     0.96199,     0.96196,     0.96193,     0.96189,      0.9618,      0.9617,     0.96161,     0.96147,     0.96122,     0.96114,     0.96112,     0.96109,     0.96106,\n",
       "            0.96104,     0.96101,     0.96098,     0.96096,     0.96093,      0.9609,     0.96087,     0.96085,     0.96082,     0.96079,     0.96074,     0.96066,     0.96059,     0.96052,     0.96045,     0.96037,     0.96028,     0.96019,      0.9601,     0.96001,     0.96963,     0.96947,     0.96924,\n",
       "             0.9687,     0.96861,     0.96851,     0.96841,     0.96824,     0.96808,       0.968,     0.96792,     0.96784,     0.96776,     0.96761,     0.96743,     0.96733,     0.96725,     0.96716,     0.96708,     0.96698,     0.96682,     0.96667,     0.96659,      0.9665,     0.96642,     0.96633,\n",
       "            0.96607,     0.96528,     0.96486,     0.96464,     0.96453,     0.96442,     0.96432,     0.96418,     0.96403,     0.96388,     0.96334,     0.96311,     0.96288,     0.96264,      0.9623,     0.96181,     0.96271,     0.96527,     0.96783,     0.97039,     0.97295,     0.97332,     0.97317,\n",
       "            0.97302,     0.97285,     0.97266,     0.97216,      0.9719,      0.9709,     0.97008,     0.96985,     0.97485,     0.98453,     0.98431,     0.98414,     0.98375,     0.98361,     0.98276,     0.98274,     0.98271,     0.98269,     0.98267,     0.98264,     0.98262,      0.9826,     0.98257,\n",
       "            0.98255,     0.98253,     0.98251,     0.98248,     0.98246,           1,           1,           1,           1,           1,           1,           1,           1,           1,           1,           1,           1,           1,           1,           1,           1,           1,           1,\n",
       "                  1,           1,           1,           1,           1,           1,           1,           1,           1,           1,           1,           1,           1,           1,           1,           1,           1,           1,           1,           1,           1,           1,           1,\n",
       "                  1,           1,           1,           1,           1,           1,           1,           1,           1,           1,           1,           1,           1,           1,           1,           1,           1,           1,           1,           1,           1,           1,           1,\n",
       "                  1,           1,           1,           1,           1,           1,           1,           1,           1,           1,           1,           1,           1,           1,           1,           1,           1,           1,           1,           1,           1,           1,           1,\n",
       "                  1,           1,           1,           1,           1,           1,           1,           1,           1,           1,           1,           1,           1,           1,           1,           1,           1,           1,           1,           1,           1,           1,           1,\n",
       "                  1,           1,           1,           1,           1,           1,           1,           1,           1,           1,           1,           1,           1,           1,           1,           1,           1,           1,           1,           1,           1,           1,           1,\n",
       "                  1,           1,           1,           1,           1,           1,           1,           1,           1,           1,           1,           1,           1,           1,           1,           1,           1,           1,           1,           1,           1,           1,           1,\n",
       "                  1,           1,           1,           1,           1,           1,           1,           1,           1,           1,           1]]), 'Confidence', 'Precision'], [array([          0,    0.001001,    0.002002,    0.003003,    0.004004,    0.005005,    0.006006,    0.007007,    0.008008,    0.009009,     0.01001,    0.011011,    0.012012,    0.013013,    0.014014,    0.015015,    0.016016,    0.017017,    0.018018,    0.019019,     0.02002,    0.021021,    0.022022,    0.023023,\n",
       "          0.024024,    0.025025,    0.026026,    0.027027,    0.028028,    0.029029,     0.03003,    0.031031,    0.032032,    0.033033,    0.034034,    0.035035,    0.036036,    0.037037,    0.038038,    0.039039,     0.04004,    0.041041,    0.042042,    0.043043,    0.044044,    0.045045,    0.046046,    0.047047,\n",
       "          0.048048,    0.049049,     0.05005,    0.051051,    0.052052,    0.053053,    0.054054,    0.055055,    0.056056,    0.057057,    0.058058,    0.059059,     0.06006,    0.061061,    0.062062,    0.063063,    0.064064,    0.065065,    0.066066,    0.067067,    0.068068,    0.069069,     0.07007,    0.071071,\n",
       "          0.072072,    0.073073,    0.074074,    0.075075,    0.076076,    0.077077,    0.078078,    0.079079,     0.08008,    0.081081,    0.082082,    0.083083,    0.084084,    0.085085,    0.086086,    0.087087,    0.088088,    0.089089,     0.09009,    0.091091,    0.092092,    0.093093,    0.094094,    0.095095,\n",
       "          0.096096,    0.097097,    0.098098,    0.099099,      0.1001,      0.1011,      0.1021,      0.1031,      0.1041,     0.10511,     0.10611,     0.10711,     0.10811,     0.10911,     0.11011,     0.11111,     0.11211,     0.11311,     0.11411,     0.11512,     0.11612,     0.11712,     0.11812,     0.11912,\n",
       "           0.12012,     0.12112,     0.12212,     0.12312,     0.12412,     0.12513,     0.12613,     0.12713,     0.12813,     0.12913,     0.13013,     0.13113,     0.13213,     0.13313,     0.13413,     0.13514,     0.13614,     0.13714,     0.13814,     0.13914,     0.14014,     0.14114,     0.14214,     0.14314,\n",
       "           0.14414,     0.14515,     0.14615,     0.14715,     0.14815,     0.14915,     0.15015,     0.15115,     0.15215,     0.15315,     0.15415,     0.15516,     0.15616,     0.15716,     0.15816,     0.15916,     0.16016,     0.16116,     0.16216,     0.16316,     0.16416,     0.16517,     0.16617,     0.16717,\n",
       "           0.16817,     0.16917,     0.17017,     0.17117,     0.17217,     0.17317,     0.17417,     0.17518,     0.17618,     0.17718,     0.17818,     0.17918,     0.18018,     0.18118,     0.18218,     0.18318,     0.18418,     0.18519,     0.18619,     0.18719,     0.18819,     0.18919,     0.19019,     0.19119,\n",
       "           0.19219,     0.19319,     0.19419,      0.1952,      0.1962,      0.1972,      0.1982,      0.1992,      0.2002,      0.2012,      0.2022,      0.2032,      0.2042,     0.20521,     0.20621,     0.20721,     0.20821,     0.20921,     0.21021,     0.21121,     0.21221,     0.21321,     0.21421,     0.21522,\n",
       "           0.21622,     0.21722,     0.21822,     0.21922,     0.22022,     0.22122,     0.22222,     0.22322,     0.22422,     0.22523,     0.22623,     0.22723,     0.22823,     0.22923,     0.23023,     0.23123,     0.23223,     0.23323,     0.23423,     0.23524,     0.23624,     0.23724,     0.23824,     0.23924,\n",
       "           0.24024,     0.24124,     0.24224,     0.24324,     0.24424,     0.24525,     0.24625,     0.24725,     0.24825,     0.24925,     0.25025,     0.25125,     0.25225,     0.25325,     0.25425,     0.25526,     0.25626,     0.25726,     0.25826,     0.25926,     0.26026,     0.26126,     0.26226,     0.26326,\n",
       "           0.26426,     0.26527,     0.26627,     0.26727,     0.26827,     0.26927,     0.27027,     0.27127,     0.27227,     0.27327,     0.27427,     0.27528,     0.27628,     0.27728,     0.27828,     0.27928,     0.28028,     0.28128,     0.28228,     0.28328,     0.28428,     0.28529,     0.28629,     0.28729,\n",
       "           0.28829,     0.28929,     0.29029,     0.29129,     0.29229,     0.29329,     0.29429,      0.2953,      0.2963,      0.2973,      0.2983,      0.2993,      0.3003,      0.3013,      0.3023,      0.3033,      0.3043,     0.30531,     0.30631,     0.30731,     0.30831,     0.30931,     0.31031,     0.31131,\n",
       "           0.31231,     0.31331,     0.31431,     0.31532,     0.31632,     0.31732,     0.31832,     0.31932,     0.32032,     0.32132,     0.32232,     0.32332,     0.32432,     0.32533,     0.32633,     0.32733,     0.32833,     0.32933,     0.33033,     0.33133,     0.33233,     0.33333,     0.33433,     0.33534,\n",
       "           0.33634,     0.33734,     0.33834,     0.33934,     0.34034,     0.34134,     0.34234,     0.34334,     0.34434,     0.34535,     0.34635,     0.34735,     0.34835,     0.34935,     0.35035,     0.35135,     0.35235,     0.35335,     0.35435,     0.35536,     0.35636,     0.35736,     0.35836,     0.35936,\n",
       "           0.36036,     0.36136,     0.36236,     0.36336,     0.36436,     0.36537,     0.36637,     0.36737,     0.36837,     0.36937,     0.37037,     0.37137,     0.37237,     0.37337,     0.37437,     0.37538,     0.37638,     0.37738,     0.37838,     0.37938,     0.38038,     0.38138,     0.38238,     0.38338,\n",
       "           0.38438,     0.38539,     0.38639,     0.38739,     0.38839,     0.38939,     0.39039,     0.39139,     0.39239,     0.39339,     0.39439,      0.3954,      0.3964,      0.3974,      0.3984,      0.3994,      0.4004,      0.4014,      0.4024,      0.4034,      0.4044,     0.40541,     0.40641,     0.40741,\n",
       "           0.40841,     0.40941,     0.41041,     0.41141,     0.41241,     0.41341,     0.41441,     0.41542,     0.41642,     0.41742,     0.41842,     0.41942,     0.42042,     0.42142,     0.42242,     0.42342,     0.42442,     0.42543,     0.42643,     0.42743,     0.42843,     0.42943,     0.43043,     0.43143,\n",
       "           0.43243,     0.43343,     0.43443,     0.43544,     0.43644,     0.43744,     0.43844,     0.43944,     0.44044,     0.44144,     0.44244,     0.44344,     0.44444,     0.44545,     0.44645,     0.44745,     0.44845,     0.44945,     0.45045,     0.45145,     0.45245,     0.45345,     0.45445,     0.45546,\n",
       "           0.45646,     0.45746,     0.45846,     0.45946,     0.46046,     0.46146,     0.46246,     0.46346,     0.46446,     0.46547,     0.46647,     0.46747,     0.46847,     0.46947,     0.47047,     0.47147,     0.47247,     0.47347,     0.47447,     0.47548,     0.47648,     0.47748,     0.47848,     0.47948,\n",
       "           0.48048,     0.48148,     0.48248,     0.48348,     0.48448,     0.48549,     0.48649,     0.48749,     0.48849,     0.48949,     0.49049,     0.49149,     0.49249,     0.49349,     0.49449,      0.4955,      0.4965,      0.4975,      0.4985,      0.4995,      0.5005,      0.5015,      0.5025,      0.5035,\n",
       "            0.5045,     0.50551,     0.50651,     0.50751,     0.50851,     0.50951,     0.51051,     0.51151,     0.51251,     0.51351,     0.51451,     0.51552,     0.51652,     0.51752,     0.51852,     0.51952,     0.52052,     0.52152,     0.52252,     0.52352,     0.52452,     0.52553,     0.52653,     0.52753,\n",
       "           0.52853,     0.52953,     0.53053,     0.53153,     0.53253,     0.53353,     0.53453,     0.53554,     0.53654,     0.53754,     0.53854,     0.53954,     0.54054,     0.54154,     0.54254,     0.54354,     0.54454,     0.54555,     0.54655,     0.54755,     0.54855,     0.54955,     0.55055,     0.55155,\n",
       "           0.55255,     0.55355,     0.55455,     0.55556,     0.55656,     0.55756,     0.55856,     0.55956,     0.56056,     0.56156,     0.56256,     0.56356,     0.56456,     0.56557,     0.56657,     0.56757,     0.56857,     0.56957,     0.57057,     0.57157,     0.57257,     0.57357,     0.57457,     0.57558,\n",
       "           0.57658,     0.57758,     0.57858,     0.57958,     0.58058,     0.58158,     0.58258,     0.58358,     0.58458,     0.58559,     0.58659,     0.58759,     0.58859,     0.58959,     0.59059,     0.59159,     0.59259,     0.59359,     0.59459,      0.5956,      0.5966,      0.5976,      0.5986,      0.5996,\n",
       "            0.6006,      0.6016,      0.6026,      0.6036,      0.6046,     0.60561,     0.60661,     0.60761,     0.60861,     0.60961,     0.61061,     0.61161,     0.61261,     0.61361,     0.61461,     0.61562,     0.61662,     0.61762,     0.61862,     0.61962,     0.62062,     0.62162,     0.62262,     0.62362,\n",
       "           0.62462,     0.62563,     0.62663,     0.62763,     0.62863,     0.62963,     0.63063,     0.63163,     0.63263,     0.63363,     0.63463,     0.63564,     0.63664,     0.63764,     0.63864,     0.63964,     0.64064,     0.64164,     0.64264,     0.64364,     0.64464,     0.64565,     0.64665,     0.64765,\n",
       "           0.64865,     0.64965,     0.65065,     0.65165,     0.65265,     0.65365,     0.65465,     0.65566,     0.65666,     0.65766,     0.65866,     0.65966,     0.66066,     0.66166,     0.66266,     0.66366,     0.66466,     0.66567,     0.66667,     0.66767,     0.66867,     0.66967,     0.67067,     0.67167,\n",
       "           0.67267,     0.67367,     0.67467,     0.67568,     0.67668,     0.67768,     0.67868,     0.67968,     0.68068,     0.68168,     0.68268,     0.68368,     0.68468,     0.68569,     0.68669,     0.68769,     0.68869,     0.68969,     0.69069,     0.69169,     0.69269,     0.69369,     0.69469,      0.6957,\n",
       "            0.6967,      0.6977,      0.6987,      0.6997,      0.7007,      0.7017,      0.7027,      0.7037,      0.7047,     0.70571,     0.70671,     0.70771,     0.70871,     0.70971,     0.71071,     0.71171,     0.71271,     0.71371,     0.71471,     0.71572,     0.71672,     0.71772,     0.71872,     0.71972,\n",
       "           0.72072,     0.72172,     0.72272,     0.72372,     0.72472,     0.72573,     0.72673,     0.72773,     0.72873,     0.72973,     0.73073,     0.73173,     0.73273,     0.73373,     0.73473,     0.73574,     0.73674,     0.73774,     0.73874,     0.73974,     0.74074,     0.74174,     0.74274,     0.74374,\n",
       "           0.74474,     0.74575,     0.74675,     0.74775,     0.74875,     0.74975,     0.75075,     0.75175,     0.75275,     0.75375,     0.75475,     0.75576,     0.75676,     0.75776,     0.75876,     0.75976,     0.76076,     0.76176,     0.76276,     0.76376,     0.76476,     0.76577,     0.76677,     0.76777,\n",
       "           0.76877,     0.76977,     0.77077,     0.77177,     0.77277,     0.77377,     0.77477,     0.77578,     0.77678,     0.77778,     0.77878,     0.77978,     0.78078,     0.78178,     0.78278,     0.78378,     0.78478,     0.78579,     0.78679,     0.78779,     0.78879,     0.78979,     0.79079,     0.79179,\n",
       "           0.79279,     0.79379,     0.79479,      0.7958,      0.7968,      0.7978,      0.7988,      0.7998,      0.8008,      0.8018,      0.8028,      0.8038,      0.8048,     0.80581,     0.80681,     0.80781,     0.80881,     0.80981,     0.81081,     0.81181,     0.81281,     0.81381,     0.81481,     0.81582,\n",
       "           0.81682,     0.81782,     0.81882,     0.81982,     0.82082,     0.82182,     0.82282,     0.82382,     0.82482,     0.82583,     0.82683,     0.82783,     0.82883,     0.82983,     0.83083,     0.83183,     0.83283,     0.83383,     0.83483,     0.83584,     0.83684,     0.83784,     0.83884,     0.83984,\n",
       "           0.84084,     0.84184,     0.84284,     0.84384,     0.84484,     0.84585,     0.84685,     0.84785,     0.84885,     0.84985,     0.85085,     0.85185,     0.85285,     0.85385,     0.85485,     0.85586,     0.85686,     0.85786,     0.85886,     0.85986,     0.86086,     0.86186,     0.86286,     0.86386,\n",
       "           0.86486,     0.86587,     0.86687,     0.86787,     0.86887,     0.86987,     0.87087,     0.87187,     0.87287,     0.87387,     0.87487,     0.87588,     0.87688,     0.87788,     0.87888,     0.87988,     0.88088,     0.88188,     0.88288,     0.88388,     0.88488,     0.88589,     0.88689,     0.88789,\n",
       "           0.88889,     0.88989,     0.89089,     0.89189,     0.89289,     0.89389,     0.89489,      0.8959,      0.8969,      0.8979,      0.8989,      0.8999,      0.9009,      0.9019,      0.9029,      0.9039,      0.9049,     0.90591,     0.90691,     0.90791,     0.90891,     0.90991,     0.91091,     0.91191,\n",
       "           0.91291,     0.91391,     0.91491,     0.91592,     0.91692,     0.91792,     0.91892,     0.91992,     0.92092,     0.92192,     0.92292,     0.92392,     0.92492,     0.92593,     0.92693,     0.92793,     0.92893,     0.92993,     0.93093,     0.93193,     0.93293,     0.93393,     0.93493,     0.93594,\n",
       "           0.93694,     0.93794,     0.93894,     0.93994,     0.94094,     0.94194,     0.94294,     0.94394,     0.94494,     0.94595,     0.94695,     0.94795,     0.94895,     0.94995,     0.95095,     0.95195,     0.95295,     0.95395,     0.95495,     0.95596,     0.95696,     0.95796,     0.95896,     0.95996,\n",
       "           0.96096,     0.96196,     0.96296,     0.96396,     0.96496,     0.96597,     0.96697,     0.96797,     0.96897,     0.96997,     0.97097,     0.97197,     0.97297,     0.97397,     0.97497,     0.97598,     0.97698,     0.97798,     0.97898,     0.97998,     0.98098,     0.98198,     0.98298,     0.98398,\n",
       "           0.98498,     0.98599,     0.98699,     0.98799,     0.98899,     0.98999,     0.99099,     0.99199,     0.99299,     0.99399,     0.99499,       0.996,       0.997,       0.998,       0.999,           1]), array([[    0.94527,     0.94527,     0.94527,      0.9403,      0.9403,     0.93035,     0.92537,     0.92537,     0.92537,     0.92537,     0.92537,     0.92537,     0.92537,     0.92537,     0.92537,      0.9204,      0.9204,      0.9204,      0.9204,      0.9204,      0.9204,      0.9204,      0.9204,\n",
       "            0.91542,     0.91542,     0.91542,     0.91542,     0.91542,     0.91542,     0.91542,     0.91542,     0.91542,     0.91542,     0.91542,     0.91542,     0.91542,     0.91542,     0.91542,     0.91542,     0.91542,     0.91542,     0.91542,     0.91542,     0.91542,     0.91542,     0.91542,\n",
       "            0.91542,     0.91542,     0.91542,     0.91542,     0.91542,     0.91542,     0.91542,     0.91542,     0.91542,     0.91542,     0.91542,     0.91045,     0.91045,     0.91045,     0.91045,     0.91045,     0.91045,     0.91045,     0.91045,     0.91045,     0.91045,     0.91045,     0.90641,\n",
       "            0.90547,     0.90547,     0.90547,     0.90547,     0.90547,     0.90547,     0.90547,     0.90547,     0.90547,     0.90547,     0.90547,     0.90547,     0.90547,     0.90547,     0.90547,     0.90547,     0.90547,     0.90547,     0.90547,     0.90547,     0.90547,     0.90547,     0.90547,\n",
       "            0.90547,     0.90547,     0.90547,     0.90547,     0.90547,     0.90547,     0.90547,     0.90547,     0.90394,     0.90237,      0.9008,      0.9005,      0.9005,      0.9005,      0.9005,      0.9005,      0.9005,      0.9005,     0.89831,     0.89552,     0.89552,     0.89552,     0.89552,\n",
       "            0.89552,     0.89552,     0.89055,     0.88557,     0.88557,     0.88557,     0.88557,     0.88557,     0.88557,     0.88557,     0.88557,     0.88557,     0.88557,     0.88543,     0.88358,     0.88172,     0.88014,     0.87897,     0.87781,     0.87664,     0.87562,     0.87562,     0.87562,\n",
       "            0.87562,     0.87562,     0.87064,      0.8675,     0.86482,     0.86278,     0.86074,      0.8607,      0.8607,      0.8607,     0.85988,     0.85733,     0.85572,     0.85572,     0.85572,     0.85572,     0.85572,     0.85572,     0.85572,     0.85572,     0.85572,     0.85572,     0.85572,\n",
       "            0.85572,     0.85572,     0.85572,     0.85572,     0.85572,     0.85572,     0.85572,     0.85572,     0.85572,     0.85572,     0.85572,     0.85572,     0.85572,     0.85572,     0.85572,     0.85572,     0.85572,     0.85572,     0.85047,     0.84923,       0.848,     0.84676,     0.84577,\n",
       "            0.84577,     0.84577,     0.84433,      0.8427,     0.84107,      0.8408,      0.8408,      0.8408,      0.8408,      0.8408,      0.8408,      0.8408,      0.8408,      0.8408,      0.8408,      0.8408,      0.8408,      0.8408,     0.83998,     0.83804,      0.8361,     0.83582,     0.83458,\n",
       "            0.83264,     0.83085,     0.83085,     0.83078,     0.83028,     0.82977,     0.82927,     0.82877,     0.82826,     0.82776,     0.82726,     0.82675,     0.82625,     0.82567,     0.82485,     0.82404,     0.82322,      0.8224,     0.82159,      0.8209,      0.8209,      0.8209,      0.8209,\n",
       "             0.8209,      0.8209,      0.8209,      0.8209,      0.8209,      0.8209,     0.82088,     0.82036,     0.81985,     0.81933,     0.81881,      0.8183,     0.81778,     0.81727,     0.81675,     0.81623,     0.81592,     0.81592,     0.81095,     0.81095,     0.81095,     0.81095,     0.81095,\n",
       "            0.81095,     0.81095,     0.81021,     0.80901,     0.80781,     0.80661,      0.8046,     0.80169,     0.79586,     0.79104,     0.79104,     0.79078,     0.79003,     0.78927,     0.78852,     0.78776,       0.787,     0.78625,      0.7858,     0.78528,     0.78475,     0.78423,     0.78371,\n",
       "            0.78318,     0.78266,     0.78214,     0.78161,     0.78109,     0.78063,     0.78016,      0.7797,     0.77924,     0.77877,     0.77831,     0.77785,     0.77738,     0.77692,     0.77646,     0.77612,     0.77612,     0.77612,     0.77612,     0.77612,     0.77612,     0.77612,     0.77612,\n",
       "            0.77612,     0.77612,     0.77612,     0.77612,     0.77612,     0.77612,     0.77612,     0.77612,     0.77612,     0.77612,     0.77612,     0.77612,     0.77612,     0.77612,     0.77612,     0.77612,     0.77612,     0.77577,      0.7735,     0.77124,     0.77114,     0.77114,     0.77114,\n",
       "            0.77114,     0.77114,     0.77114,     0.77114,      0.7695,     0.76765,     0.76617,     0.76617,     0.76617,     0.76617,     0.76617,     0.76617,     0.76613,     0.76576,     0.76539,     0.76502,     0.76465,     0.76428,      0.7639,     0.76353,     0.76316,     0.76279,     0.76242,\n",
       "            0.76205,     0.76168,     0.76131,     0.76119,     0.76119,     0.76119,     0.76119,     0.76119,     0.76119,     0.76119,     0.76119,     0.76119,     0.76119,     0.76119,     0.76119,     0.76008,     0.75895,     0.75781,     0.75668,     0.75622,     0.75622,     0.75622,     0.75622,\n",
       "            0.75622,     0.75622,     0.75622,      0.7548,     0.75096,     0.75004,     0.74911,     0.74818,     0.74726,     0.74633,     0.74627,     0.74627,     0.74493,     0.74357,     0.74221,     0.74129,     0.74027,     0.73736,     0.73052,     0.72925,     0.72797,      0.7267,     0.72637,\n",
       "            0.72637,     0.72637,     0.72637,     0.72637,     0.72637,     0.72637,     0.72637,     0.72637,     0.72637,     0.72637,     0.72637,     0.72637,     0.72637,     0.72637,     0.72637,     0.72637,     0.72637,     0.72585,      0.7233,     0.72139,     0.72139,     0.72139,     0.72104,\n",
       "            0.71997,     0.71889,     0.71782,     0.71675,      0.7158,     0.71492,     0.71403,     0.71314,     0.71226,     0.71102,     0.70647,     0.70647,     0.70647,     0.70647,     0.70647,     0.70647,     0.70647,     0.70647,     0.70638,     0.70607,     0.70577,     0.70546,     0.70516,\n",
       "            0.70485,     0.70455,     0.70424,     0.70394,     0.70364,     0.70333,     0.70303,     0.70272,     0.70242,     0.70211,     0.70181,      0.7015,     0.70107,     0.70064,     0.70021,     0.69977,     0.69934,      0.6989,     0.69847,     0.69804,      0.6976,     0.69717,     0.69673,\n",
       "            0.69652,     0.69652,     0.69652,     0.69652,     0.69652,     0.69652,     0.69652,     0.69652,     0.69652,     0.69468,     0.69213,     0.69154,     0.69154,     0.69154,     0.69154,     0.69154,     0.69154,     0.69154,     0.69154,     0.69154,     0.69154,     0.69154,     0.69154,\n",
       "            0.69154,     0.69154,     0.69154,     0.69154,     0.69061,     0.68639,     0.68554,     0.68469,     0.68384,     0.68299,     0.68214,     0.67626,     0.67524,     0.67422,      0.6732,     0.67218,     0.67043,     0.66788,     0.66613,     0.66511,     0.66409,     0.66307,     0.66205,\n",
       "            0.66169,     0.66169,     0.66169,     0.66169,     0.66169,     0.66169,     0.66169,     0.66169,     0.66169,     0.65672,     0.65672,     0.65672,     0.65552,     0.65424,     0.65297,     0.65171,     0.65099,     0.65026,     0.64953,      0.6488,     0.64807,     0.64734,     0.64624,\n",
       "            0.64369,     0.64157,     0.64072,     0.63987,     0.63902,     0.63817,     0.63732,     0.63682,     0.63682,     0.63682,     0.63682,     0.63682,     0.63682,     0.63682,     0.63682,     0.63682,     0.63682,     0.63682,     0.63682,     0.63682,     0.63682,     0.63682,     0.63682,\n",
       "            0.63682,     0.63682,     0.63682,     0.63682,     0.63682,     0.63682,     0.63682,     0.63682,     0.63682,     0.63682,     0.63682,     0.63682,     0.63682,     0.63682,     0.63682,     0.63682,     0.63682,     0.63682,     0.63682,     0.63682,     0.63682,     0.63682,     0.63682,\n",
       "            0.63682,     0.63682,     0.63682,     0.63682,     0.63682,     0.63682,     0.63682,     0.63682,     0.63682,     0.63682,     0.63682,     0.63682,     0.63682,     0.63682,     0.63682,     0.63682,     0.63682,     0.63682,     0.63682,     0.63682,     0.63682,     0.63682,     0.63682,\n",
       "            0.63682,     0.63682,     0.63682,     0.63682,     0.63682,     0.63682,     0.63682,     0.63682,     0.63682,     0.63682,     0.63682,     0.63682,     0.63682,     0.63682,     0.63682,     0.63682,     0.63682,     0.63682,     0.63682,     0.63682,     0.63682,     0.63517,     0.63347,\n",
       "            0.63164,     0.62687,     0.62687,     0.62648,     0.62308,     0.61858,     0.61692,     0.61692,     0.61692,     0.61692,     0.61692,     0.61692,     0.61692,     0.61692,     0.61692,     0.61692,     0.61194,     0.61194,     0.61194,     0.61194,     0.61194,     0.61194,     0.61194,\n",
       "            0.61194,     0.61145,     0.61067,     0.60988,      0.6091,     0.60831,     0.60753,     0.60167,     0.60053,      0.5994,     0.59827,     0.59714,     0.58976,     0.58721,     0.58638,     0.58565,     0.58492,     0.58419,     0.58346,     0.58274,     0.58192,     0.58047,     0.57901,\n",
       "            0.57755,     0.57711,     0.57711,     0.57711,     0.57639,     0.57384,     0.57101,     0.56761,     0.56642,     0.56557,     0.56472,     0.56387,     0.56302,     0.56217,     0.56125,     0.56032,     0.55939,     0.55846,     0.55754,     0.55677,     0.55609,     0.55541,     0.55473,\n",
       "            0.55405,     0.55337,     0.55269,     0.55054,     0.54696,     0.54611,     0.54526,     0.54441,     0.54356,     0.54271,     0.54164,     0.54037,      0.5391,     0.53782,     0.53424,     0.52656,     0.52529,     0.52401,     0.52274,     0.51372,     0.51148,     0.51021,     0.50893,\n",
       "            0.50766,     0.50713,     0.50674,     0.50635,     0.50595,     0.50556,     0.50517,     0.50478,     0.50438,     0.50399,      0.5036,     0.50321,     0.50282,     0.50228,       0.501,     0.49973,     0.49845,     0.49662,     0.49322,     0.49226,      0.4919,     0.49155,      0.4912,\n",
       "            0.49085,      0.4905,     0.49015,     0.48979,     0.48944,     0.48909,     0.48874,     0.48839,     0.48804,     0.48768,     0.48696,     0.48603,      0.4851,     0.48418,     0.48325,     0.48226,     0.48113,        0.48,     0.47886,     0.47773,     0.47657,     0.47402,      0.4703,\n",
       "            0.46198,     0.46053,     0.45907,     0.45754,     0.45499,      0.4526,     0.45147,     0.45034,      0.4492,     0.44807,     0.44591,     0.44336,     0.44191,     0.44077,     0.43964,     0.43851,     0.43703,     0.43499,     0.43295,     0.43176,     0.43063,      0.4295,     0.42836,\n",
       "            0.42503,     0.41495,     0.40985,     0.40716,     0.40588,     0.40461,     0.40333,     0.40175,     0.40005,     0.39835,     0.39224,     0.38969,     0.38714,     0.38459,       0.381,      0.3759,     0.37313,     0.37313,     0.37313,     0.37313,     0.37313,     0.36299,     0.36095,\n",
       "            0.35892,     0.35654,     0.35399,     0.34753,     0.34413,     0.33199,     0.32265,      0.3201,     0.31841,     0.31657,     0.31212,     0.30872,     0.30113,     0.29858,     0.28363,     0.28321,     0.28283,     0.28245,     0.28207,     0.28169,     0.28132,     0.28094,     0.28056,\n",
       "            0.28018,     0.27981,     0.27943,     0.27905,     0.27867,     0.27223,     0.27053,     0.26883,     0.25787,     0.25583,     0.25379,     0.25125,     0.24865,     0.23865,     0.23525,     0.23329,     0.23236,     0.23144,     0.23051,     0.22958,     0.22842,     0.22638,     0.22434,\n",
       "            0.22124,     0.21859,     0.21757,     0.21655,     0.21553,     0.21451,     0.21304,       0.211,     0.20896,     0.20268,     0.20013,      0.1887,     0.18389,     0.18185,     0.17981,     0.17836,     0.17723,      0.1761,     0.17496,     0.17323,     0.16983,     0.16799,     0.16653,\n",
       "            0.16507,     0.15723,     0.15339,     0.15135,     0.14931,     0.14727,     0.14523,     0.13921,     0.13717,     0.13513,     0.13123,     0.12613,     0.11916,      0.1177,     0.11624,     0.11479,     0.11187,     0.10847,     0.10507,     0.08912,    0.087845,     0.08657,    0.085295,\n",
       "           0.083464,    0.080914,    0.077127,    0.074049,    0.072916,    0.071783,    0.070649,    0.069347,    0.066797,    0.064104,    0.060704,    0.058674,    0.057217,     0.05576,     0.04901,    0.046461,    0.043622,    0.040223,    0.039163,    0.038434,    0.037706,    0.036977,    0.036249,\n",
       "            0.03552,    0.034802,    0.034292,    0.033782,    0.033272,    0.032762,    0.032252,    0.031742,    0.031232,    0.030722,    0.030212,    0.026883,    0.020779,    0.019478,    0.018968,    0.018459,    0.017949,    0.017439,    0.016929,    0.016419,    0.015909,    0.015399,    0.014859,\n",
       "           0.013932,    0.013004,    0.012077,     0.01115,    0.010223,    0.009797,     0.00958,    0.009363,    0.009146,    0.008929,    0.008712,    0.008495,    0.008278,    0.008061,    0.007844,    0.007627,     0.00741,    0.007193,    0.006976,    0.006759,    0.006542,   0.0063249,   0.0061079,\n",
       "          0.0058909,   0.0056739,   0.0054569,   0.0052399,   0.0050229,           0,           0,           0,           0,           0,           0,           0,           0,           0,           0,           0,           0,           0,           0,           0,           0,           0,           0,\n",
       "                  0,           0,           0,           0,           0,           0,           0,           0,           0,           0,           0]]), 'Confidence', 'Recall'], [array([          0,    0.001001,    0.002002,    0.003003,    0.004004,    0.005005,    0.006006,    0.007007,    0.008008,    0.009009,     0.01001,    0.011011,    0.012012,    0.013013,    0.014014,    0.015015,    0.016016,    0.017017,    0.018018,    0.019019,     0.02002,    0.021021,    0.022022,    0.023023,\n",
       "          0.024024,    0.025025,    0.026026,    0.027027,    0.028028,    0.029029,     0.03003,    0.031031,    0.032032,    0.033033,    0.034034,    0.035035,    0.036036,    0.037037,    0.038038,    0.039039,     0.04004,    0.041041,    0.042042,    0.043043,    0.044044,    0.045045,    0.046046,    0.047047,\n",
       "          0.048048,    0.049049,     0.05005,    0.051051,    0.052052,    0.053053,    0.054054,    0.055055,    0.056056,    0.057057,    0.058058,    0.059059,     0.06006,    0.061061,    0.062062,    0.063063,    0.064064,    0.065065,    0.066066,    0.067067,    0.068068,    0.069069,     0.07007,    0.071071,\n",
       "          0.072072,    0.073073,    0.074074,    0.075075,    0.076076,    0.077077,    0.078078,    0.079079,     0.08008,    0.081081,    0.082082,    0.083083,    0.084084,    0.085085,    0.086086,    0.087087,    0.088088,    0.089089,     0.09009,    0.091091,    0.092092,    0.093093,    0.094094,    0.095095,\n",
       "          0.096096,    0.097097,    0.098098,    0.099099,      0.1001,      0.1011,      0.1021,      0.1031,      0.1041,     0.10511,     0.10611,     0.10711,     0.10811,     0.10911,     0.11011,     0.11111,     0.11211,     0.11311,     0.11411,     0.11512,     0.11612,     0.11712,     0.11812,     0.11912,\n",
       "           0.12012,     0.12112,     0.12212,     0.12312,     0.12412,     0.12513,     0.12613,     0.12713,     0.12813,     0.12913,     0.13013,     0.13113,     0.13213,     0.13313,     0.13413,     0.13514,     0.13614,     0.13714,     0.13814,     0.13914,     0.14014,     0.14114,     0.14214,     0.14314,\n",
       "           0.14414,     0.14515,     0.14615,     0.14715,     0.14815,     0.14915,     0.15015,     0.15115,     0.15215,     0.15315,     0.15415,     0.15516,     0.15616,     0.15716,     0.15816,     0.15916,     0.16016,     0.16116,     0.16216,     0.16316,     0.16416,     0.16517,     0.16617,     0.16717,\n",
       "           0.16817,     0.16917,     0.17017,     0.17117,     0.17217,     0.17317,     0.17417,     0.17518,     0.17618,     0.17718,     0.17818,     0.17918,     0.18018,     0.18118,     0.18218,     0.18318,     0.18418,     0.18519,     0.18619,     0.18719,     0.18819,     0.18919,     0.19019,     0.19119,\n",
       "           0.19219,     0.19319,     0.19419,      0.1952,      0.1962,      0.1972,      0.1982,      0.1992,      0.2002,      0.2012,      0.2022,      0.2032,      0.2042,     0.20521,     0.20621,     0.20721,     0.20821,     0.20921,     0.21021,     0.21121,     0.21221,     0.21321,     0.21421,     0.21522,\n",
       "           0.21622,     0.21722,     0.21822,     0.21922,     0.22022,     0.22122,     0.22222,     0.22322,     0.22422,     0.22523,     0.22623,     0.22723,     0.22823,     0.22923,     0.23023,     0.23123,     0.23223,     0.23323,     0.23423,     0.23524,     0.23624,     0.23724,     0.23824,     0.23924,\n",
       "           0.24024,     0.24124,     0.24224,     0.24324,     0.24424,     0.24525,     0.24625,     0.24725,     0.24825,     0.24925,     0.25025,     0.25125,     0.25225,     0.25325,     0.25425,     0.25526,     0.25626,     0.25726,     0.25826,     0.25926,     0.26026,     0.26126,     0.26226,     0.26326,\n",
       "           0.26426,     0.26527,     0.26627,     0.26727,     0.26827,     0.26927,     0.27027,     0.27127,     0.27227,     0.27327,     0.27427,     0.27528,     0.27628,     0.27728,     0.27828,     0.27928,     0.28028,     0.28128,     0.28228,     0.28328,     0.28428,     0.28529,     0.28629,     0.28729,\n",
       "           0.28829,     0.28929,     0.29029,     0.29129,     0.29229,     0.29329,     0.29429,      0.2953,      0.2963,      0.2973,      0.2983,      0.2993,      0.3003,      0.3013,      0.3023,      0.3033,      0.3043,     0.30531,     0.30631,     0.30731,     0.30831,     0.30931,     0.31031,     0.31131,\n",
       "           0.31231,     0.31331,     0.31431,     0.31532,     0.31632,     0.31732,     0.31832,     0.31932,     0.32032,     0.32132,     0.32232,     0.32332,     0.32432,     0.32533,     0.32633,     0.32733,     0.32833,     0.32933,     0.33033,     0.33133,     0.33233,     0.33333,     0.33433,     0.33534,\n",
       "           0.33634,     0.33734,     0.33834,     0.33934,     0.34034,     0.34134,     0.34234,     0.34334,     0.34434,     0.34535,     0.34635,     0.34735,     0.34835,     0.34935,     0.35035,     0.35135,     0.35235,     0.35335,     0.35435,     0.35536,     0.35636,     0.35736,     0.35836,     0.35936,\n",
       "           0.36036,     0.36136,     0.36236,     0.36336,     0.36436,     0.36537,     0.36637,     0.36737,     0.36837,     0.36937,     0.37037,     0.37137,     0.37237,     0.37337,     0.37437,     0.37538,     0.37638,     0.37738,     0.37838,     0.37938,     0.38038,     0.38138,     0.38238,     0.38338,\n",
       "           0.38438,     0.38539,     0.38639,     0.38739,     0.38839,     0.38939,     0.39039,     0.39139,     0.39239,     0.39339,     0.39439,      0.3954,      0.3964,      0.3974,      0.3984,      0.3994,      0.4004,      0.4014,      0.4024,      0.4034,      0.4044,     0.40541,     0.40641,     0.40741,\n",
       "           0.40841,     0.40941,     0.41041,     0.41141,     0.41241,     0.41341,     0.41441,     0.41542,     0.41642,     0.41742,     0.41842,     0.41942,     0.42042,     0.42142,     0.42242,     0.42342,     0.42442,     0.42543,     0.42643,     0.42743,     0.42843,     0.42943,     0.43043,     0.43143,\n",
       "           0.43243,     0.43343,     0.43443,     0.43544,     0.43644,     0.43744,     0.43844,     0.43944,     0.44044,     0.44144,     0.44244,     0.44344,     0.44444,     0.44545,     0.44645,     0.44745,     0.44845,     0.44945,     0.45045,     0.45145,     0.45245,     0.45345,     0.45445,     0.45546,\n",
       "           0.45646,     0.45746,     0.45846,     0.45946,     0.46046,     0.46146,     0.46246,     0.46346,     0.46446,     0.46547,     0.46647,     0.46747,     0.46847,     0.46947,     0.47047,     0.47147,     0.47247,     0.47347,     0.47447,     0.47548,     0.47648,     0.47748,     0.47848,     0.47948,\n",
       "           0.48048,     0.48148,     0.48248,     0.48348,     0.48448,     0.48549,     0.48649,     0.48749,     0.48849,     0.48949,     0.49049,     0.49149,     0.49249,     0.49349,     0.49449,      0.4955,      0.4965,      0.4975,      0.4985,      0.4995,      0.5005,      0.5015,      0.5025,      0.5035,\n",
       "            0.5045,     0.50551,     0.50651,     0.50751,     0.50851,     0.50951,     0.51051,     0.51151,     0.51251,     0.51351,     0.51451,     0.51552,     0.51652,     0.51752,     0.51852,     0.51952,     0.52052,     0.52152,     0.52252,     0.52352,     0.52452,     0.52553,     0.52653,     0.52753,\n",
       "           0.52853,     0.52953,     0.53053,     0.53153,     0.53253,     0.53353,     0.53453,     0.53554,     0.53654,     0.53754,     0.53854,     0.53954,     0.54054,     0.54154,     0.54254,     0.54354,     0.54454,     0.54555,     0.54655,     0.54755,     0.54855,     0.54955,     0.55055,     0.55155,\n",
       "           0.55255,     0.55355,     0.55455,     0.55556,     0.55656,     0.55756,     0.55856,     0.55956,     0.56056,     0.56156,     0.56256,     0.56356,     0.56456,     0.56557,     0.56657,     0.56757,     0.56857,     0.56957,     0.57057,     0.57157,     0.57257,     0.57357,     0.57457,     0.57558,\n",
       "           0.57658,     0.57758,     0.57858,     0.57958,     0.58058,     0.58158,     0.58258,     0.58358,     0.58458,     0.58559,     0.58659,     0.58759,     0.58859,     0.58959,     0.59059,     0.59159,     0.59259,     0.59359,     0.59459,      0.5956,      0.5966,      0.5976,      0.5986,      0.5996,\n",
       "            0.6006,      0.6016,      0.6026,      0.6036,      0.6046,     0.60561,     0.60661,     0.60761,     0.60861,     0.60961,     0.61061,     0.61161,     0.61261,     0.61361,     0.61461,     0.61562,     0.61662,     0.61762,     0.61862,     0.61962,     0.62062,     0.62162,     0.62262,     0.62362,\n",
       "           0.62462,     0.62563,     0.62663,     0.62763,     0.62863,     0.62963,     0.63063,     0.63163,     0.63263,     0.63363,     0.63463,     0.63564,     0.63664,     0.63764,     0.63864,     0.63964,     0.64064,     0.64164,     0.64264,     0.64364,     0.64464,     0.64565,     0.64665,     0.64765,\n",
       "           0.64865,     0.64965,     0.65065,     0.65165,     0.65265,     0.65365,     0.65465,     0.65566,     0.65666,     0.65766,     0.65866,     0.65966,     0.66066,     0.66166,     0.66266,     0.66366,     0.66466,     0.66567,     0.66667,     0.66767,     0.66867,     0.66967,     0.67067,     0.67167,\n",
       "           0.67267,     0.67367,     0.67467,     0.67568,     0.67668,     0.67768,     0.67868,     0.67968,     0.68068,     0.68168,     0.68268,     0.68368,     0.68468,     0.68569,     0.68669,     0.68769,     0.68869,     0.68969,     0.69069,     0.69169,     0.69269,     0.69369,     0.69469,      0.6957,\n",
       "            0.6967,      0.6977,      0.6987,      0.6997,      0.7007,      0.7017,      0.7027,      0.7037,      0.7047,     0.70571,     0.70671,     0.70771,     0.70871,     0.70971,     0.71071,     0.71171,     0.71271,     0.71371,     0.71471,     0.71572,     0.71672,     0.71772,     0.71872,     0.71972,\n",
       "           0.72072,     0.72172,     0.72272,     0.72372,     0.72472,     0.72573,     0.72673,     0.72773,     0.72873,     0.72973,     0.73073,     0.73173,     0.73273,     0.73373,     0.73473,     0.73574,     0.73674,     0.73774,     0.73874,     0.73974,     0.74074,     0.74174,     0.74274,     0.74374,\n",
       "           0.74474,     0.74575,     0.74675,     0.74775,     0.74875,     0.74975,     0.75075,     0.75175,     0.75275,     0.75375,     0.75475,     0.75576,     0.75676,     0.75776,     0.75876,     0.75976,     0.76076,     0.76176,     0.76276,     0.76376,     0.76476,     0.76577,     0.76677,     0.76777,\n",
       "           0.76877,     0.76977,     0.77077,     0.77177,     0.77277,     0.77377,     0.77477,     0.77578,     0.77678,     0.77778,     0.77878,     0.77978,     0.78078,     0.78178,     0.78278,     0.78378,     0.78478,     0.78579,     0.78679,     0.78779,     0.78879,     0.78979,     0.79079,     0.79179,\n",
       "           0.79279,     0.79379,     0.79479,      0.7958,      0.7968,      0.7978,      0.7988,      0.7998,      0.8008,      0.8018,      0.8028,      0.8038,      0.8048,     0.80581,     0.80681,     0.80781,     0.80881,     0.80981,     0.81081,     0.81181,     0.81281,     0.81381,     0.81481,     0.81582,\n",
       "           0.81682,     0.81782,     0.81882,     0.81982,     0.82082,     0.82182,     0.82282,     0.82382,     0.82482,     0.82583,     0.82683,     0.82783,     0.82883,     0.82983,     0.83083,     0.83183,     0.83283,     0.83383,     0.83483,     0.83584,     0.83684,     0.83784,     0.83884,     0.83984,\n",
       "           0.84084,     0.84184,     0.84284,     0.84384,     0.84484,     0.84585,     0.84685,     0.84785,     0.84885,     0.84985,     0.85085,     0.85185,     0.85285,     0.85385,     0.85485,     0.85586,     0.85686,     0.85786,     0.85886,     0.85986,     0.86086,     0.86186,     0.86286,     0.86386,\n",
       "           0.86486,     0.86587,     0.86687,     0.86787,     0.86887,     0.86987,     0.87087,     0.87187,     0.87287,     0.87387,     0.87487,     0.87588,     0.87688,     0.87788,     0.87888,     0.87988,     0.88088,     0.88188,     0.88288,     0.88388,     0.88488,     0.88589,     0.88689,     0.88789,\n",
       "           0.88889,     0.88989,     0.89089,     0.89189,     0.89289,     0.89389,     0.89489,      0.8959,      0.8969,      0.8979,      0.8989,      0.8999,      0.9009,      0.9019,      0.9029,      0.9039,      0.9049,     0.90591,     0.90691,     0.90791,     0.90891,     0.90991,     0.91091,     0.91191,\n",
       "           0.91291,     0.91391,     0.91491,     0.91592,     0.91692,     0.91792,     0.91892,     0.91992,     0.92092,     0.92192,     0.92292,     0.92392,     0.92492,     0.92593,     0.92693,     0.92793,     0.92893,     0.92993,     0.93093,     0.93193,     0.93293,     0.93393,     0.93493,     0.93594,\n",
       "           0.93694,     0.93794,     0.93894,     0.93994,     0.94094,     0.94194,     0.94294,     0.94394,     0.94494,     0.94595,     0.94695,     0.94795,     0.94895,     0.94995,     0.95095,     0.95195,     0.95295,     0.95395,     0.95495,     0.95596,     0.95696,     0.95796,     0.95896,     0.95996,\n",
       "           0.96096,     0.96196,     0.96296,     0.96396,     0.96496,     0.96597,     0.96697,     0.96797,     0.96897,     0.96997,     0.97097,     0.97197,     0.97297,     0.97397,     0.97497,     0.97598,     0.97698,     0.97798,     0.97898,     0.97998,     0.98098,     0.98198,     0.98298,     0.98398,\n",
       "           0.98498,     0.98599,     0.98699,     0.98799,     0.98899,     0.98999,     0.99099,     0.99199,     0.99299,     0.99399,     0.99499,       0.996,       0.997,       0.998,       0.999,           1]), array([[          1,           1,           1,           1,           1,           1,           1,           1,           1,           1,           1,           1,           1,           1,           1,           1,           1,           1,           1,           1,           1,           1,           1,\n",
       "                  1,           1,           1,           1,           1,           1,           1,           1,           1,           1,           1,           1,           1,           1,           1,           1,           1,           1,           1,           1,           1,           1,           1,\n",
       "                  1,           1,           1,           1,           1,           1,           1,           1,           1,           1,           1,           1,           1,           1,           1,           1,           1,           1,           1,           1,           1,           1,           1,\n",
       "                  1,           1,           1,           1,           1,           1,           1,           1,           1,           1,           1,           1,           1,           1,           1,           1,           1,           1,           1,           1,           1,           1,           1,\n",
       "                  1,           1,           1,           1,           1,           1,           1,           1,           1,           1,           1,           1,           1,           1,           1,           1,           1,           1,           1,           1,           1,           1,           1,\n",
       "                  1,           1,           1,           1,           1,           1,           1,           1,           1,           1,           1,           1,           1,           1,           1,           1,           1,           1,           1,           1,           1,           1,           1,\n",
       "                  1,           1,           1,           1,           1,           1,           1,           1,           1,           1,           1,           1,           1,           1,           1,           1,           1,           1,           1,           1,           1,           1,           1,\n",
       "                  1,           1,           1,           1,           1,           1,           1,           1,           1,           1,           1,           1,           1,           1,           1,           1,           1,           1,           1,           1,           1,           1,           1,\n",
       "                  1,           1,           1,           1,           1,           1,           1,           1,           1,           1,           1,           1,           1,           1,           1,           1,           1,           1,           1,           1,           1,           1,           1,\n",
       "                  1,           1,           1,           1,           1,           1,           1,           1,           1,           1,           1,           1,           1,           1,           1,           1,           1,           1,           1,           1,           1,           1,           1,\n",
       "                  1,           1,           1,           1,           1,           1,           1,           1,           1,           1,           1,           1,           1,           1,           1,           1,           1,           1,           1,           1,           1,           1,           1,\n",
       "                  1,           1,           1,           1,           1,           1,           1,           1,           1,           1,           1,           1,           1,           1,           1,           1,           1,           1,           1,           1,           1,     0.98701,     0.98701,\n",
       "            0.98701,     0.98701,     0.98701,     0.98701,     0.98701,     0.98701,     0.98701,     0.98701,     0.98701,     0.98701,     0.98701,     0.98701,     0.98701,     0.98701,     0.98701,     0.98701,     0.98701,     0.98701,     0.98701,     0.98701,     0.98701,     0.98701,     0.98701,\n",
       "            0.98701,     0.98701,     0.98701,     0.98701,     0.98701,     0.98701,     0.98701,     0.98701,     0.98701,     0.98701,     0.98701,     0.98701,     0.98701,     0.98701,     0.98701,     0.98701,     0.98701,     0.98701,     0.98701,     0.98701,     0.98701,     0.98701,     0.98701,\n",
       "            0.98701,     0.98701,     0.98701,     0.98701,     0.98701,     0.98701,     0.98701,     0.98701,     0.98701,     0.98701,     0.98701,     0.98701,     0.98701,     0.98701,     0.98701,     0.98701,     0.98701,     0.98701,     0.98701,     0.98701,     0.98701,     0.98701,     0.98701,\n",
       "            0.98701,     0.98701,     0.98701,     0.98701,     0.98701,     0.98701,     0.98701,     0.98701,     0.98701,     0.98701,     0.98701,     0.98701,     0.98701,     0.98701,     0.98701,     0.98701,     0.98701,     0.98701,     0.98701,     0.98701,     0.98701,     0.98701,     0.98701,\n",
       "            0.98701,     0.98701,     0.98701,     0.98701,     0.98701,     0.98701,     0.98701,     0.98701,     0.98701,     0.98701,      0.9798,      0.9798,      0.9798,      0.9798,      0.9798,      0.9798,      0.9798,      0.9798,      0.9798,      0.9798,      0.9798,      0.9798,      0.9798,\n",
       "             0.9798,      0.9798,      0.9798,      0.9798,      0.9798,      0.9798,      0.9798,      0.9798,      0.9798,      0.9798,      0.9798,      0.9798,      0.9798,      0.9798,      0.9798,      0.9798,      0.9798,      0.9798,      0.9798,      0.9798,      0.9798,      0.9798,      0.9798,\n",
       "             0.9798,      0.9798,      0.9798,      0.9798,      0.9798,      0.9798,      0.9798,      0.9798,      0.9798,      0.9798,      0.9798,      0.9798,      0.9798,      0.9798,      0.9798,      0.9798,      0.9798,      0.9798,      0.9798,      0.9798,      0.9798,      0.9798,      0.9798,\n",
       "             0.9798,      0.9798,      0.9798,      0.9798,      0.9798,      0.9798,      0.9798,      0.9798,      0.9798,      0.9798,      0.9798,      0.9798,      0.9798,      0.9798,      0.9798,      0.9798,      0.9798,      0.9798,      0.9798,      0.9798,      0.9798,      0.9798,      0.9798,\n",
       "             0.9798,      0.9798,      0.9798,      0.9798,      0.9798,      0.9798,      0.9798,      0.9798,      0.9798,      0.9798,      0.9798,      0.9798,      0.9798,      0.9798,      0.9798,      0.9798,      0.9798,      0.9798,      0.9798,      0.9798,      0.9798,      0.9798,      0.9798,\n",
       "            0.97297,     0.97297,     0.97297,     0.97297,     0.97297,     0.97297,     0.97297,     0.97297,     0.97297,     0.97297,     0.97297,     0.97297,     0.97297,     0.97297,     0.97297,     0.97297,     0.97297,     0.97297,     0.97297,     0.97297,     0.97297,     0.97297,     0.97297,\n",
       "            0.97297,     0.97297,     0.97297,     0.97297,     0.97297,     0.97297,     0.97297,     0.97297,     0.97297,     0.97297,     0.97297,     0.97297,     0.97297,     0.97297,     0.97297,     0.97297,     0.97297,     0.97297,     0.97297,     0.97297,     0.97297,     0.97297,     0.97297,\n",
       "            0.97297,     0.97297,     0.97297,     0.97297,     0.97297,     0.97297,     0.97297,     0.97297,     0.96667,     0.96667,     0.96667,     0.96667,     0.96667,     0.96667,     0.96667,     0.96667,     0.96667,     0.96667,     0.96667,     0.96667,     0.96667,     0.96667,     0.96667,\n",
       "            0.96667,     0.96667,     0.96667,     0.96667,     0.96667,     0.96667,     0.96667,     0.96667,     0.96667,     0.96667,     0.96667,     0.96667,     0.96667,     0.96667,     0.96667,     0.96667,     0.96667,     0.96667,     0.96667,     0.96667,     0.96667,     0.96667,     0.96667,\n",
       "            0.96667,     0.96667,     0.96094,     0.96094,     0.96094,     0.96094,     0.96094,     0.96094,     0.96094,     0.96094,     0.96094,     0.96094,     0.96094,     0.96094,     0.96094,     0.96094,     0.96094,     0.96094,     0.96094,     0.96094,     0.96094,     0.96094,     0.96094,\n",
       "            0.96094,     0.96094,     0.96094,     0.96094,     0.96094,     0.96094,     0.96094,     0.96094,     0.96094,     0.96094,     0.96094,     0.96094,     0.96094,     0.96094,     0.95385,     0.95385,     0.95385,     0.95385,     0.95385,      0.9403,      0.9403,      0.9403,      0.9403,\n",
       "             0.9403,      0.9403,      0.9403,      0.9403,      0.9403,      0.9403,     0.93431,     0.93431,     0.93431,     0.93431,     0.93431,     0.93431,     0.93431,     0.93431,     0.93431,     0.93431,     0.88591,     0.88591,     0.88591,     0.88591,     0.88591,     0.88591,     0.88591,\n",
       "            0.88591,     0.88591,     0.88591,     0.88591,     0.88591,     0.88591,     0.88591,     0.88591,     0.88591,     0.88591,     0.88591,     0.88591,     0.88591,     0.88079,     0.88079,     0.88079,     0.88079,     0.88079,     0.87342,     0.87342,     0.87342,     0.87342,     0.87342,\n",
       "            0.87342,     0.87342,     0.87342,     0.87342,     0.87342,     0.87342,     0.87342,     0.87342,     0.87342,     0.87342,     0.87342,     0.87342,     0.87342,     0.87342,     0.87342,     0.87342,     0.87342,     0.87342,     0.87342,     0.86875,     0.86875,     0.86875,     0.86875,\n",
       "            0.86875,     0.85366,     0.85366,     0.85366,     0.85366,     0.85366,     0.83929,     0.83929,     0.83929,     0.83929,     0.83929,     0.83626,     0.83626,     0.83626,     0.83626,     0.83626,     0.83626,     0.83626,     0.83626,     0.83626,     0.83626,     0.82955,     0.82955,\n",
       "            0.82955,     0.82955,     0.82955,     0.82955,     0.82955,     0.82955,     0.82955,     0.82955,     0.82955,     0.82955,     0.82955,     0.82955,     0.82955,     0.82222,     0.82222,     0.82222,     0.82222,     0.82222,     0.82222,     0.82222,     0.82222,     0.82222,     0.82222,\n",
       "            0.81622,     0.81622,     0.81622,     0.81622,     0.81622,     0.81622,     0.81622,     0.81622,     0.81622,     0.81622,     0.81622,     0.81622,     0.81622,     0.81622,     0.81622,     0.80851,     0.80851,     0.80851,     0.80851,     0.80851,     0.80628,     0.80628,     0.80628,\n",
       "            0.80628,     0.80628,     0.80628,     0.80628,     0.80628,     0.80628,     0.80628,     0.79897,     0.79897,     0.79897,     0.79897,     0.79897,     0.78392,     0.78392,     0.78392,     0.78392,     0.78392,     0.78109,     0.78109,     0.78109,     0.78109,     0.78109,     0.77073,\n",
       "            0.77073,     0.77073,     0.77073,     0.77073,     0.75829,     0.75829,     0.75829,     0.75829,     0.75829,     0.75829,     0.75829,     0.75829,     0.75829,     0.75829,     0.75688,     0.75688,     0.75688,     0.75688,     0.75688,     0.75688,     0.75688,     0.75688,     0.75688,\n",
       "            0.75688,     0.75688,     0.75688,     0.75688,     0.75688,     0.75688,     0.75688,     0.75688,     0.75688,     0.75688,     0.75688,     0.75688,     0.75688,     0.75688,     0.75688,     0.75688,     0.75455,     0.75455,     0.75455,     0.75455,     0.75455,     0.73684,     0.73684,\n",
       "            0.73684,     0.73684,     0.73684,     0.73684,     0.73684,     0.73684,     0.73684,     0.73478,     0.73478,     0.73478,     0.73478,     0.73478,     0.72961,     0.72961,     0.72961,     0.72961,     0.72961,     0.71849,     0.71849,     0.71849,     0.71849,     0.71849,     0.71784,\n",
       "            0.71784,     0.71784,     0.71784,     0.71784,     0.71784,     0.71784,     0.71784,     0.71784,     0.71784,     0.68775,     0.68775,     0.68775,     0.68775,     0.68775,     0.68726,     0.68726,     0.68726,     0.68726,     0.68726,     0.68726,     0.68726,     0.68726,     0.68726,\n",
       "            0.68726,     0.68726,     0.68726,     0.68726,     0.68726,     0.68726,     0.68726,     0.68726,     0.68726,     0.68726,     0.68726,     0.68441,     0.68441,     0.68441,     0.68441,     0.68441,     0.68441,     0.68441,     0.68441,     0.68441,     0.68441,     0.67286,     0.67286,\n",
       "            0.67286,     0.67286,     0.67286,     0.65468,     0.65468,     0.65468,     0.65468,     0.65468,     0.64664,     0.64664,     0.64664,     0.64664,     0.64664,     0.58413,     0.58413,     0.58413,     0.58413,     0.58413,     0.55891,     0.55891,     0.55891,     0.55891,     0.55891,\n",
       "            0.23077,     0.23077,     0.23077,     0.23077,     0.23077,     0.20801,     0.20801,     0.20801,     0.20801,     0.20801,     0.14517,     0.14517,     0.14517,     0.14517,     0.14517,    0.071431,    0.070314,    0.069198,    0.068082,    0.066966,     0.06585,    0.064734,    0.063618,\n",
       "           0.062502,    0.061386,     0.06027,    0.059153,    0.058037,    0.056921,    0.055805,    0.054689,    0.053573,    0.052457,    0.051341,    0.050225,    0.049109,    0.047992,    0.046876,     0.04576,    0.044644,    0.043528,    0.042412,    0.041296,     0.04018,    0.039064,    0.037947,\n",
       "           0.036831,    0.035715,    0.034599,    0.033483,    0.032367,    0.031251,    0.030135,    0.029019,    0.027903,    0.026786,     0.02567,    0.024554,    0.023438,    0.022322,    0.021206,     0.02009,    0.018974,    0.017858,    0.016742,    0.015625,    0.014509,    0.013393,    0.012277,\n",
       "           0.011161,    0.010045,   0.0089288,   0.0078127,   0.0066966,   0.0055805,   0.0044644,   0.0033483,   0.0022322,   0.0011161,           0]]), 'Recall', 'Precision'], [array([          0,    0.001001,    0.002002,    0.003003,    0.004004,    0.005005,    0.006006,    0.007007,    0.008008,    0.009009,     0.01001,    0.011011,    0.012012,    0.013013,    0.014014,    0.015015,    0.016016,    0.017017,    0.018018,    0.019019,     0.02002,    0.021021,    0.022022,    0.023023,\n",
       "          0.024024,    0.025025,    0.026026,    0.027027,    0.028028,    0.029029,     0.03003,    0.031031,    0.032032,    0.033033,    0.034034,    0.035035,    0.036036,    0.037037,    0.038038,    0.039039,     0.04004,    0.041041,    0.042042,    0.043043,    0.044044,    0.045045,    0.046046,    0.047047,\n",
       "          0.048048,    0.049049,     0.05005,    0.051051,    0.052052,    0.053053,    0.054054,    0.055055,    0.056056,    0.057057,    0.058058,    0.059059,     0.06006,    0.061061,    0.062062,    0.063063,    0.064064,    0.065065,    0.066066,    0.067067,    0.068068,    0.069069,     0.07007,    0.071071,\n",
       "          0.072072,    0.073073,    0.074074,    0.075075,    0.076076,    0.077077,    0.078078,    0.079079,     0.08008,    0.081081,    0.082082,    0.083083,    0.084084,    0.085085,    0.086086,    0.087087,    0.088088,    0.089089,     0.09009,    0.091091,    0.092092,    0.093093,    0.094094,    0.095095,\n",
       "          0.096096,    0.097097,    0.098098,    0.099099,      0.1001,      0.1011,      0.1021,      0.1031,      0.1041,     0.10511,     0.10611,     0.10711,     0.10811,     0.10911,     0.11011,     0.11111,     0.11211,     0.11311,     0.11411,     0.11512,     0.11612,     0.11712,     0.11812,     0.11912,\n",
       "           0.12012,     0.12112,     0.12212,     0.12312,     0.12412,     0.12513,     0.12613,     0.12713,     0.12813,     0.12913,     0.13013,     0.13113,     0.13213,     0.13313,     0.13413,     0.13514,     0.13614,     0.13714,     0.13814,     0.13914,     0.14014,     0.14114,     0.14214,     0.14314,\n",
       "           0.14414,     0.14515,     0.14615,     0.14715,     0.14815,     0.14915,     0.15015,     0.15115,     0.15215,     0.15315,     0.15415,     0.15516,     0.15616,     0.15716,     0.15816,     0.15916,     0.16016,     0.16116,     0.16216,     0.16316,     0.16416,     0.16517,     0.16617,     0.16717,\n",
       "           0.16817,     0.16917,     0.17017,     0.17117,     0.17217,     0.17317,     0.17417,     0.17518,     0.17618,     0.17718,     0.17818,     0.17918,     0.18018,     0.18118,     0.18218,     0.18318,     0.18418,     0.18519,     0.18619,     0.18719,     0.18819,     0.18919,     0.19019,     0.19119,\n",
       "           0.19219,     0.19319,     0.19419,      0.1952,      0.1962,      0.1972,      0.1982,      0.1992,      0.2002,      0.2012,      0.2022,      0.2032,      0.2042,     0.20521,     0.20621,     0.20721,     0.20821,     0.20921,     0.21021,     0.21121,     0.21221,     0.21321,     0.21421,     0.21522,\n",
       "           0.21622,     0.21722,     0.21822,     0.21922,     0.22022,     0.22122,     0.22222,     0.22322,     0.22422,     0.22523,     0.22623,     0.22723,     0.22823,     0.22923,     0.23023,     0.23123,     0.23223,     0.23323,     0.23423,     0.23524,     0.23624,     0.23724,     0.23824,     0.23924,\n",
       "           0.24024,     0.24124,     0.24224,     0.24324,     0.24424,     0.24525,     0.24625,     0.24725,     0.24825,     0.24925,     0.25025,     0.25125,     0.25225,     0.25325,     0.25425,     0.25526,     0.25626,     0.25726,     0.25826,     0.25926,     0.26026,     0.26126,     0.26226,     0.26326,\n",
       "           0.26426,     0.26527,     0.26627,     0.26727,     0.26827,     0.26927,     0.27027,     0.27127,     0.27227,     0.27327,     0.27427,     0.27528,     0.27628,     0.27728,     0.27828,     0.27928,     0.28028,     0.28128,     0.28228,     0.28328,     0.28428,     0.28529,     0.28629,     0.28729,\n",
       "           0.28829,     0.28929,     0.29029,     0.29129,     0.29229,     0.29329,     0.29429,      0.2953,      0.2963,      0.2973,      0.2983,      0.2993,      0.3003,      0.3013,      0.3023,      0.3033,      0.3043,     0.30531,     0.30631,     0.30731,     0.30831,     0.30931,     0.31031,     0.31131,\n",
       "           0.31231,     0.31331,     0.31431,     0.31532,     0.31632,     0.31732,     0.31832,     0.31932,     0.32032,     0.32132,     0.32232,     0.32332,     0.32432,     0.32533,     0.32633,     0.32733,     0.32833,     0.32933,     0.33033,     0.33133,     0.33233,     0.33333,     0.33433,     0.33534,\n",
       "           0.33634,     0.33734,     0.33834,     0.33934,     0.34034,     0.34134,     0.34234,     0.34334,     0.34434,     0.34535,     0.34635,     0.34735,     0.34835,     0.34935,     0.35035,     0.35135,     0.35235,     0.35335,     0.35435,     0.35536,     0.35636,     0.35736,     0.35836,     0.35936,\n",
       "           0.36036,     0.36136,     0.36236,     0.36336,     0.36436,     0.36537,     0.36637,     0.36737,     0.36837,     0.36937,     0.37037,     0.37137,     0.37237,     0.37337,     0.37437,     0.37538,     0.37638,     0.37738,     0.37838,     0.37938,     0.38038,     0.38138,     0.38238,     0.38338,\n",
       "           0.38438,     0.38539,     0.38639,     0.38739,     0.38839,     0.38939,     0.39039,     0.39139,     0.39239,     0.39339,     0.39439,      0.3954,      0.3964,      0.3974,      0.3984,      0.3994,      0.4004,      0.4014,      0.4024,      0.4034,      0.4044,     0.40541,     0.40641,     0.40741,\n",
       "           0.40841,     0.40941,     0.41041,     0.41141,     0.41241,     0.41341,     0.41441,     0.41542,     0.41642,     0.41742,     0.41842,     0.41942,     0.42042,     0.42142,     0.42242,     0.42342,     0.42442,     0.42543,     0.42643,     0.42743,     0.42843,     0.42943,     0.43043,     0.43143,\n",
       "           0.43243,     0.43343,     0.43443,     0.43544,     0.43644,     0.43744,     0.43844,     0.43944,     0.44044,     0.44144,     0.44244,     0.44344,     0.44444,     0.44545,     0.44645,     0.44745,     0.44845,     0.44945,     0.45045,     0.45145,     0.45245,     0.45345,     0.45445,     0.45546,\n",
       "           0.45646,     0.45746,     0.45846,     0.45946,     0.46046,     0.46146,     0.46246,     0.46346,     0.46446,     0.46547,     0.46647,     0.46747,     0.46847,     0.46947,     0.47047,     0.47147,     0.47247,     0.47347,     0.47447,     0.47548,     0.47648,     0.47748,     0.47848,     0.47948,\n",
       "           0.48048,     0.48148,     0.48248,     0.48348,     0.48448,     0.48549,     0.48649,     0.48749,     0.48849,     0.48949,     0.49049,     0.49149,     0.49249,     0.49349,     0.49449,      0.4955,      0.4965,      0.4975,      0.4985,      0.4995,      0.5005,      0.5015,      0.5025,      0.5035,\n",
       "            0.5045,     0.50551,     0.50651,     0.50751,     0.50851,     0.50951,     0.51051,     0.51151,     0.51251,     0.51351,     0.51451,     0.51552,     0.51652,     0.51752,     0.51852,     0.51952,     0.52052,     0.52152,     0.52252,     0.52352,     0.52452,     0.52553,     0.52653,     0.52753,\n",
       "           0.52853,     0.52953,     0.53053,     0.53153,     0.53253,     0.53353,     0.53453,     0.53554,     0.53654,     0.53754,     0.53854,     0.53954,     0.54054,     0.54154,     0.54254,     0.54354,     0.54454,     0.54555,     0.54655,     0.54755,     0.54855,     0.54955,     0.55055,     0.55155,\n",
       "           0.55255,     0.55355,     0.55455,     0.55556,     0.55656,     0.55756,     0.55856,     0.55956,     0.56056,     0.56156,     0.56256,     0.56356,     0.56456,     0.56557,     0.56657,     0.56757,     0.56857,     0.56957,     0.57057,     0.57157,     0.57257,     0.57357,     0.57457,     0.57558,\n",
       "           0.57658,     0.57758,     0.57858,     0.57958,     0.58058,     0.58158,     0.58258,     0.58358,     0.58458,     0.58559,     0.58659,     0.58759,     0.58859,     0.58959,     0.59059,     0.59159,     0.59259,     0.59359,     0.59459,      0.5956,      0.5966,      0.5976,      0.5986,      0.5996,\n",
       "            0.6006,      0.6016,      0.6026,      0.6036,      0.6046,     0.60561,     0.60661,     0.60761,     0.60861,     0.60961,     0.61061,     0.61161,     0.61261,     0.61361,     0.61461,     0.61562,     0.61662,     0.61762,     0.61862,     0.61962,     0.62062,     0.62162,     0.62262,     0.62362,\n",
       "           0.62462,     0.62563,     0.62663,     0.62763,     0.62863,     0.62963,     0.63063,     0.63163,     0.63263,     0.63363,     0.63463,     0.63564,     0.63664,     0.63764,     0.63864,     0.63964,     0.64064,     0.64164,     0.64264,     0.64364,     0.64464,     0.64565,     0.64665,     0.64765,\n",
       "           0.64865,     0.64965,     0.65065,     0.65165,     0.65265,     0.65365,     0.65465,     0.65566,     0.65666,     0.65766,     0.65866,     0.65966,     0.66066,     0.66166,     0.66266,     0.66366,     0.66466,     0.66567,     0.66667,     0.66767,     0.66867,     0.66967,     0.67067,     0.67167,\n",
       "           0.67267,     0.67367,     0.67467,     0.67568,     0.67668,     0.67768,     0.67868,     0.67968,     0.68068,     0.68168,     0.68268,     0.68368,     0.68468,     0.68569,     0.68669,     0.68769,     0.68869,     0.68969,     0.69069,     0.69169,     0.69269,     0.69369,     0.69469,      0.6957,\n",
       "            0.6967,      0.6977,      0.6987,      0.6997,      0.7007,      0.7017,      0.7027,      0.7037,      0.7047,     0.70571,     0.70671,     0.70771,     0.70871,     0.70971,     0.71071,     0.71171,     0.71271,     0.71371,     0.71471,     0.71572,     0.71672,     0.71772,     0.71872,     0.71972,\n",
       "           0.72072,     0.72172,     0.72272,     0.72372,     0.72472,     0.72573,     0.72673,     0.72773,     0.72873,     0.72973,     0.73073,     0.73173,     0.73273,     0.73373,     0.73473,     0.73574,     0.73674,     0.73774,     0.73874,     0.73974,     0.74074,     0.74174,     0.74274,     0.74374,\n",
       "           0.74474,     0.74575,     0.74675,     0.74775,     0.74875,     0.74975,     0.75075,     0.75175,     0.75275,     0.75375,     0.75475,     0.75576,     0.75676,     0.75776,     0.75876,     0.75976,     0.76076,     0.76176,     0.76276,     0.76376,     0.76476,     0.76577,     0.76677,     0.76777,\n",
       "           0.76877,     0.76977,     0.77077,     0.77177,     0.77277,     0.77377,     0.77477,     0.77578,     0.77678,     0.77778,     0.77878,     0.77978,     0.78078,     0.78178,     0.78278,     0.78378,     0.78478,     0.78579,     0.78679,     0.78779,     0.78879,     0.78979,     0.79079,     0.79179,\n",
       "           0.79279,     0.79379,     0.79479,      0.7958,      0.7968,      0.7978,      0.7988,      0.7998,      0.8008,      0.8018,      0.8028,      0.8038,      0.8048,     0.80581,     0.80681,     0.80781,     0.80881,     0.80981,     0.81081,     0.81181,     0.81281,     0.81381,     0.81481,     0.81582,\n",
       "           0.81682,     0.81782,     0.81882,     0.81982,     0.82082,     0.82182,     0.82282,     0.82382,     0.82482,     0.82583,     0.82683,     0.82783,     0.82883,     0.82983,     0.83083,     0.83183,     0.83283,     0.83383,     0.83483,     0.83584,     0.83684,     0.83784,     0.83884,     0.83984,\n",
       "           0.84084,     0.84184,     0.84284,     0.84384,     0.84484,     0.84585,     0.84685,     0.84785,     0.84885,     0.84985,     0.85085,     0.85185,     0.85285,     0.85385,     0.85485,     0.85586,     0.85686,     0.85786,     0.85886,     0.85986,     0.86086,     0.86186,     0.86286,     0.86386,\n",
       "           0.86486,     0.86587,     0.86687,     0.86787,     0.86887,     0.86987,     0.87087,     0.87187,     0.87287,     0.87387,     0.87487,     0.87588,     0.87688,     0.87788,     0.87888,     0.87988,     0.88088,     0.88188,     0.88288,     0.88388,     0.88488,     0.88589,     0.88689,     0.88789,\n",
       "           0.88889,     0.88989,     0.89089,     0.89189,     0.89289,     0.89389,     0.89489,      0.8959,      0.8969,      0.8979,      0.8989,      0.8999,      0.9009,      0.9019,      0.9029,      0.9039,      0.9049,     0.90591,     0.90691,     0.90791,     0.90891,     0.90991,     0.91091,     0.91191,\n",
       "           0.91291,     0.91391,     0.91491,     0.91592,     0.91692,     0.91792,     0.91892,     0.91992,     0.92092,     0.92192,     0.92292,     0.92392,     0.92492,     0.92593,     0.92693,     0.92793,     0.92893,     0.92993,     0.93093,     0.93193,     0.93293,     0.93393,     0.93493,     0.93594,\n",
       "           0.93694,     0.93794,     0.93894,     0.93994,     0.94094,     0.94194,     0.94294,     0.94394,     0.94494,     0.94595,     0.94695,     0.94795,     0.94895,     0.94995,     0.95095,     0.95195,     0.95295,     0.95395,     0.95495,     0.95596,     0.95696,     0.95796,     0.95896,     0.95996,\n",
       "           0.96096,     0.96196,     0.96296,     0.96396,     0.96496,     0.96597,     0.96697,     0.96797,     0.96897,     0.96997,     0.97097,     0.97197,     0.97297,     0.97397,     0.97497,     0.97598,     0.97698,     0.97798,     0.97898,     0.97998,     0.98098,     0.98198,     0.98298,     0.98398,\n",
       "           0.98498,     0.98599,     0.98699,     0.98799,     0.98899,     0.98999,     0.99099,     0.99199,     0.99299,     0.99399,     0.99499,       0.996,       0.997,       0.998,       0.999,           1]), array([[     0.1339,      0.1339,     0.20784,     0.26171,     0.30704,     0.33886,     0.37189,     0.39402,     0.41764,     0.43925,     0.44686,     0.46558,     0.48085,     0.49525,     0.51043,     0.52371,     0.53384,     0.54698,     0.55644,     0.56254,     0.56945,     0.57251,     0.57537,\n",
       "            0.58084,     0.58745,     0.59265,     0.60336,     0.61061,     0.61407,     0.61758,     0.62279,     0.62683,     0.63058,     0.63205,     0.63577,     0.64258,      0.6453,     0.65184,     0.65505,     0.65724,     0.65789,     0.65973,     0.66123,     0.66356,     0.66623,     0.67274,\n",
       "            0.67313,     0.67353,     0.67392,      0.6806,     0.68465,      0.6864,     0.68959,     0.69168,     0.69233,     0.69306,     0.69434,     0.69732,     0.70083,      0.7028,     0.70409,     0.70779,     0.70888,     0.70989,     0.71074,     0.71143,     0.71223,     0.71317,     0.71115,\n",
       "            0.71165,     0.71485,     0.71693,     0.71876,     0.72272,     0.72632,     0.72665,     0.72698,     0.72731,     0.72911,     0.73081,     0.73239,     0.73356,     0.73418,      0.7348,     0.73542,     0.73604,     0.73825,     0.73912,     0.74158,     0.74316,     0.74542,     0.74579,\n",
       "            0.74616,     0.74654,     0.74691,     0.75057,     0.75327,     0.75372,     0.75417,     0.75463,      0.7554,     0.75459,     0.75378,     0.75449,     0.75617,     0.75841,     0.75874,     0.75907,      0.7594,     0.75973,     0.75877,     0.75898,      0.7598,      0.7617,     0.76566,\n",
       "             0.7663,     0.76693,     0.76963,      0.7693,      0.7698,      0.7703,      0.7708,     0.77173,     0.77262,     0.77304,     0.77347,     0.77389,      0.7746,     0.77579,      0.7748,     0.77382,     0.77297,     0.77235,     0.77173,     0.77111,     0.77072,     0.77197,     0.77258,\n",
       "            0.77303,     0.77347,     0.77124,     0.76954,      0.7681,     0.76699,     0.76589,     0.76316,     0.76431,     0.76558,     0.76607,     0.76468,     0.76399,      0.7645,     0.76501,     0.76555,     0.76642,     0.76732,      0.7684,     0.77111,     0.77205,     0.77256,     0.77289,\n",
       "            0.77322,     0.77354,     0.77387,     0.77418,     0.77446,     0.77474,     0.77502,      0.7753,     0.77558,     0.77591,     0.77642,     0.77693,     0.77744,     0.77819,     0.77899,     0.78106,     0.78187,     0.78267,     0.77989,      0.7792,     0.77851,     0.77782,     0.77743,\n",
       "            0.77819,     0.77895,     0.77824,     0.77732,     0.77641,     0.77646,     0.77671,     0.77696,      0.7772,     0.77745,      0.7777,     0.77794,     0.77828,     0.77866,     0.77905,     0.77943,     0.77984,     0.78255,     0.78295,     0.78185,     0.78076,     0.78187,     0.78352,\n",
       "            0.78241,     0.78147,      0.7824,     0.78318,     0.78289,     0.78261,     0.78232,     0.78203,     0.78174,     0.78145,     0.78117,     0.78088,     0.78059,     0.78026,     0.77979,     0.77932,     0.77885,     0.77838,     0.77792,     0.77765,     0.77853,     0.77941,      0.7803,\n",
       "            0.78118,     0.78149,      0.7818,      0.7821,     0.78241,     0.78272,     0.78302,     0.78322,     0.78341,      0.7836,     0.78379,     0.78399,     0.78418,     0.78437,     0.78456,     0.78475,     0.78588,     0.78843,     0.78577,     0.78606,     0.78634,     0.78663,     0.78691,\n",
       "             0.7872,     0.78748,     0.78716,     0.78646,     0.78576,     0.78506,     0.78389,     0.78218,     0.77875,     0.77596,     0.77706,     0.77762,     0.77717,     0.77672,     0.77627,     0.77582,     0.77538,     0.77493,     0.77654,     0.77622,     0.77591,      0.7756,     0.77529,\n",
       "            0.77497,     0.77466,     0.77435,     0.77403,     0.77372,     0.77344,     0.77316,     0.77289,     0.77261,     0.77233,     0.77205,     0.77177,     0.77149,     0.77121,     0.77093,      0.7709,     0.77149,     0.77208,     0.77278,     0.77433,     0.77459,     0.77469,     0.77478,\n",
       "            0.77488,     0.77498,     0.77507,     0.77517,     0.77526,     0.77536,     0.77545,     0.77555,     0.77564,     0.77574,     0.77583,     0.77593,     0.77602,     0.77612,     0.77621,     0.77631,      0.7764,     0.77811,     0.77674,     0.77537,     0.77606,     0.77685,     0.77769,\n",
       "            0.77856,     0.77942,     0.78021,       0.781,     0.78009,     0.77896,     0.77812,     0.77844,     0.77876,     0.77908,      0.7794,     0.77972,     0.77998,     0.77975,     0.77952,     0.77929,     0.77907,     0.77884,     0.77861,     0.77838,     0.77815,     0.77793,      0.7777,\n",
       "            0.77747,     0.77724,     0.77701,     0.77745,     0.77817,      0.7789,      0.7798,     0.78069,      0.7825,     0.78311,     0.78345,     0.78379,     0.78413,     0.78447,      0.7848,     0.78412,     0.78342,     0.78271,     0.78201,     0.78205,     0.78259,     0.78314,     0.78368,\n",
       "            0.78423,     0.78477,     0.78532,     0.78483,     0.78243,     0.78185,     0.78127,     0.78069,     0.78011,     0.77952,     0.78045,     0.78148,     0.78065,     0.77979,     0.77893,     0.78104,     0.78173,     0.77988,     0.77552,      0.7747,     0.77388,     0.77306,     0.77305,\n",
       "            0.77333,     0.77361,     0.77388,     0.77416,     0.77443,     0.77471,     0.77502,     0.77539,     0.77575,     0.77611,     0.77647,     0.77684,     0.77644,     0.77586,     0.77529,     0.77472,     0.77414,     0.77334,     0.77169,     0.77071,     0.77176,     0.77312,     0.77431,\n",
       "             0.7736,      0.7729,      0.7722,     0.77149,     0.77087,     0.77029,     0.76971,     0.76912,     0.76854,     0.76772,     0.76474,     0.76509,     0.76545,      0.7658,     0.76615,      0.7665,     0.76703,     0.76808,     0.76876,     0.76855,     0.76835,     0.76815,     0.76794,\n",
       "            0.76774,     0.76754,     0.76734,     0.76713,     0.76693,     0.76673,     0.76652,     0.76632,     0.76612,     0.76591,     0.76571,     0.76551,     0.76522,     0.76493,     0.76464,     0.76435,     0.76406,     0.76376,     0.76347,     0.76318,     0.76289,      0.7626,     0.76231,\n",
       "            0.76237,      0.7628,     0.76322,     0.76365,     0.76407,     0.76209,     0.76224,     0.76366,     0.76473,     0.76588,     0.76414,     0.76429,     0.76501,     0.76573,      0.7661,     0.76641,     0.76672,     0.76703,     0.76734,     0.76765,     0.76796,     0.76827,     0.76858,\n",
       "             0.7689,     0.76921,     0.76952,     0.76983,     0.76944,     0.76868,     0.76809,     0.76751,     0.76692,     0.76633,     0.76574,     0.76165,     0.76094,     0.76023,     0.75952,      0.7588,     0.75758,     0.75578,     0.75455,     0.75383,     0.75311,     0.75239,     0.75167,\n",
       "             0.7517,     0.75213,     0.75257,     0.75301,     0.75344,     0.75396,     0.75451,     0.75506,     0.75561,     0.75277,     0.75351,     0.75424,     0.75343,     0.75251,      0.7516,      0.7507,     0.75017,     0.74965,     0.74912,      0.7486,     0.74807,     0.74754,     0.74674,\n",
       "            0.74489,     0.74336,     0.74274,     0.74212,      0.7415,     0.74088,     0.74026,     0.74003,      0.7404,     0.74077,     0.74113,      0.7415,     0.74186,     0.74218,     0.74246,     0.74274,     0.74301,     0.74329,     0.74356,     0.74384,     0.74412,      0.7446,     0.74516,\n",
       "            0.74571,     0.74627,     0.74678,     0.74727,     0.74777,     0.74827,     0.74871,     0.74908,     0.74946,     0.74984,     0.75021,     0.75058,     0.75078,     0.75085,     0.75093,       0.751,     0.75108,     0.75115,     0.75122,      0.7513,     0.75137,     0.75145,     0.75152,\n",
       "             0.7516,     0.75167,     0.75174,     0.75182,     0.75189,     0.75197,     0.75204,     0.75212,     0.75219,     0.75226,     0.75234,     0.75241,     0.75249,     0.75256,     0.75263,     0.75271,     0.75278,     0.75286,     0.75293,     0.75304,     0.75316,     0.75328,      0.7534,\n",
       "            0.75352,     0.75364,     0.75376,     0.75388,       0.754,     0.75412,     0.75424,     0.75436,     0.75448,      0.7546,     0.75472,     0.75484,     0.75496,     0.75508,     0.75527,     0.75562,     0.75598,     0.75633,     0.75668,     0.75703,     0.75738,     0.75618,     0.75492,\n",
       "            0.75356,     0.75007,     0.75122,     0.75195,      0.7494,       0.746,     0.74714,     0.74736,     0.74758,      0.7478,     0.74802,     0.74824,     0.74846,     0.74868,      0.7489,     0.74912,     0.74558,     0.74587,     0.74616,     0.74645,     0.74674,     0.74703,     0.74732,\n",
       "            0.74761,     0.74734,     0.74674,     0.74614,     0.74554,     0.74494,     0.74433,     0.73981,     0.73893,     0.73805,     0.73717,     0.73629,     0.73052,     0.72851,     0.72785,     0.72728,      0.7267,     0.72612,     0.72555,     0.72497,     0.72433,     0.72317,     0.72201,\n",
       "            0.72085,     0.72096,     0.72162,     0.72227,     0.72216,     0.72012,     0.71784,     0.71509,     0.71413,     0.71344,     0.71275,     0.71206,     0.71137,     0.71068,     0.70992,     0.70917,     0.70841,     0.70765,     0.70689,     0.70626,      0.7057,     0.70514,     0.70459,\n",
       "            0.70403,     0.70347,     0.70291,     0.70112,     0.69816,     0.69745,     0.69675,     0.69604,     0.69533,     0.69462,     0.69373,     0.69266,     0.69159,     0.69052,     0.69146,     0.68742,     0.68634,     0.68526,     0.68417,     0.67643,      0.6745,     0.67339,     0.67229,\n",
       "            0.67118,     0.67072,     0.67038,     0.67004,      0.6697,     0.66935,     0.66901,     0.66867,     0.66833,     0.66798,     0.66764,      0.6673,     0.66695,     0.66648,     0.66537,     0.66425,     0.66312,     0.66151,      0.6585,     0.65765,     0.65733,     0.65702,     0.65671,\n",
       "             0.6564,     0.65608,     0.65577,     0.65546,     0.65514,     0.65483,     0.65452,      0.6542,     0.65389,     0.65357,     0.65292,      0.6521,     0.65126,     0.65043,      0.6496,     0.64871,     0.64769,     0.64667,     0.64565,     0.64462,     0.64572,      0.6434,     0.64001,\n",
       "            0.63235,       0.631,     0.62964,     0.62822,     0.62584,     0.62361,     0.62254,     0.62148,     0.62041,     0.61934,      0.6173,     0.61488,      0.6135,     0.61242,     0.61134,     0.61026,     0.60884,     0.60688,     0.60492,     0.60378,     0.60268,     0.60159,     0.60049,\n",
       "            0.59724,     0.58736,      0.5823,     0.57962,     0.57834,     0.57707,     0.57579,      0.5742,     0.57248,     0.57077,     0.56456,     0.56195,     0.55934,     0.55671,       0.553,     0.54769,     0.54499,     0.54539,      0.5458,      0.5462,      0.5466,     0.53603,     0.53385,\n",
       "            0.53167,     0.52912,     0.52637,     0.51935,     0.51563,      0.5022,     0.49171,     0.48881,     0.48493,     0.47909,     0.47395,        0.47,     0.46111,      0.4581,     0.44021,      0.4397,     0.43924,     0.43878,     0.43833,     0.43787,     0.43741,     0.43695,     0.43649,\n",
       "            0.43603,     0.43557,     0.43511,     0.43465,     0.43419,     0.42796,     0.42585,     0.42374,     0.41001,     0.40743,     0.40484,      0.4016,     0.39827,     0.38534,      0.3809,     0.37832,      0.3771,     0.37588,     0.37466,     0.37343,     0.37189,     0.36918,     0.36646,\n",
       "            0.36232,     0.35875,     0.35738,       0.356,     0.35462,     0.35324,     0.35125,     0.34848,     0.34569,     0.33705,     0.33352,     0.31749,     0.31065,     0.30773,     0.30481,     0.30273,     0.30109,     0.29946,     0.29782,      0.2953,     0.29035,     0.28765,     0.28551,\n",
       "            0.28337,     0.27173,     0.26598,     0.26291,     0.25982,     0.25673,     0.25363,      0.2444,     0.24125,     0.23809,     0.23202,     0.22401,     0.21294,     0.21061,     0.20828,     0.20594,     0.20122,     0.19571,     0.19015,     0.16366,      0.1615,     0.15935,     0.15718,\n",
       "            0.15407,     0.14971,     0.14321,     0.13789,     0.13592,     0.13395,     0.13197,      0.1297,     0.12523,     0.12048,     0.11446,     0.11084,     0.10824,     0.10563,    0.093441,    0.088796,    0.083598,    0.077335,    0.075374,    0.074024,    0.072671,    0.071317,    0.069961,\n",
       "           0.068604,    0.067263,     0.06631,    0.065356,    0.064401,    0.063446,    0.062489,    0.061531,    0.060573,    0.059613,    0.058653,    0.052358,    0.040713,    0.038213,    0.037231,    0.036248,    0.035264,    0.034279,    0.033294,    0.032307,    0.031319,     0.03033,    0.029283,\n",
       "            0.02748,    0.025675,    0.023866,    0.022054,    0.020239,    0.019404,    0.018978,    0.018552,    0.018126,      0.0177,    0.017274,    0.016847,     0.01642,    0.015993,    0.015566,    0.015138,    0.014711,    0.014283,    0.013855,    0.013427,    0.012999,     0.01257,    0.012142,\n",
       "           0.011713,    0.011284,    0.010855,    0.010425,   0.0099956,           0,           0,           0,           0,           0,           0,           0,           0,           0,           0,           0,           0,           0,           0,           0,           0,           0,           0,\n",
       "                  0,           0,           0,           0,           0,           0,           0,           0,           0,           0,           0]]), 'Confidence', 'F1'], [array([          0,    0.001001,    0.002002,    0.003003,    0.004004,    0.005005,    0.006006,    0.007007,    0.008008,    0.009009,     0.01001,    0.011011,    0.012012,    0.013013,    0.014014,    0.015015,    0.016016,    0.017017,    0.018018,    0.019019,     0.02002,    0.021021,    0.022022,    0.023023,\n",
       "          0.024024,    0.025025,    0.026026,    0.027027,    0.028028,    0.029029,     0.03003,    0.031031,    0.032032,    0.033033,    0.034034,    0.035035,    0.036036,    0.037037,    0.038038,    0.039039,     0.04004,    0.041041,    0.042042,    0.043043,    0.044044,    0.045045,    0.046046,    0.047047,\n",
       "          0.048048,    0.049049,     0.05005,    0.051051,    0.052052,    0.053053,    0.054054,    0.055055,    0.056056,    0.057057,    0.058058,    0.059059,     0.06006,    0.061061,    0.062062,    0.063063,    0.064064,    0.065065,    0.066066,    0.067067,    0.068068,    0.069069,     0.07007,    0.071071,\n",
       "          0.072072,    0.073073,    0.074074,    0.075075,    0.076076,    0.077077,    0.078078,    0.079079,     0.08008,    0.081081,    0.082082,    0.083083,    0.084084,    0.085085,    0.086086,    0.087087,    0.088088,    0.089089,     0.09009,    0.091091,    0.092092,    0.093093,    0.094094,    0.095095,\n",
       "          0.096096,    0.097097,    0.098098,    0.099099,      0.1001,      0.1011,      0.1021,      0.1031,      0.1041,     0.10511,     0.10611,     0.10711,     0.10811,     0.10911,     0.11011,     0.11111,     0.11211,     0.11311,     0.11411,     0.11512,     0.11612,     0.11712,     0.11812,     0.11912,\n",
       "           0.12012,     0.12112,     0.12212,     0.12312,     0.12412,     0.12513,     0.12613,     0.12713,     0.12813,     0.12913,     0.13013,     0.13113,     0.13213,     0.13313,     0.13413,     0.13514,     0.13614,     0.13714,     0.13814,     0.13914,     0.14014,     0.14114,     0.14214,     0.14314,\n",
       "           0.14414,     0.14515,     0.14615,     0.14715,     0.14815,     0.14915,     0.15015,     0.15115,     0.15215,     0.15315,     0.15415,     0.15516,     0.15616,     0.15716,     0.15816,     0.15916,     0.16016,     0.16116,     0.16216,     0.16316,     0.16416,     0.16517,     0.16617,     0.16717,\n",
       "           0.16817,     0.16917,     0.17017,     0.17117,     0.17217,     0.17317,     0.17417,     0.17518,     0.17618,     0.17718,     0.17818,     0.17918,     0.18018,     0.18118,     0.18218,     0.18318,     0.18418,     0.18519,     0.18619,     0.18719,     0.18819,     0.18919,     0.19019,     0.19119,\n",
       "           0.19219,     0.19319,     0.19419,      0.1952,      0.1962,      0.1972,      0.1982,      0.1992,      0.2002,      0.2012,      0.2022,      0.2032,      0.2042,     0.20521,     0.20621,     0.20721,     0.20821,     0.20921,     0.21021,     0.21121,     0.21221,     0.21321,     0.21421,     0.21522,\n",
       "           0.21622,     0.21722,     0.21822,     0.21922,     0.22022,     0.22122,     0.22222,     0.22322,     0.22422,     0.22523,     0.22623,     0.22723,     0.22823,     0.22923,     0.23023,     0.23123,     0.23223,     0.23323,     0.23423,     0.23524,     0.23624,     0.23724,     0.23824,     0.23924,\n",
       "           0.24024,     0.24124,     0.24224,     0.24324,     0.24424,     0.24525,     0.24625,     0.24725,     0.24825,     0.24925,     0.25025,     0.25125,     0.25225,     0.25325,     0.25425,     0.25526,     0.25626,     0.25726,     0.25826,     0.25926,     0.26026,     0.26126,     0.26226,     0.26326,\n",
       "           0.26426,     0.26527,     0.26627,     0.26727,     0.26827,     0.26927,     0.27027,     0.27127,     0.27227,     0.27327,     0.27427,     0.27528,     0.27628,     0.27728,     0.27828,     0.27928,     0.28028,     0.28128,     0.28228,     0.28328,     0.28428,     0.28529,     0.28629,     0.28729,\n",
       "           0.28829,     0.28929,     0.29029,     0.29129,     0.29229,     0.29329,     0.29429,      0.2953,      0.2963,      0.2973,      0.2983,      0.2993,      0.3003,      0.3013,      0.3023,      0.3033,      0.3043,     0.30531,     0.30631,     0.30731,     0.30831,     0.30931,     0.31031,     0.31131,\n",
       "           0.31231,     0.31331,     0.31431,     0.31532,     0.31632,     0.31732,     0.31832,     0.31932,     0.32032,     0.32132,     0.32232,     0.32332,     0.32432,     0.32533,     0.32633,     0.32733,     0.32833,     0.32933,     0.33033,     0.33133,     0.33233,     0.33333,     0.33433,     0.33534,\n",
       "           0.33634,     0.33734,     0.33834,     0.33934,     0.34034,     0.34134,     0.34234,     0.34334,     0.34434,     0.34535,     0.34635,     0.34735,     0.34835,     0.34935,     0.35035,     0.35135,     0.35235,     0.35335,     0.35435,     0.35536,     0.35636,     0.35736,     0.35836,     0.35936,\n",
       "           0.36036,     0.36136,     0.36236,     0.36336,     0.36436,     0.36537,     0.36637,     0.36737,     0.36837,     0.36937,     0.37037,     0.37137,     0.37237,     0.37337,     0.37437,     0.37538,     0.37638,     0.37738,     0.37838,     0.37938,     0.38038,     0.38138,     0.38238,     0.38338,\n",
       "           0.38438,     0.38539,     0.38639,     0.38739,     0.38839,     0.38939,     0.39039,     0.39139,     0.39239,     0.39339,     0.39439,      0.3954,      0.3964,      0.3974,      0.3984,      0.3994,      0.4004,      0.4014,      0.4024,      0.4034,      0.4044,     0.40541,     0.40641,     0.40741,\n",
       "           0.40841,     0.40941,     0.41041,     0.41141,     0.41241,     0.41341,     0.41441,     0.41542,     0.41642,     0.41742,     0.41842,     0.41942,     0.42042,     0.42142,     0.42242,     0.42342,     0.42442,     0.42543,     0.42643,     0.42743,     0.42843,     0.42943,     0.43043,     0.43143,\n",
       "           0.43243,     0.43343,     0.43443,     0.43544,     0.43644,     0.43744,     0.43844,     0.43944,     0.44044,     0.44144,     0.44244,     0.44344,     0.44444,     0.44545,     0.44645,     0.44745,     0.44845,     0.44945,     0.45045,     0.45145,     0.45245,     0.45345,     0.45445,     0.45546,\n",
       "           0.45646,     0.45746,     0.45846,     0.45946,     0.46046,     0.46146,     0.46246,     0.46346,     0.46446,     0.46547,     0.46647,     0.46747,     0.46847,     0.46947,     0.47047,     0.47147,     0.47247,     0.47347,     0.47447,     0.47548,     0.47648,     0.47748,     0.47848,     0.47948,\n",
       "           0.48048,     0.48148,     0.48248,     0.48348,     0.48448,     0.48549,     0.48649,     0.48749,     0.48849,     0.48949,     0.49049,     0.49149,     0.49249,     0.49349,     0.49449,      0.4955,      0.4965,      0.4975,      0.4985,      0.4995,      0.5005,      0.5015,      0.5025,      0.5035,\n",
       "            0.5045,     0.50551,     0.50651,     0.50751,     0.50851,     0.50951,     0.51051,     0.51151,     0.51251,     0.51351,     0.51451,     0.51552,     0.51652,     0.51752,     0.51852,     0.51952,     0.52052,     0.52152,     0.52252,     0.52352,     0.52452,     0.52553,     0.52653,     0.52753,\n",
       "           0.52853,     0.52953,     0.53053,     0.53153,     0.53253,     0.53353,     0.53453,     0.53554,     0.53654,     0.53754,     0.53854,     0.53954,     0.54054,     0.54154,     0.54254,     0.54354,     0.54454,     0.54555,     0.54655,     0.54755,     0.54855,     0.54955,     0.55055,     0.55155,\n",
       "           0.55255,     0.55355,     0.55455,     0.55556,     0.55656,     0.55756,     0.55856,     0.55956,     0.56056,     0.56156,     0.56256,     0.56356,     0.56456,     0.56557,     0.56657,     0.56757,     0.56857,     0.56957,     0.57057,     0.57157,     0.57257,     0.57357,     0.57457,     0.57558,\n",
       "           0.57658,     0.57758,     0.57858,     0.57958,     0.58058,     0.58158,     0.58258,     0.58358,     0.58458,     0.58559,     0.58659,     0.58759,     0.58859,     0.58959,     0.59059,     0.59159,     0.59259,     0.59359,     0.59459,      0.5956,      0.5966,      0.5976,      0.5986,      0.5996,\n",
       "            0.6006,      0.6016,      0.6026,      0.6036,      0.6046,     0.60561,     0.60661,     0.60761,     0.60861,     0.60961,     0.61061,     0.61161,     0.61261,     0.61361,     0.61461,     0.61562,     0.61662,     0.61762,     0.61862,     0.61962,     0.62062,     0.62162,     0.62262,     0.62362,\n",
       "           0.62462,     0.62563,     0.62663,     0.62763,     0.62863,     0.62963,     0.63063,     0.63163,     0.63263,     0.63363,     0.63463,     0.63564,     0.63664,     0.63764,     0.63864,     0.63964,     0.64064,     0.64164,     0.64264,     0.64364,     0.64464,     0.64565,     0.64665,     0.64765,\n",
       "           0.64865,     0.64965,     0.65065,     0.65165,     0.65265,     0.65365,     0.65465,     0.65566,     0.65666,     0.65766,     0.65866,     0.65966,     0.66066,     0.66166,     0.66266,     0.66366,     0.66466,     0.66567,     0.66667,     0.66767,     0.66867,     0.66967,     0.67067,     0.67167,\n",
       "           0.67267,     0.67367,     0.67467,     0.67568,     0.67668,     0.67768,     0.67868,     0.67968,     0.68068,     0.68168,     0.68268,     0.68368,     0.68468,     0.68569,     0.68669,     0.68769,     0.68869,     0.68969,     0.69069,     0.69169,     0.69269,     0.69369,     0.69469,      0.6957,\n",
       "            0.6967,      0.6977,      0.6987,      0.6997,      0.7007,      0.7017,      0.7027,      0.7037,      0.7047,     0.70571,     0.70671,     0.70771,     0.70871,     0.70971,     0.71071,     0.71171,     0.71271,     0.71371,     0.71471,     0.71572,     0.71672,     0.71772,     0.71872,     0.71972,\n",
       "           0.72072,     0.72172,     0.72272,     0.72372,     0.72472,     0.72573,     0.72673,     0.72773,     0.72873,     0.72973,     0.73073,     0.73173,     0.73273,     0.73373,     0.73473,     0.73574,     0.73674,     0.73774,     0.73874,     0.73974,     0.74074,     0.74174,     0.74274,     0.74374,\n",
       "           0.74474,     0.74575,     0.74675,     0.74775,     0.74875,     0.74975,     0.75075,     0.75175,     0.75275,     0.75375,     0.75475,     0.75576,     0.75676,     0.75776,     0.75876,     0.75976,     0.76076,     0.76176,     0.76276,     0.76376,     0.76476,     0.76577,     0.76677,     0.76777,\n",
       "           0.76877,     0.76977,     0.77077,     0.77177,     0.77277,     0.77377,     0.77477,     0.77578,     0.77678,     0.77778,     0.77878,     0.77978,     0.78078,     0.78178,     0.78278,     0.78378,     0.78478,     0.78579,     0.78679,     0.78779,     0.78879,     0.78979,     0.79079,     0.79179,\n",
       "           0.79279,     0.79379,     0.79479,      0.7958,      0.7968,      0.7978,      0.7988,      0.7998,      0.8008,      0.8018,      0.8028,      0.8038,      0.8048,     0.80581,     0.80681,     0.80781,     0.80881,     0.80981,     0.81081,     0.81181,     0.81281,     0.81381,     0.81481,     0.81582,\n",
       "           0.81682,     0.81782,     0.81882,     0.81982,     0.82082,     0.82182,     0.82282,     0.82382,     0.82482,     0.82583,     0.82683,     0.82783,     0.82883,     0.82983,     0.83083,     0.83183,     0.83283,     0.83383,     0.83483,     0.83584,     0.83684,     0.83784,     0.83884,     0.83984,\n",
       "           0.84084,     0.84184,     0.84284,     0.84384,     0.84484,     0.84585,     0.84685,     0.84785,     0.84885,     0.84985,     0.85085,     0.85185,     0.85285,     0.85385,     0.85485,     0.85586,     0.85686,     0.85786,     0.85886,     0.85986,     0.86086,     0.86186,     0.86286,     0.86386,\n",
       "           0.86486,     0.86587,     0.86687,     0.86787,     0.86887,     0.86987,     0.87087,     0.87187,     0.87287,     0.87387,     0.87487,     0.87588,     0.87688,     0.87788,     0.87888,     0.87988,     0.88088,     0.88188,     0.88288,     0.88388,     0.88488,     0.88589,     0.88689,     0.88789,\n",
       "           0.88889,     0.88989,     0.89089,     0.89189,     0.89289,     0.89389,     0.89489,      0.8959,      0.8969,      0.8979,      0.8989,      0.8999,      0.9009,      0.9019,      0.9029,      0.9039,      0.9049,     0.90591,     0.90691,     0.90791,     0.90891,     0.90991,     0.91091,     0.91191,\n",
       "           0.91291,     0.91391,     0.91491,     0.91592,     0.91692,     0.91792,     0.91892,     0.91992,     0.92092,     0.92192,     0.92292,     0.92392,     0.92492,     0.92593,     0.92693,     0.92793,     0.92893,     0.92993,     0.93093,     0.93193,     0.93293,     0.93393,     0.93493,     0.93594,\n",
       "           0.93694,     0.93794,     0.93894,     0.93994,     0.94094,     0.94194,     0.94294,     0.94394,     0.94494,     0.94595,     0.94695,     0.94795,     0.94895,     0.94995,     0.95095,     0.95195,     0.95295,     0.95395,     0.95495,     0.95596,     0.95696,     0.95796,     0.95896,     0.95996,\n",
       "           0.96096,     0.96196,     0.96296,     0.96396,     0.96496,     0.96597,     0.96697,     0.96797,     0.96897,     0.96997,     0.97097,     0.97197,     0.97297,     0.97397,     0.97497,     0.97598,     0.97698,     0.97798,     0.97898,     0.97998,     0.98098,     0.98198,     0.98298,     0.98398,\n",
       "           0.98498,     0.98599,     0.98699,     0.98799,     0.98899,     0.98999,     0.99099,     0.99199,     0.99299,     0.99399,     0.99499,       0.996,       0.997,       0.998,       0.999,           1]), array([[   0.072114,    0.072114,     0.11691,     0.15227,     0.18386,     0.20741,     0.23302,     0.25066,      0.2701,     0.28846,     0.29506,      0.3116,     0.32544,     0.33876,     0.35313,     0.36598,     0.37594,     0.38911,     0.39876,     0.40505,     0.41226,     0.41548,     0.41849,\n",
       "             0.4243,      0.4314,     0.43702,     0.44877,     0.45684,     0.46073,     0.46469,     0.47061,     0.47525,     0.47957,     0.48128,      0.4856,     0.49359,     0.49681,      0.5046,     0.50846,      0.5111,     0.51189,     0.51413,     0.51595,     0.51879,     0.52207,      0.5301,\n",
       "            0.53059,     0.53108,     0.53157,     0.53993,     0.54504,     0.54726,     0.55134,     0.55401,     0.55485,     0.55578,     0.55743,     0.56315,     0.56774,     0.57033,     0.57203,     0.57693,     0.57838,     0.57973,     0.58087,     0.58178,     0.58285,     0.58411,     0.58305,\n",
       "            0.58411,     0.58843,     0.59126,     0.59375,     0.59918,     0.60414,      0.6046,     0.60506,     0.60551,     0.60801,     0.61038,     0.61258,     0.61422,     0.61509,     0.61596,     0.61684,     0.61771,     0.62082,     0.62206,     0.62555,     0.62781,     0.63104,     0.63157,\n",
       "             0.6321,     0.63264,     0.63317,     0.63845,     0.64237,     0.64303,     0.64369,     0.64435,     0.64626,     0.64586,     0.64547,     0.64666,     0.64914,     0.65245,     0.65294,     0.65342,     0.65391,      0.6544,     0.65413,      0.6559,     0.65713,     0.65998,     0.66595,\n",
       "            0.66691,     0.66786,     0.67197,     0.67426,     0.67503,      0.6758,     0.67657,       0.678,     0.67938,     0.68004,     0.68069,     0.68135,     0.68245,     0.68438,     0.68393,     0.68348,     0.68309,     0.68281,     0.68253,     0.68224,     0.68224,     0.68419,     0.68516,\n",
       "            0.68586,     0.68656,     0.68604,     0.68527,     0.68461,     0.68411,      0.6836,     0.68236,      0.6842,     0.68624,     0.68754,     0.68691,     0.68681,     0.68765,     0.68848,     0.68935,     0.69076,     0.69222,     0.69397,     0.69841,     0.69996,     0.70079,     0.70133,\n",
       "            0.70188,     0.70242,     0.70296,     0.70347,     0.70393,     0.70439,     0.70485,     0.70531,     0.70578,     0.70633,     0.70718,     0.70803,     0.70888,     0.71012,     0.71145,     0.71491,     0.71627,     0.71762,      0.7166,     0.71631,     0.71601,     0.71572,     0.71574,\n",
       "            0.71704,     0.71834,     0.71814,     0.71775,     0.71736,     0.71765,     0.71807,      0.7185,     0.71892,     0.71934,     0.71976,     0.72019,     0.72076,     0.72142,     0.72208,     0.72275,     0.72345,     0.72813,     0.72942,     0.72897,     0.72851,     0.73067,     0.73449,\n",
       "            0.73404,     0.73375,      0.7354,     0.73683,     0.73671,     0.73659,     0.73648,     0.73636,     0.73624,     0.73612,     0.73601,     0.73589,     0.73577,     0.73564,     0.73544,     0.73525,     0.73506,     0.73487,     0.73468,     0.73475,     0.73633,      0.7379,     0.73949,\n",
       "            0.74107,     0.74163,     0.74219,     0.74274,      0.7433,     0.74386,     0.74441,     0.74475,      0.7451,     0.74545,      0.7458,     0.74615,     0.74649,     0.74684,     0.74719,     0.74754,     0.74958,     0.75423,     0.75353,     0.75406,     0.75458,      0.7551,     0.75563,\n",
       "            0.75615,     0.75668,     0.75671,     0.75644,     0.75617,      0.7559,     0.75545,     0.75479,     0.75345,     0.75245,     0.75452,     0.75581,     0.75563,     0.75546,     0.75528,     0.75511,     0.75493,     0.75476,     0.75823,     0.75811,     0.75799,     0.75787,     0.75775,\n",
       "            0.75763,     0.75751,     0.75738,     0.75726,     0.75714,     0.75703,     0.75693,     0.75682,     0.75671,      0.7566,     0.75649,     0.75638,     0.75628,     0.75617,     0.75606,      0.7563,     0.75744,     0.75859,     0.75993,     0.76294,     0.76345,     0.76363,     0.76382,\n",
       "              0.764,     0.76419,     0.76438,     0.76456,     0.76475,     0.76493,     0.76512,      0.7653,     0.76549,     0.76567,     0.76586,     0.76604,     0.76623,     0.76641,      0.7666,     0.76678,     0.76697,     0.77065,     0.77014,     0.76963,      0.7711,     0.77265,     0.77431,\n",
       "            0.77605,     0.77774,     0.77933,     0.78091,     0.78073,     0.78033,     0.78013,     0.78077,     0.78142,     0.78206,      0.7827,     0.78334,     0.78391,     0.78383,     0.78375,     0.78367,     0.78359,      0.7835,     0.78342,     0.78334,     0.78326,     0.78318,      0.7831,\n",
       "            0.78302,     0.78293,     0.78285,     0.78385,     0.78533,     0.78682,     0.78865,     0.79048,      0.7942,     0.79546,     0.79616,     0.79686,     0.79756,     0.79826,     0.79896,     0.79874,      0.7985,     0.79826,     0.79802,      0.7986,     0.79974,     0.80087,     0.80201,\n",
       "            0.80316,     0.80431,     0.80545,     0.80599,     0.80521,     0.80501,     0.80482,     0.80463,     0.80444,     0.80425,     0.80629,     0.80848,     0.80823,     0.80796,     0.80768,      0.8133,     0.81601,     0.81543,     0.81404,     0.81378,     0.81352,     0.81325,     0.81364,\n",
       "            0.81426,     0.81487,     0.81548,      0.8161,     0.81671,     0.81733,     0.81802,     0.81883,     0.81964,     0.82045,     0.82126,     0.82207,     0.82208,      0.8219,     0.82172,     0.82155,     0.82137,     0.82112,     0.82061,     0.82083,      0.8232,     0.82631,     0.82948,\n",
       "            0.82927,     0.82906,     0.82885,     0.82864,     0.82845,     0.82827,      0.8281,     0.82792,     0.82775,      0.8275,     0.82668,      0.8275,     0.82832,     0.82914,     0.82996,     0.83078,     0.83203,     0.83452,     0.83624,     0.83618,     0.83612,     0.83606,       0.836,\n",
       "            0.83594,     0.83589,     0.83583,     0.83577,     0.83571,     0.83565,     0.83559,     0.83553,     0.83547,     0.83541,     0.83536,      0.8353,     0.83521,     0.83513,     0.83504,     0.83496,     0.83487,     0.83479,      0.8347,     0.83462,     0.83453,     0.83445,     0.83436,\n",
       "            0.83483,     0.83585,     0.83686,     0.83788,      0.8389,     0.83867,     0.84166,     0.84513,     0.84775,     0.85333,     0.85287,     0.85414,     0.85594,     0.85774,     0.85868,     0.85946,     0.86024,     0.86102,      0.8618,     0.86258,     0.86336,     0.86415,     0.86494,\n",
       "            0.86573,     0.86652,     0.86731,      0.8681,      0.8686,     0.87339,     0.87325,     0.87311,     0.87298,     0.87284,      0.8727,     0.87173,     0.87157,      0.8714,     0.87123,     0.87106,     0.87076,     0.87033,     0.87004,     0.86986,     0.86969,     0.86952,     0.86934,\n",
       "            0.87004,     0.87121,     0.87238,     0.87356,     0.87473,     0.87614,     0.87763,     0.87911,      0.8806,     0.88175,     0.88377,     0.88578,     0.88572,     0.88552,     0.88533,     0.88513,     0.88502,      0.8849,     0.88479,     0.88467,     0.88456,     0.88444,     0.88427,\n",
       "            0.88386,     0.88353,     0.88339,     0.88325,     0.88311,     0.88298,     0.88284,     0.88318,     0.88423,     0.88528,     0.88632,     0.88737,     0.88842,     0.88933,     0.89012,     0.89092,     0.89172,     0.89251,     0.89331,     0.89411,      0.8949,     0.89631,     0.89792,\n",
       "            0.89954,     0.90115,     0.90264,     0.90409,     0.90555,       0.907,      0.9083,     0.90941,     0.91052,     0.91163,     0.91273,     0.91384,     0.91442,     0.91464,     0.91486,     0.91508,      0.9153,     0.91552,     0.91574,     0.91597,     0.91619,     0.91641,     0.91663,\n",
       "            0.91685,     0.91707,     0.91729,     0.91751,     0.91773,     0.91796,     0.91818,      0.9184,     0.91862,     0.91884,     0.91906,     0.91928,      0.9195,     0.91972,     0.91994,     0.92017,     0.92039,     0.92061,     0.92083,     0.92117,     0.92153,     0.92189,     0.92225,\n",
       "            0.92261,     0.92297,     0.92333,     0.92369,     0.92405,     0.92441,     0.92477,     0.92513,     0.92549,     0.92585,     0.92621,     0.92657,     0.92693,     0.92729,     0.92786,     0.92893,        0.93,     0.93107,     0.93214,      0.9332,     0.93427,     0.93415,     0.93398,\n",
       "             0.9338,     0.93356,     0.93713,     0.94026,     0.93996,     0.93955,     0.94704,     0.94775,     0.94847,     0.94918,     0.94989,      0.9506,     0.95131,     0.95202,     0.95273,     0.95344,      0.9539,     0.95485,     0.95581,     0.95676,     0.95772,     0.95867,     0.95963,\n",
       "            0.96058,     0.96091,     0.96086,     0.96081,     0.96076,     0.96071,     0.96066,      0.9603,     0.96022,     0.96015,     0.96008,     0.96001,     0.95953,     0.95936,      0.9593,     0.95925,     0.95921,     0.95916,     0.95911,     0.95906,     0.95901,     0.95891,     0.95881,\n",
       "            0.95871,     0.96031,     0.96265,     0.96499,     0.96663,     0.96648,     0.96632,     0.96613,     0.96606,     0.96601,     0.96596,     0.96591,     0.96586,     0.96581,     0.96576,      0.9657,     0.96565,     0.96559,     0.96554,     0.96549,     0.96545,     0.96541,     0.96537,\n",
       "            0.96533,     0.96529,     0.96524,     0.96511,     0.96489,     0.96484,     0.96479,     0.96473,     0.96468,     0.96463,     0.96456,     0.96448,      0.9644,     0.96432,     0.96965,     0.97269,     0.97262,     0.97256,     0.97249,     0.97203,     0.97191,     0.97184,     0.97178,\n",
       "            0.97171,     0.97168,     0.97166,     0.97164,     0.97162,      0.9716,     0.97157,     0.97155,     0.97153,     0.97151,     0.97149,     0.97147,     0.97145,     0.97142,     0.97135,     0.97128,     0.97121,      0.9711,     0.97091,     0.97086,     0.97084,     0.97082,      0.9708,\n",
       "            0.97078,     0.97076,     0.97074,     0.97072,      0.9707,     0.97068,     0.97066,     0.97064,     0.97062,      0.9706,     0.97055,      0.9705,     0.97044,     0.97039,     0.97034,     0.97028,     0.97021,     0.97014,     0.97007,     0.97001,     0.97975,     0.97965,     0.97949,\n",
       "            0.97914,     0.97907,     0.97901,     0.97894,     0.97882,     0.97872,     0.97867,     0.97861,     0.97856,     0.97851,     0.97841,     0.97829,     0.97822,     0.97816,     0.97811,     0.97806,     0.97798,     0.97788,     0.97778,     0.97772,     0.97767,     0.97761,     0.97755,\n",
       "            0.97738,     0.97685,     0.97657,     0.97643,     0.97635,     0.97628,     0.97621,     0.97612,     0.97602,     0.97592,     0.97556,     0.97541,     0.97525,     0.97509,     0.97487,     0.97454,     0.97555,     0.97814,     0.98074,     0.98333,     0.98592,     0.98666,     0.98659,\n",
       "            0.98651,     0.98642,     0.98633,     0.98608,     0.98595,     0.98545,     0.98504,     0.98493,     0.98477,     0.98453,     0.98431,     0.98414,     0.98375,     0.98361,     0.98276,     0.98274,     0.98271,     0.98269,     0.98267,     0.98264,     0.98262,      0.9826,     0.98257,\n",
       "            0.98255,     0.98253,     0.98251,     0.98248,     0.98246,           1,           1,           1,           1,           1,           1,           1,           1,           1,           1,           1,           1,           1,           1,           1,           1,           1,           1,\n",
       "                  1,           1,           1,           1,           1,           1,           1,           1,           1,           1,           1,           1,           1,           1,           1,           1,           1,           1,           1,           1,           1,           1,           1,\n",
       "                  1,           1,           1,           1,           1,           1,           1,           1,           1,           1,           1,           1,           1,           1,           1,           1,           1,           1,           1,           1,           1,           1,           1,\n",
       "                  1,           1,           1,           1,           1,           1,           1,           1,           1,           1,           1,           1,           1,           1,           1,           1,           1,           1,           1,           1,           1,           1,           1,\n",
       "                  1,           1,           1,           1,           1,           1,           1,           1,           1,           1,           1,           1,           1,           1,           1,           1,           1,           1,           1,           1,           1,           1,           1,\n",
       "                  1,           1,           1,           1,           1,           1,           1,           1,           1,           1,           1,           1,           1,           1,           1,           1,           1,           1,           1,           1,           1,           1,           1,\n",
       "                  1,           1,           1,           1,           1,           1,           1,           1,           1,           1,           1,           1,           1,           1,           1,           1,           1,           1,           1,           1,           1,           1,           1,\n",
       "                  1,           1,           1,           1,           1,           1,           1,           1,           1,           1,           1]]), 'Confidence', 'Precision'], [array([          0,    0.001001,    0.002002,    0.003003,    0.004004,    0.005005,    0.006006,    0.007007,    0.008008,    0.009009,     0.01001,    0.011011,    0.012012,    0.013013,    0.014014,    0.015015,    0.016016,    0.017017,    0.018018,    0.019019,     0.02002,    0.021021,    0.022022,    0.023023,\n",
       "          0.024024,    0.025025,    0.026026,    0.027027,    0.028028,    0.029029,     0.03003,    0.031031,    0.032032,    0.033033,    0.034034,    0.035035,    0.036036,    0.037037,    0.038038,    0.039039,     0.04004,    0.041041,    0.042042,    0.043043,    0.044044,    0.045045,    0.046046,    0.047047,\n",
       "          0.048048,    0.049049,     0.05005,    0.051051,    0.052052,    0.053053,    0.054054,    0.055055,    0.056056,    0.057057,    0.058058,    0.059059,     0.06006,    0.061061,    0.062062,    0.063063,    0.064064,    0.065065,    0.066066,    0.067067,    0.068068,    0.069069,     0.07007,    0.071071,\n",
       "          0.072072,    0.073073,    0.074074,    0.075075,    0.076076,    0.077077,    0.078078,    0.079079,     0.08008,    0.081081,    0.082082,    0.083083,    0.084084,    0.085085,    0.086086,    0.087087,    0.088088,    0.089089,     0.09009,    0.091091,    0.092092,    0.093093,    0.094094,    0.095095,\n",
       "          0.096096,    0.097097,    0.098098,    0.099099,      0.1001,      0.1011,      0.1021,      0.1031,      0.1041,     0.10511,     0.10611,     0.10711,     0.10811,     0.10911,     0.11011,     0.11111,     0.11211,     0.11311,     0.11411,     0.11512,     0.11612,     0.11712,     0.11812,     0.11912,\n",
       "           0.12012,     0.12112,     0.12212,     0.12312,     0.12412,     0.12513,     0.12613,     0.12713,     0.12813,     0.12913,     0.13013,     0.13113,     0.13213,     0.13313,     0.13413,     0.13514,     0.13614,     0.13714,     0.13814,     0.13914,     0.14014,     0.14114,     0.14214,     0.14314,\n",
       "           0.14414,     0.14515,     0.14615,     0.14715,     0.14815,     0.14915,     0.15015,     0.15115,     0.15215,     0.15315,     0.15415,     0.15516,     0.15616,     0.15716,     0.15816,     0.15916,     0.16016,     0.16116,     0.16216,     0.16316,     0.16416,     0.16517,     0.16617,     0.16717,\n",
       "           0.16817,     0.16917,     0.17017,     0.17117,     0.17217,     0.17317,     0.17417,     0.17518,     0.17618,     0.17718,     0.17818,     0.17918,     0.18018,     0.18118,     0.18218,     0.18318,     0.18418,     0.18519,     0.18619,     0.18719,     0.18819,     0.18919,     0.19019,     0.19119,\n",
       "           0.19219,     0.19319,     0.19419,      0.1952,      0.1962,      0.1972,      0.1982,      0.1992,      0.2002,      0.2012,      0.2022,      0.2032,      0.2042,     0.20521,     0.20621,     0.20721,     0.20821,     0.20921,     0.21021,     0.21121,     0.21221,     0.21321,     0.21421,     0.21522,\n",
       "           0.21622,     0.21722,     0.21822,     0.21922,     0.22022,     0.22122,     0.22222,     0.22322,     0.22422,     0.22523,     0.22623,     0.22723,     0.22823,     0.22923,     0.23023,     0.23123,     0.23223,     0.23323,     0.23423,     0.23524,     0.23624,     0.23724,     0.23824,     0.23924,\n",
       "           0.24024,     0.24124,     0.24224,     0.24324,     0.24424,     0.24525,     0.24625,     0.24725,     0.24825,     0.24925,     0.25025,     0.25125,     0.25225,     0.25325,     0.25425,     0.25526,     0.25626,     0.25726,     0.25826,     0.25926,     0.26026,     0.26126,     0.26226,     0.26326,\n",
       "           0.26426,     0.26527,     0.26627,     0.26727,     0.26827,     0.26927,     0.27027,     0.27127,     0.27227,     0.27327,     0.27427,     0.27528,     0.27628,     0.27728,     0.27828,     0.27928,     0.28028,     0.28128,     0.28228,     0.28328,     0.28428,     0.28529,     0.28629,     0.28729,\n",
       "           0.28829,     0.28929,     0.29029,     0.29129,     0.29229,     0.29329,     0.29429,      0.2953,      0.2963,      0.2973,      0.2983,      0.2993,      0.3003,      0.3013,      0.3023,      0.3033,      0.3043,     0.30531,     0.30631,     0.30731,     0.30831,     0.30931,     0.31031,     0.31131,\n",
       "           0.31231,     0.31331,     0.31431,     0.31532,     0.31632,     0.31732,     0.31832,     0.31932,     0.32032,     0.32132,     0.32232,     0.32332,     0.32432,     0.32533,     0.32633,     0.32733,     0.32833,     0.32933,     0.33033,     0.33133,     0.33233,     0.33333,     0.33433,     0.33534,\n",
       "           0.33634,     0.33734,     0.33834,     0.33934,     0.34034,     0.34134,     0.34234,     0.34334,     0.34434,     0.34535,     0.34635,     0.34735,     0.34835,     0.34935,     0.35035,     0.35135,     0.35235,     0.35335,     0.35435,     0.35536,     0.35636,     0.35736,     0.35836,     0.35936,\n",
       "           0.36036,     0.36136,     0.36236,     0.36336,     0.36436,     0.36537,     0.36637,     0.36737,     0.36837,     0.36937,     0.37037,     0.37137,     0.37237,     0.37337,     0.37437,     0.37538,     0.37638,     0.37738,     0.37838,     0.37938,     0.38038,     0.38138,     0.38238,     0.38338,\n",
       "           0.38438,     0.38539,     0.38639,     0.38739,     0.38839,     0.38939,     0.39039,     0.39139,     0.39239,     0.39339,     0.39439,      0.3954,      0.3964,      0.3974,      0.3984,      0.3994,      0.4004,      0.4014,      0.4024,      0.4034,      0.4044,     0.40541,     0.40641,     0.40741,\n",
       "           0.40841,     0.40941,     0.41041,     0.41141,     0.41241,     0.41341,     0.41441,     0.41542,     0.41642,     0.41742,     0.41842,     0.41942,     0.42042,     0.42142,     0.42242,     0.42342,     0.42442,     0.42543,     0.42643,     0.42743,     0.42843,     0.42943,     0.43043,     0.43143,\n",
       "           0.43243,     0.43343,     0.43443,     0.43544,     0.43644,     0.43744,     0.43844,     0.43944,     0.44044,     0.44144,     0.44244,     0.44344,     0.44444,     0.44545,     0.44645,     0.44745,     0.44845,     0.44945,     0.45045,     0.45145,     0.45245,     0.45345,     0.45445,     0.45546,\n",
       "           0.45646,     0.45746,     0.45846,     0.45946,     0.46046,     0.46146,     0.46246,     0.46346,     0.46446,     0.46547,     0.46647,     0.46747,     0.46847,     0.46947,     0.47047,     0.47147,     0.47247,     0.47347,     0.47447,     0.47548,     0.47648,     0.47748,     0.47848,     0.47948,\n",
       "           0.48048,     0.48148,     0.48248,     0.48348,     0.48448,     0.48549,     0.48649,     0.48749,     0.48849,     0.48949,     0.49049,     0.49149,     0.49249,     0.49349,     0.49449,      0.4955,      0.4965,      0.4975,      0.4985,      0.4995,      0.5005,      0.5015,      0.5025,      0.5035,\n",
       "            0.5045,     0.50551,     0.50651,     0.50751,     0.50851,     0.50951,     0.51051,     0.51151,     0.51251,     0.51351,     0.51451,     0.51552,     0.51652,     0.51752,     0.51852,     0.51952,     0.52052,     0.52152,     0.52252,     0.52352,     0.52452,     0.52553,     0.52653,     0.52753,\n",
       "           0.52853,     0.52953,     0.53053,     0.53153,     0.53253,     0.53353,     0.53453,     0.53554,     0.53654,     0.53754,     0.53854,     0.53954,     0.54054,     0.54154,     0.54254,     0.54354,     0.54454,     0.54555,     0.54655,     0.54755,     0.54855,     0.54955,     0.55055,     0.55155,\n",
       "           0.55255,     0.55355,     0.55455,     0.55556,     0.55656,     0.55756,     0.55856,     0.55956,     0.56056,     0.56156,     0.56256,     0.56356,     0.56456,     0.56557,     0.56657,     0.56757,     0.56857,     0.56957,     0.57057,     0.57157,     0.57257,     0.57357,     0.57457,     0.57558,\n",
       "           0.57658,     0.57758,     0.57858,     0.57958,     0.58058,     0.58158,     0.58258,     0.58358,     0.58458,     0.58559,     0.58659,     0.58759,     0.58859,     0.58959,     0.59059,     0.59159,     0.59259,     0.59359,     0.59459,      0.5956,      0.5966,      0.5976,      0.5986,      0.5996,\n",
       "            0.6006,      0.6016,      0.6026,      0.6036,      0.6046,     0.60561,     0.60661,     0.60761,     0.60861,     0.60961,     0.61061,     0.61161,     0.61261,     0.61361,     0.61461,     0.61562,     0.61662,     0.61762,     0.61862,     0.61962,     0.62062,     0.62162,     0.62262,     0.62362,\n",
       "           0.62462,     0.62563,     0.62663,     0.62763,     0.62863,     0.62963,     0.63063,     0.63163,     0.63263,     0.63363,     0.63463,     0.63564,     0.63664,     0.63764,     0.63864,     0.63964,     0.64064,     0.64164,     0.64264,     0.64364,     0.64464,     0.64565,     0.64665,     0.64765,\n",
       "           0.64865,     0.64965,     0.65065,     0.65165,     0.65265,     0.65365,     0.65465,     0.65566,     0.65666,     0.65766,     0.65866,     0.65966,     0.66066,     0.66166,     0.66266,     0.66366,     0.66466,     0.66567,     0.66667,     0.66767,     0.66867,     0.66967,     0.67067,     0.67167,\n",
       "           0.67267,     0.67367,     0.67467,     0.67568,     0.67668,     0.67768,     0.67868,     0.67968,     0.68068,     0.68168,     0.68268,     0.68368,     0.68468,     0.68569,     0.68669,     0.68769,     0.68869,     0.68969,     0.69069,     0.69169,     0.69269,     0.69369,     0.69469,      0.6957,\n",
       "            0.6967,      0.6977,      0.6987,      0.6997,      0.7007,      0.7017,      0.7027,      0.7037,      0.7047,     0.70571,     0.70671,     0.70771,     0.70871,     0.70971,     0.71071,     0.71171,     0.71271,     0.71371,     0.71471,     0.71572,     0.71672,     0.71772,     0.71872,     0.71972,\n",
       "           0.72072,     0.72172,     0.72272,     0.72372,     0.72472,     0.72573,     0.72673,     0.72773,     0.72873,     0.72973,     0.73073,     0.73173,     0.73273,     0.73373,     0.73473,     0.73574,     0.73674,     0.73774,     0.73874,     0.73974,     0.74074,     0.74174,     0.74274,     0.74374,\n",
       "           0.74474,     0.74575,     0.74675,     0.74775,     0.74875,     0.74975,     0.75075,     0.75175,     0.75275,     0.75375,     0.75475,     0.75576,     0.75676,     0.75776,     0.75876,     0.75976,     0.76076,     0.76176,     0.76276,     0.76376,     0.76476,     0.76577,     0.76677,     0.76777,\n",
       "           0.76877,     0.76977,     0.77077,     0.77177,     0.77277,     0.77377,     0.77477,     0.77578,     0.77678,     0.77778,     0.77878,     0.77978,     0.78078,     0.78178,     0.78278,     0.78378,     0.78478,     0.78579,     0.78679,     0.78779,     0.78879,     0.78979,     0.79079,     0.79179,\n",
       "           0.79279,     0.79379,     0.79479,      0.7958,      0.7968,      0.7978,      0.7988,      0.7998,      0.8008,      0.8018,      0.8028,      0.8038,      0.8048,     0.80581,     0.80681,     0.80781,     0.80881,     0.80981,     0.81081,     0.81181,     0.81281,     0.81381,     0.81481,     0.81582,\n",
       "           0.81682,     0.81782,     0.81882,     0.81982,     0.82082,     0.82182,     0.82282,     0.82382,     0.82482,     0.82583,     0.82683,     0.82783,     0.82883,     0.82983,     0.83083,     0.83183,     0.83283,     0.83383,     0.83483,     0.83584,     0.83684,     0.83784,     0.83884,     0.83984,\n",
       "           0.84084,     0.84184,     0.84284,     0.84384,     0.84484,     0.84585,     0.84685,     0.84785,     0.84885,     0.84985,     0.85085,     0.85185,     0.85285,     0.85385,     0.85485,     0.85586,     0.85686,     0.85786,     0.85886,     0.85986,     0.86086,     0.86186,     0.86286,     0.86386,\n",
       "           0.86486,     0.86587,     0.86687,     0.86787,     0.86887,     0.86987,     0.87087,     0.87187,     0.87287,     0.87387,     0.87487,     0.87588,     0.87688,     0.87788,     0.87888,     0.87988,     0.88088,     0.88188,     0.88288,     0.88388,     0.88488,     0.88589,     0.88689,     0.88789,\n",
       "           0.88889,     0.88989,     0.89089,     0.89189,     0.89289,     0.89389,     0.89489,      0.8959,      0.8969,      0.8979,      0.8989,      0.8999,      0.9009,      0.9019,      0.9029,      0.9039,      0.9049,     0.90591,     0.90691,     0.90791,     0.90891,     0.90991,     0.91091,     0.91191,\n",
       "           0.91291,     0.91391,     0.91491,     0.91592,     0.91692,     0.91792,     0.91892,     0.91992,     0.92092,     0.92192,     0.92292,     0.92392,     0.92492,     0.92593,     0.92693,     0.92793,     0.92893,     0.92993,     0.93093,     0.93193,     0.93293,     0.93393,     0.93493,     0.93594,\n",
       "           0.93694,     0.93794,     0.93894,     0.93994,     0.94094,     0.94194,     0.94294,     0.94394,     0.94494,     0.94595,     0.94695,     0.94795,     0.94895,     0.94995,     0.95095,     0.95195,     0.95295,     0.95395,     0.95495,     0.95596,     0.95696,     0.95796,     0.95896,     0.95996,\n",
       "           0.96096,     0.96196,     0.96296,     0.96396,     0.96496,     0.96597,     0.96697,     0.96797,     0.96897,     0.96997,     0.97097,     0.97197,     0.97297,     0.97397,     0.97497,     0.97598,     0.97698,     0.97798,     0.97898,     0.97998,     0.98098,     0.98198,     0.98298,     0.98398,\n",
       "           0.98498,     0.98599,     0.98699,     0.98799,     0.98899,     0.98999,     0.99099,     0.99199,     0.99299,     0.99399,     0.99499,       0.996,       0.997,       0.998,       0.999,           1]), array([[    0.93532,     0.93532,     0.93532,     0.93035,     0.93035,     0.92537,      0.9204,      0.9204,      0.9204,      0.9204,      0.9204,      0.9204,      0.9204,      0.9204,      0.9204,      0.9204,      0.9204,      0.9204,      0.9204,      0.9204,      0.9204,      0.9204,      0.9204,\n",
       "             0.9204,      0.9204,      0.9204,      0.9204,      0.9204,      0.9204,      0.9204,      0.9204,      0.9204,      0.9204,      0.9204,      0.9204,      0.9204,      0.9204,      0.9204,      0.9204,      0.9204,      0.9204,      0.9204,      0.9204,      0.9204,      0.9204,      0.9204,\n",
       "             0.9204,      0.9204,      0.9204,      0.9204,      0.9204,      0.9204,      0.9204,      0.9204,      0.9204,      0.9204,      0.9204,     0.91542,     0.91542,     0.91542,     0.91542,     0.91542,     0.91542,     0.91542,     0.91542,     0.91542,     0.91542,     0.91542,     0.91139,\n",
       "            0.91045,     0.91045,     0.91045,     0.91045,     0.91045,     0.91045,     0.91045,     0.91045,     0.91045,     0.91045,     0.91045,     0.91045,     0.91045,     0.91045,     0.91045,     0.91045,     0.91045,     0.91045,     0.91045,     0.91045,     0.91045,     0.91045,     0.91045,\n",
       "            0.91045,     0.91045,     0.91045,     0.91045,     0.91045,     0.91045,     0.91045,     0.91045,     0.90891,     0.90734,     0.90577,     0.90547,     0.90547,     0.90547,     0.90547,     0.90547,     0.90547,     0.90547,     0.90328,      0.9005,      0.9005,      0.9005,      0.9005,\n",
       "             0.9005,      0.9005,      0.9005,     0.89552,     0.89552,     0.89552,     0.89552,     0.89552,     0.89552,     0.89552,     0.89552,     0.89552,     0.89552,     0.89538,     0.89353,     0.89167,     0.89009,     0.88892,     0.88776,     0.88659,     0.88557,     0.88557,     0.88557,\n",
       "            0.88557,     0.88557,     0.88059,     0.87745,     0.87477,     0.87273,     0.87069,     0.86567,     0.86567,     0.86567,     0.86485,      0.8623,      0.8607,      0.8607,      0.8607,      0.8607,      0.8607,      0.8607,      0.8607,      0.8607,      0.8607,      0.8607,      0.8607,\n",
       "             0.8607,      0.8607,      0.8607,      0.8607,      0.8607,      0.8607,      0.8607,      0.8607,      0.8607,      0.8607,      0.8607,      0.8607,      0.8607,      0.8607,      0.8607,      0.8607,      0.8607,      0.8607,     0.85544,     0.85421,     0.85297,     0.85174,     0.85075,\n",
       "            0.85075,     0.85075,     0.84931,     0.84767,     0.84604,     0.84577,     0.84577,     0.84577,     0.84577,     0.84577,     0.84577,     0.84577,     0.84577,     0.84577,     0.84577,     0.84577,     0.84577,     0.84577,     0.84496,     0.84301,     0.84107,      0.8408,     0.83955,\n",
       "            0.83761,     0.83582,     0.83582,     0.83576,     0.83525,     0.83475,     0.83425,     0.83374,     0.83324,     0.83273,     0.83223,     0.83173,     0.83122,     0.83064,     0.82983,     0.82901,     0.82819,     0.82738,     0.82656,     0.82587,     0.82587,     0.82587,     0.82587,\n",
       "            0.82587,     0.82587,     0.82587,     0.82587,     0.82587,     0.82587,     0.82587,     0.82587,     0.82587,     0.82587,     0.82587,     0.82587,     0.82587,     0.82587,     0.82587,     0.82587,     0.82587,     0.82587,      0.8209,      0.8209,      0.8209,      0.8209,      0.8209,\n",
       "             0.8209,      0.8209,     0.82016,     0.81896,     0.81776,     0.81656,     0.81455,     0.81164,     0.80581,       0.801,       0.801,     0.80073,     0.79998,     0.79922,     0.79847,     0.79771,     0.79695,      0.7962,     0.79575,     0.79523,      0.7947,     0.79418,     0.79366,\n",
       "            0.79313,     0.79261,     0.79209,     0.79156,     0.79104,     0.79058,     0.79011,     0.78965,     0.78919,     0.78872,     0.78826,      0.7878,     0.78733,     0.78687,     0.78641,     0.78607,     0.78607,     0.78607,     0.78607,     0.78607,     0.78607,     0.78607,     0.78607,\n",
       "            0.78607,     0.78607,     0.78607,     0.78607,     0.78607,     0.78607,     0.78607,     0.78607,     0.78607,     0.78607,     0.78607,     0.78607,     0.78607,     0.78607,     0.78607,     0.78607,     0.78607,     0.78572,     0.78345,     0.78119,     0.78109,     0.78109,     0.78109,\n",
       "            0.78109,     0.78109,     0.78109,     0.78109,     0.77945,      0.7776,     0.77612,     0.77612,     0.77612,     0.77612,     0.77612,     0.77612,     0.77608,     0.77571,     0.77534,     0.77497,      0.7746,     0.77423,     0.77385,     0.77348,     0.77311,     0.77274,     0.77237,\n",
       "              0.772,     0.77163,     0.77126,     0.77114,     0.77114,     0.77114,     0.77114,     0.77114,     0.77114,     0.77114,     0.77114,     0.77114,     0.77114,     0.77114,     0.77114,     0.77003,      0.7689,     0.76776,     0.76663,     0.76617,     0.76617,     0.76617,     0.76617,\n",
       "            0.76617,     0.76617,     0.76617,     0.76475,     0.76091,     0.75999,     0.75906,     0.75813,     0.75721,     0.75628,     0.75622,     0.75622,     0.75488,     0.75352,     0.75216,     0.75124,     0.75022,     0.74731,     0.74047,      0.7392,     0.73792,     0.73665,     0.73632,\n",
       "            0.73632,     0.73632,     0.73632,     0.73632,     0.73632,     0.73632,     0.73632,     0.73632,     0.73632,     0.73632,     0.73632,     0.73632,      0.7356,     0.73471,     0.73382,     0.73294,     0.73205,     0.73082,     0.72827,     0.72637,     0.72637,     0.72637,     0.72602,\n",
       "            0.72494,     0.72387,      0.7228,     0.72172,     0.72078,     0.71989,       0.719,     0.71812,     0.71723,     0.71599,     0.71144,     0.71144,     0.71144,     0.71144,     0.71144,     0.71144,     0.71144,     0.71144,     0.71135,     0.71105,     0.71074,     0.71044,     0.71013,\n",
       "            0.70983,     0.70952,     0.70922,     0.70891,     0.70861,     0.70831,       0.708,      0.7077,     0.70739,     0.70709,     0.70678,     0.70648,     0.70605,     0.70562,     0.70518,     0.70475,     0.70431,     0.70388,     0.70345,     0.70301,     0.70258,     0.70214,     0.70171,\n",
       "            0.70149,     0.70149,     0.70149,     0.70149,     0.70149,     0.69833,     0.69652,     0.69652,     0.69652,     0.69468,     0.69213,     0.69154,     0.69154,     0.69154,     0.69154,     0.69154,     0.69154,     0.69154,     0.69154,     0.69154,     0.69154,     0.69154,     0.69154,\n",
       "            0.69154,     0.69154,     0.69154,     0.69154,     0.69061,     0.68639,     0.68554,     0.68469,     0.68384,     0.68299,     0.68214,     0.67626,     0.67524,     0.67422,      0.6732,     0.67218,     0.67043,     0.66788,     0.66613,     0.66511,     0.66409,     0.66307,     0.66205,\n",
       "            0.66169,     0.66169,     0.66169,     0.66169,     0.66169,     0.66169,     0.66169,     0.66169,     0.66169,     0.65672,     0.65672,     0.65672,     0.65552,     0.65424,     0.65297,     0.65171,     0.65099,     0.65026,     0.64953,      0.6488,     0.64807,     0.64734,     0.64624,\n",
       "            0.64369,     0.64157,     0.64072,     0.63987,     0.63902,     0.63817,     0.63732,     0.63682,     0.63682,     0.63682,     0.63682,     0.63682,     0.63682,     0.63682,     0.63682,     0.63682,     0.63682,     0.63682,     0.63682,     0.63682,     0.63682,     0.63682,     0.63682,\n",
       "            0.63682,     0.63682,     0.63682,     0.63682,     0.63682,     0.63682,     0.63682,     0.63682,     0.63682,     0.63682,     0.63682,     0.63682,     0.63682,     0.63682,     0.63682,     0.63682,     0.63682,     0.63682,     0.63682,     0.63682,     0.63682,     0.63682,     0.63682,\n",
       "            0.63682,     0.63682,     0.63682,     0.63682,     0.63682,     0.63682,     0.63682,     0.63682,     0.63682,     0.63682,     0.63682,     0.63682,     0.63682,     0.63682,     0.63682,     0.63682,     0.63682,     0.63682,     0.63682,     0.63682,     0.63682,     0.63682,     0.63682,\n",
       "            0.63682,     0.63682,     0.63682,     0.63682,     0.63682,     0.63682,     0.63682,     0.63682,     0.63682,     0.63682,     0.63682,     0.63682,     0.63682,     0.63682,     0.63682,     0.63682,     0.63682,     0.63682,     0.63682,     0.63682,     0.63682,     0.63517,     0.63347,\n",
       "            0.63164,     0.62687,     0.62687,     0.62648,     0.62308,     0.61858,     0.61692,     0.61692,     0.61692,     0.61692,     0.61692,     0.61692,     0.61692,     0.61692,     0.61692,     0.61692,     0.61194,     0.61194,     0.61194,     0.61194,     0.61194,     0.61194,     0.61194,\n",
       "            0.61194,     0.61145,     0.61067,     0.60988,      0.6091,     0.60831,     0.60753,     0.60167,     0.60053,      0.5994,     0.59827,     0.59714,     0.58976,     0.58721,     0.58638,     0.58565,     0.58492,     0.58419,     0.58346,     0.58274,     0.58192,     0.58047,     0.57901,\n",
       "            0.57755,     0.57711,     0.57711,     0.57711,     0.57639,     0.57384,     0.57101,     0.56761,     0.56642,     0.56557,     0.56472,     0.56387,     0.56302,     0.56217,     0.56125,     0.56032,     0.55939,     0.55846,     0.55754,     0.55677,     0.55609,     0.55541,     0.55473,\n",
       "            0.55405,     0.55337,     0.55269,     0.55054,     0.54696,     0.54611,     0.54526,     0.54441,     0.54356,     0.54271,     0.54164,     0.54037,      0.5391,     0.53782,     0.53731,     0.53154,     0.53026,     0.52899,     0.52771,     0.51869,     0.51646,     0.51518,     0.51391,\n",
       "            0.51263,     0.51211,     0.51171,     0.51132,     0.51093,     0.51054,     0.51014,     0.50975,     0.50936,     0.50897,     0.50858,     0.50818,     0.50779,     0.50725,     0.50598,      0.5047,     0.50343,      0.5016,      0.4982,     0.49723,     0.49688,     0.49653,     0.49618,\n",
       "            0.49582,     0.49547,     0.49512,     0.49477,     0.49442,     0.49407,     0.49371,     0.49336,     0.49301,     0.49266,     0.49193,     0.49101,     0.49008,     0.48915,     0.48822,     0.48724,      0.4861,     0.48497,     0.48384,      0.4827,     0.48154,       0.479,     0.47528,\n",
       "            0.46696,      0.4655,     0.46405,     0.46251,     0.45996,     0.45758,     0.45645,     0.45531,     0.45418,     0.45305,     0.45088,     0.44834,     0.44688,     0.44575,     0.44462,     0.44348,       0.442,     0.43996,     0.43792,     0.43674,     0.43561,     0.43447,     0.43334,\n",
       "               0.43,     0.41993,     0.41483,     0.41213,     0.41086,     0.40958,     0.40831,     0.40673,     0.40503,     0.40333,     0.39721,     0.39466,     0.39211,     0.38956,     0.38597,     0.38087,     0.37811,     0.37811,     0.37811,     0.37811,     0.37811,     0.36797,     0.36593,\n",
       "            0.36389,     0.36152,     0.35897,      0.3525,      0.3491,     0.33696,     0.32762,     0.32507,     0.32166,     0.31657,     0.31212,     0.30872,     0.30113,     0.29858,     0.28363,     0.28321,     0.28283,     0.28245,     0.28207,     0.28169,     0.28132,     0.28094,     0.28056,\n",
       "            0.28018,     0.27981,     0.27943,     0.27905,     0.27867,     0.27223,     0.27053,     0.26883,     0.25787,     0.25583,     0.25379,     0.25125,     0.24865,     0.23865,     0.23525,     0.23329,     0.23236,     0.23144,     0.23051,     0.22958,     0.22842,     0.22638,     0.22434,\n",
       "            0.22124,     0.21859,     0.21757,     0.21655,     0.21553,     0.21451,     0.21304,       0.211,     0.20896,     0.20268,     0.20013,      0.1887,     0.18389,     0.18185,     0.17981,     0.17836,     0.17723,      0.1761,     0.17496,     0.17323,     0.16983,     0.16799,     0.16653,\n",
       "            0.16507,     0.15723,     0.15339,     0.15135,     0.14931,     0.14727,     0.14523,     0.13921,     0.13717,     0.13513,     0.13123,     0.12613,     0.11916,      0.1177,     0.11624,     0.11479,     0.11187,     0.10847,     0.10507,     0.08912,    0.087845,     0.08657,    0.085295,\n",
       "           0.083464,    0.080914,    0.077127,    0.074049,    0.072916,    0.071783,    0.070649,    0.069347,    0.066797,    0.064104,    0.060704,    0.058674,    0.057217,     0.05576,     0.04901,    0.046461,    0.043622,    0.040223,    0.039163,    0.038434,    0.037706,    0.036977,    0.036249,\n",
       "            0.03552,    0.034802,    0.034292,    0.033782,    0.033272,    0.032762,    0.032252,    0.031742,    0.031232,    0.030722,    0.030212,    0.026883,    0.020779,    0.019478,    0.018968,    0.018459,    0.017949,    0.017439,    0.016929,    0.016419,    0.015909,    0.015399,    0.014859,\n",
       "           0.013932,    0.013004,    0.012077,     0.01115,    0.010223,    0.009797,     0.00958,    0.009363,    0.009146,    0.008929,    0.008712,    0.008495,    0.008278,    0.008061,    0.007844,    0.007627,     0.00741,    0.007193,    0.006976,    0.006759,    0.006542,   0.0063249,   0.0061079,\n",
       "          0.0058909,   0.0056739,   0.0054569,   0.0052399,   0.0050229,           0,           0,           0,           0,           0,           0,           0,           0,           0,           0,           0,           0,           0,           0,           0,           0,           0,           0,\n",
       "                  0,           0,           0,           0,           0,           0,           0,           0,           0,           0,           0]]), 'Confidence', 'Recall']]\n",
       "fitness: 1.3952700690554924\n",
       "keys: ['metrics/precision(B)', 'metrics/recall(B)', 'metrics/mAP50(B)', 'metrics/mAP50-95(B)', 'metrics/precision(M)', 'metrics/recall(M)', 'metrics/mAP50(M)', 'metrics/mAP50-95(M)']\n",
       "maps: array([     1.3609])\n",
       "names: {0: 'duck'}\n",
       "plot: True\n",
       "results_dict: {'metrics/precision(B)': 0.7323216591869406, 'metrics/recall(B)': 0.8302781007160345, 'metrics/mAP50(B)': 0.849651986791269, 'metrics/mAP50-95(B)': 0.6829792746635958, 'metrics/precision(M)': 0.7357709273450659, 'metrics/recall(M)': 0.8312238901883272, 'metrics/mAP50(M)': 0.8552846839870569, 'metrics/mAP50-95(M)': 0.6778833942004707, 'fitness': 1.3952700690554924}\n",
       "save_dir: PosixPath('runs/segment/train2')\n",
       "seg: ultralytics.utils.metrics.Metric object\n",
       "speed: {'preprocess': 1.3047854105631511, 'inference': 4.104056686320633, 'loss': 0.0006458746693121693, 'postprocess': 4.062444444686648}\n",
       "task: 'segment'"
      ]
     },
     "execution_count": 5,
     "metadata": {},
     "output_type": "execute_result"
    }
   ],
   "source": [
    "from ultralytics import YOLO\n",
    "\n",
    "model = YOLO('yolov8n-seg.pt') # Loading pretrained model\n",
    "\n",
    "model.train(data='config.yaml', epochs=10, imgsz=640) # Training pretrained model"
   ]
  },
  {
   "cell_type": "markdown",
   "id": "8ac83c9b",
   "metadata": {},
   "source": [
    "The outcome results from YOLOv8 are stored in `runs/`."
   ]
  },
  {
   "cell_type": "markdown",
   "id": "02da18c3",
   "metadata": {},
   "source": [
    "---"
   ]
  },
  {
   "cell_type": "markdown",
   "id": "2a4bae27",
   "metadata": {},
   "source": [
    "### Making Predictions using the Trained Model"
   ]
  },
  {
   "cell_type": "code",
   "execution_count": 44,
   "id": "9b211610",
   "metadata": {},
   "outputs": [
    {
     "ename": "ModuleNotFoundError",
     "evalue": "No module named 'ultralytics.yolo.utils.callbacks.clearml'",
     "output_type": "error",
     "traceback": [
      "\u001b[1;31m---------------------------------------------------------------------------\u001b[0m",
      "\u001b[1;31mModuleNotFoundError\u001b[0m                       Traceback (most recent call last)",
      "Cell \u001b[1;32mIn[44], line 14\u001b[0m\n\u001b[0;32m     10\u001b[0m H, W, C \u001b[38;5;241m=\u001b[39m img\u001b[38;5;241m.\u001b[39mshape\n\u001b[0;32m     12\u001b[0m model \u001b[38;5;241m=\u001b[39m YOLO(model_path)\n\u001b[1;32m---> 14\u001b[0m results \u001b[38;5;241m=\u001b[39m model(img)\n\u001b[0;32m     16\u001b[0m \u001b[38;5;28;01mfor\u001b[39;00m result \u001b[38;5;129;01min\u001b[39;00m results:\n\u001b[0;32m     17\u001b[0m     \u001b[38;5;28;01mfor\u001b[39;00m i, mask \u001b[38;5;129;01min\u001b[39;00m \u001b[38;5;28menumerate\u001b[39m(result\u001b[38;5;241m.\u001b[39mmasks\u001b[38;5;241m.\u001b[39mdata):\n",
      "File \u001b[1;32m~\\anaconda3\\envs\\general\\Lib\\site-packages\\ultralytics\\yolo\\engine\\model.py:111\u001b[0m, in \u001b[0;36m__call__\u001b[1;34m(self, source, stream, **kwargs)\u001b[0m\n",
      "File \u001b[1;32m~\\anaconda3\\envs\\general\\Lib\\site-packages\\torch\\utils\\_contextlib.py:115\u001b[0m, in \u001b[0;36mcontext_decorator.<locals>.decorate_context\u001b[1;34m(*args, **kwargs)\u001b[0m\n\u001b[0;32m    112\u001b[0m \u001b[38;5;129m@functools\u001b[39m\u001b[38;5;241m.\u001b[39mwraps(func)\n\u001b[0;32m    113\u001b[0m \u001b[38;5;28;01mdef\u001b[39;00m \u001b[38;5;21mdecorate_context\u001b[39m(\u001b[38;5;241m*\u001b[39margs, \u001b[38;5;241m*\u001b[39m\u001b[38;5;241m*\u001b[39mkwargs):\n\u001b[0;32m    114\u001b[0m     \u001b[38;5;28;01mwith\u001b[39;00m ctx_factory():\n\u001b[1;32m--> 115\u001b[0m         \u001b[38;5;28;01mreturn\u001b[39;00m func(\u001b[38;5;241m*\u001b[39margs, \u001b[38;5;241m*\u001b[39m\u001b[38;5;241m*\u001b[39mkwargs)\n",
      "File \u001b[1;32m~\\anaconda3\\envs\\general\\Lib\\site-packages\\ultralytics\\yolo\\engine\\model.py:249\u001b[0m, in \u001b[0;36mpredict\u001b[1;34m(self, source, stream, **kwargs)\u001b[0m\n",
      "File \u001b[1;32m~\\anaconda3\\envs\\general\\Lib\\site-packages\\ultralytics\\yolo\\v8\\segment\\predict.py:13\u001b[0m, in \u001b[0;36m__init__\u001b[1;34m(self, cfg, overrides, _callbacks)\u001b[0m\n",
      "File \u001b[1;32m~\\anaconda3\\envs\\general\\Lib\\site-packages\\ultralytics\\yolo\\engine\\predictor.py:109\u001b[0m, in \u001b[0;36m__init__\u001b[1;34m(self, cfg, overrides, _callbacks)\u001b[0m\n",
      "File \u001b[1;32m~\\anaconda3\\envs\\general\\Lib\\site-packages\\ultralytics\\yolo\\utils\\callbacks\\base.py:199\u001b[0m, in \u001b[0;36madd_integration_callbacks\u001b[1;34m(instance)\u001b[0m\n",
      "\u001b[1;31mModuleNotFoundError\u001b[0m: No module named 'ultralytics.yolo.utils.callbacks.clearml'"
     ]
    }
   ],
   "source": [
    "from ultralytics import YOLO\n",
    "import os\n",
    "import cv2\n",
    "\n",
    "model_path = os.path.join('.', 'runs', 'segment', 'train', 'weights', 'last.pt')\n",
    "image_path = 'D:/Personal/Projects/images/computer-vision/duck-segmentation/images/val/7846c34dc0564b10.png'\n",
    "\n",
    "img = cv2.imread(image_path)\n",
    "\n",
    "H, W, C = img.shape\n",
    "\n",
    "model = YOLO(model_path)\n",
    "\n",
    "results = model(img)\n",
    "\n",
    "for result in results:\n",
    "    for i, mask in enumerate(result.masks.data):\n",
    "        mask = mask.numpy()*255\n",
    "        mask = cv2.resize(mask, (W, H))\n",
    "        cv2.imwrite('./output.png', mask)"
   ]
  },
  {
   "cell_type": "code",
   "execution_count": null,
   "id": "75e3afdc",
   "metadata": {},
   "outputs": [],
   "source": []
  }
 ],
 "metadata": {
  "kernelspec": {
   "display_name": "Python [conda env:general]",
   "language": "python",
   "name": "conda-env-general-py"
  },
  "language_info": {
   "codemirror_mode": {
    "name": "ipython",
    "version": 3
   },
   "file_extension": ".py",
   "mimetype": "text/x-python",
   "name": "python",
   "nbconvert_exporter": "python",
   "pygments_lexer": "ipython3",
   "version": "3.11.3"
  }
 },
 "nbformat": 4,
 "nbformat_minor": 5
}
