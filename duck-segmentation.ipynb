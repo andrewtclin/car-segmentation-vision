{
 "cells": [
  {
   "cell_type": "markdown",
   "id": "4d783322",
   "metadata": {},
   "source": [
    "# Duck Segmentation\n",
    "\n",
    "This project builds an ML model that performs segmentation on the images that contain ducks.\n",
    "\n",
    "The architecture used for segmentatic segmention is YOLO (YOLOv8)."
   ]
  },
  {
   "cell_type": "markdown",
   "id": "3e68a7c6",
   "metadata": {},
   "source": [
    "---"
   ]
  },
  {
   "cell_type": "markdown",
   "id": "853a2453",
   "metadata": {},
   "source": [
    "## Image Labelling\n",
    "\n",
    "This image labelling tool used is: CVAT.\n",
    "\n",
    "For segmentation, the annotator used is primarily polygons, with coordinates available to download.\n",
    "\n",
    "<img src='snapshots/image-annotation.png' width='70%' height='auto' />"
   ]
  },
  {
   "cell_type": "markdown",
   "id": "93387a7c",
   "metadata": {},
   "source": [
    "With this, the **binary mask** is created for the respected image.\n",
    "\n",
    "<img src='label_samples/masks/00eb7860432c771a.png' width='50%' height='auto' />"
   ]
  },
  {
   "cell_type": "markdown",
   "id": "077d92a9",
   "metadata": {},
   "source": [
    "However, **label coordinates** are required for **YOLOv8**."
   ]
  },
  {
   "cell_type": "markdown",
   "id": "cfb1ab4e",
   "metadata": {},
   "source": [
    "### From binary mask to label coordinates"
   ]
  },
  {
   "cell_type": "code",
   "execution_count": 19,
   "id": "fd555756",
   "metadata": {},
   "outputs": [],
   "source": [
    "import os\n",
    "import cv2\n",
    "\n",
    "mask_dir = os.path.join('.', 'label_samples', 'masks')\n",
    "label_dir = os.path.join('.', 'label_samples', 'labels')\n",
    "\n",
    "for file in os.listdir(mask_dir):\n",
    "    mask_path = os.path.join(mask_dir, file)\n",
    "    \n",
    "    # Load binary mask\n",
    "    mask = cv2.imread(mask_path, cv2.IMREAD_GRAYSCALE)\n",
    "    _, mask = cv2.threshold(mask, 1, 255, cv2.THRESH_BINARY)\n",
    "    \n",
    "    mask_h, mask_w = mask.shape\n",
    "    contours, hierarchy = cv2.findContours(mask, cv2.RETR_EXTERNAL, cv2.CHAIN_APPROX_SIMPLE)\n",
    "    \n",
    "    # Converting contours to coordinates (polygons)\n",
    "    coordinates = []\n",
    "    for cnt in contours:\n",
    "        if cv2.contourArea(cnt) > 200:\n",
    "            coordinate = []\n",
    "            for point in cnt:\n",
    "                x, y = point[0]\n",
    "                coordinate.append(x / mask_w)\n",
    "                coordinate.append(y / mask_h)\n",
    "            coordinates.append(coordinate)\n",
    "            \n",
    "    # Printing coordinates\n",
    "    with open('{}.txt'.format(os.path.join(label_dir, file)[:-4]), 'w') as f:\n",
    "        for coordinate in coordinates:\n",
    "            for p_, p in enumerate(coordinate):\n",
    "                if p_ == len(coordinate) - 1:\n",
    "                    f.write('{}\\n'.format(p))\n",
    "                elif p_ == 0:\n",
    "                    f.write('0 {} '.format(p))\n",
    "                else:\n",
    "                    f.write('{} '.format(p))\n",
    "\n",
    "        f.close()"
   ]
  },
  {
   "cell_type": "markdown",
   "id": "22b4c8aa",
   "metadata": {},
   "source": [
    "---"
   ]
  },
  {
   "cell_type": "markdown",
   "id": "ed5b5d93",
   "metadata": {},
   "source": [
    "## Data preprocessing\n",
    "\n",
    "The data structure for this project is:\n",
    "* data/\n",
    "    * images/\n",
    "        * train/\n",
    "        * val/\n",
    "    * labels/\n",
    "        * train/\n",
    "        * val/"
   ]
  },
  {
   "cell_type": "markdown",
   "id": "81af0b5f",
   "metadata": {},
   "source": [
    "---"
   ]
  },
  {
   "cell_type": "markdown",
   "id": "6539349e",
   "metadata": {},
   "source": [
    "## Loading a pretrained model\n",
    "\n",
    "Performing transfer learning."
   ]
  },
  {
   "cell_type": "code",
   "execution_count": 7,
   "id": "7e94398f",
   "metadata": {},
   "outputs": [
    {
     "name": "stdout",
     "output_type": "stream",
     "text": [
      "Overwriting config.yaml\n"
     ]
    }
   ],
   "source": [
    "%%writefile config.yaml\n",
    "path: D:\\Personal\\Projects\\images\\computer-vision\\duck-segmentation # data path\n",
    "train: images/train\n",
    "val: images/val\n",
    "\n",
    "nc: 1 # number of classes\n",
    "names: ['duck'] # lass label"
   ]
  },
  {
   "cell_type": "code",
   "execution_count": null,
   "id": "a9d4ddd8",
   "metadata": {},
   "outputs": [],
   "source": [
    "'''\n",
    "from ultralytics import YOLO\n",
    "\n",
    "model = YOLO('yolov8n-seg.pt') # Loading pretrained model\n",
    "\n",
    "model.train(data='config.yaml', epochs=10, imgsz=640) # Training pretrained model\n",
    "'''"
   ]
  },
  {
   "cell_type": "code",
   "execution_count": null,
   "id": "0f51b582",
   "metadata": {},
   "outputs": [],
   "source": []
  }
 ],
 "metadata": {
  "kernelspec": {
   "display_name": "Python [conda env:general]",
   "language": "python",
   "name": "conda-env-general-py"
  },
  "language_info": {
   "codemirror_mode": {
    "name": "ipython",
    "version": 3
   },
   "file_extension": ".py",
   "mimetype": "text/x-python",
   "name": "python",
   "nbconvert_exporter": "python",
   "pygments_lexer": "ipython3",
   "version": "3.11.3"
  }
 },
 "nbformat": 4,
 "nbformat_minor": 5
}
